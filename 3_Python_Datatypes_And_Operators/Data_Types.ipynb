{
  "nbformat": 4,
  "nbformat_minor": 0,
  "metadata": {
    "colab": {
      "provenance": [],
      "collapsed_sections": [
        "nS3QI_mFmEdh"
      ]
    },
    "kernelspec": {
      "name": "python3",
      "display_name": "Python 3"
    },
    "language_info": {
      "name": "python"
    }
  },
  "cells": [
    {
      "cell_type": "markdown",
      "source": [
        "# Data types:"
      ],
      "metadata": {
        "id": "94IgHEVf6xaU"
      }
    },
    {
      "cell_type": "markdown",
      "source": [
        "In Python, data types are used to classify the type of data a variable holds. Understanding these types is crucial for effective programming. Here are some of the most commonly used data types in Python:\n",
        "\n",
        "## Numeric Types\n",
        "\n",
        "1. **int**: Represents integers, e.g., `5`, `-10`.\n",
        "2. **float**: Represents floating-point numbers (decimals), e.g., `3.14`, `-2.0`.\n",
        "3. **complex**: Represents complex numbers, e.g., `1+2j`, where `j` is the imaginary part.\n",
        "\n",
        "## Sequence Types\n",
        "\n",
        "1. **str**: Represents a sequence of characters (string), e.g., `\"hello\"`, `\"123\"`.\n",
        "2. **list**: Represents an ordered collection of items, e.g., `[1, 2, 3]`, `[\"apple\", \"banana\", \"cherry\"]`.\n",
        "3. **tuple**: Represents an ordered, immutable collection of items, e.g., `(1, 2, 3)`, `(\"a\", \"b\", \"c\")`.\n",
        "4. **range**: Represents a sequence of numbers, often used in loops, e.g., `range(0, 10)`.\n",
        "\n",
        "## Mapping Type\n",
        "\n",
        "1. **dict**: Represents a collection of key-value pairs, e.g., `{\"name\": \"Alice\", \"age\": 25}`.\n",
        "\n",
        "## Set Types\n",
        "\n",
        "1. **set**: Represents an unordered collection of unique items, e.g., `{1, 2, 3}`, `{\"apple\", \"banana\", \"cherry\"}`.\n",
        "2. **frozenset**: Represents an immutable version of a set, e.g., `frozenset([1, 2, 3])`.\n",
        "\n",
        "## Boolean Type\n",
        "\n",
        "1. **bool**: Represents Boolean values, which can be `True` or `False`.\n",
        "\n",
        "## None Type\n",
        "\n",
        "1. **NoneType**: Represents the absence of a value or a null value, e.g., `None`.\n",
        "\n",
        "## Binary Type\n",
        "\n",
        "1. **Base**: 2\n",
        "2. **Digits**: 0, 1\n",
        "\n",
        "Binary is the simplest number system and is the foundation of all computing systems. Each digit in a binary number is called a bit.\n",
        "\n",
        "## Octal (Base 8)\n",
        "\n",
        "1. **Base**: 8\n",
        "2. **Digits**: 0, 1, 2, 3, 4, 5, 6, 7\n",
        "\n",
        "Octal is less commonly used but was more prevalent in older computer systems.\n",
        "\n",
        "## Decimal (Base 10)\n",
        "\n",
        "1. **Base**: 10\n",
        "2. **Digits**: 0, 1, 2, 3, 4, 5, 6, 7, 8, 9\n",
        "\n",
        "Decimal is the standard number system used in everyday life.\n",
        "\n",
        "\n",
        "# Let's discuss them one by one down bellow:"
      ],
      "metadata": {
        "id": "gDlkkek2kuLX"
      }
    },
    {
      "cell_type": "markdown",
      "source": [
        "# Integer:\n",
        "\n",
        "The `int` datatype in Python is used to represent integers, which are whole numbers without any fractional component. Here's a comprehensive overview of the `int` datatype in Python:\n",
        "\n",
        "### Basics\n",
        "\n",
        "- **Definition**: The `int` type represents immutable integer values.\n",
        "- **Syntax**: Integers can be positive, negative, or zero.\n",
        "\n",
        "#### Example\n",
        "\n",
        "```python\n",
        "a = 10       # Positive integer\n",
        "b = -5       # Negative integer\n",
        "c = 0        # Zero\n",
        "```\n",
        "### Integer Representation\n",
        "\n",
        "Python integers are of arbitrary precision, meaning they can grow as large as the memory allows. This is unlike some other programming languages that have fixed-precision integers.\n",
        "\n",
        "### Type Checking\n",
        "\n",
        "You can check if a variable is an integer using the `type()` function or `isinstance()` function.\n",
        "\n",
        "#### Example\n"
      ],
      "metadata": {
        "id": "nS3QI_mFmEdh"
      }
    },
    {
      "cell_type": "code",
      "source": [
        "a = 10\n",
        "print(type(a))          # Output: <class 'int'>\n",
        "print(isinstance(a, int))  # Output: True"
      ],
      "metadata": {
        "colab": {
          "base_uri": "https://localhost:8080/"
        },
        "id": "mP7YJKZCnAhY",
        "outputId": "d9ac54ed-79cb-4e7f-a788-0a8453148772"
      },
      "execution_count": null,
      "outputs": [
        {
          "output_type": "stream",
          "name": "stdout",
          "text": [
            "<class 'int'>\n",
            "True\n"
          ]
        }
      ]
    },
    {
      "cell_type": "markdown",
      "source": [
        "### Arithmetic Operations\n",
        "\n",
        "Integers support various arithmetic operations such as addition, subtraction, multiplication, division, modulus, exponentiation, and floor division.\n",
        "\n",
        "#### Examples\n"
      ],
      "metadata": {
        "id": "TnxgiWsmnHij"
      }
    },
    {
      "cell_type": "code",
      "source": [
        "a = 10\n",
        "b = 3\n",
        "\n",
        "# Addition\n",
        "print(a + b)  # Output: 13\n",
        "\n",
        "# Subtraction\n",
        "print(a - b)  # Output: 7\n",
        "\n",
        "# Multiplication\n",
        "print(a * b)  # Output: 30\n",
        "\n",
        "# Division\n",
        "print(a / b)  # Output: 3.3333333333333335 (float result)\n",
        "\n",
        "# Modulus\n",
        "print(a % b)  # Output: 1\n",
        "\n",
        "# Exponentiation\n",
        "print(a ** b) # Output: 1000\n",
        "\n",
        "# Floor Division\n",
        "print(a // b) # Output: 3\n"
      ],
      "metadata": {
        "colab": {
          "base_uri": "https://localhost:8080/"
        },
        "id": "6Z7Fqo7nnlCQ",
        "outputId": "f101d3f8-974b-4758-89f5-81e066a85ba2"
      },
      "execution_count": null,
      "outputs": [
        {
          "output_type": "stream",
          "name": "stdout",
          "text": [
            "13\n",
            "7\n",
            "30\n",
            "3.3333333333333335\n",
            "1\n",
            "1000\n",
            "3\n"
          ]
        }
      ]
    },
    {
      "cell_type": "markdown",
      "source": [
        "### Conversions\n",
        "\n",
        "You can convert other data types to integers using the `int()` function.\n",
        "\n",
        "#### Examples"
      ],
      "metadata": {
        "id": "Uj-gOjaXnvpI"
      }
    },
    {
      "cell_type": "code",
      "source": [
        "# From float to int\n",
        "print(int(3.14))  # Output: 3\n",
        "\n",
        "# From string to int\n",
        "print(int(\"10\"))  # Output: 10\n",
        "\n",
        "# From binary to int\n",
        "print(int(\"1010\", 2))  # Output: 10\n",
        "\n",
        "# From hexadecimal to int\n",
        "print(int(\"a\", 16))  # Output: 10"
      ],
      "metadata": {
        "colab": {
          "base_uri": "https://localhost:8080/"
        },
        "id": "AuEzS0JYn30V",
        "outputId": "f2a4086a-9585-45fa-8a40-2705bf1aaf7d"
      },
      "execution_count": null,
      "outputs": [
        {
          "output_type": "stream",
          "name": "stdout",
          "text": [
            "3\n",
            "10\n",
            "10\n",
            "10\n"
          ]
        }
      ]
    },
    {
      "cell_type": "markdown",
      "source": [
        "### Built-in Functions\n",
        "\n",
        "Python provides several built-in functions that work with integers:\n",
        "\n",
        "- **`abs(x)`**: Returns the absolute value of `x`.\n",
        "- **`pow(x, y[, z])`**: Returns `x` raised to the power `y`, if `z` is present, returns `x**y % z`.\n",
        "- **`divmod(x, y)`**: Returns a tuple `(x // y, x % y)`.\n",
        "- **`sum(iterable[, start])`**: Sums the items of an iterable, starting from the value `start`.\n",
        "- **`min(iterable[, default=obj, key=func])`**: Returns the smallest item in an iterable or the smallest of two or more arguments.\n",
        "- **`max(iterable[, default=obj, key=func])`**: Returns the largest item in an iterable or the largest of two or more arguments.\n",
        "\n",
        "#### Examples\n"
      ],
      "metadata": {
        "id": "lJgcUQZloDkk"
      }
    },
    {
      "cell_type": "code",
      "source": [
        "a = -10\n",
        "b = 3\n",
        "\n",
        "# Absolute value\n",
        "print(abs(a))  # Output: 10\n",
        "\n",
        "# Power\n",
        "print(pow(a, b))  # Output: -1000\n",
        "\n",
        "# Divmod\n",
        "print(divmod(a, b))  # Output: (-4, 2)\n",
        "\n",
        "# Sum\n",
        "print(sum([a, b, 5]))  # Output: -2\n",
        "\n",
        "# Min and Max\n",
        "print(min(a, b, 5))  # Output: -10\n",
        "print(max(a, b, 5))  # Output: 5\n"
      ],
      "metadata": {
        "colab": {
          "base_uri": "https://localhost:8080/"
        },
        "id": "WNXQMjzroKbm",
        "outputId": "9470e734-4949-41af-a5cc-81fd372938c3"
      },
      "execution_count": null,
      "outputs": [
        {
          "output_type": "stream",
          "name": "stdout",
          "text": [
            "10\n",
            "-1000\n",
            "(-4, 2)\n",
            "-2\n",
            "-10\n",
            "5\n"
          ]
        }
      ]
    },
    {
      "cell_type": "markdown",
      "source": [
        "### Integer Methods\n",
        "\n",
        "Python integers do not have many methods since they are not complex data structures. However, they do have a couple of useful ones.\n",
        "\n",
        "- **`bit_length()`**: Returns the number of bits necessary to represent the integer in binary, excluding the sign and leading zeros.\n",
        "- **`to_bytes(length, byteorder, *, signed=False)`**: Returns an array of bytes representing an integer.\n",
        "\n",
        "#### Examples\n"
      ],
      "metadata": {
        "id": "mk0iKMbgoWIP"
      }
    },
    {
      "cell_type": "code",
      "source": [
        "a = 10\n",
        "\n",
        "# Bit length\n",
        "print(a.bit_length())  # Output: 4\n",
        "\n",
        "# To bytes\n",
        "print(a.to_bytes(2, byteorder='big'))  # Output: b'\\x00\\n'"
      ],
      "metadata": {
        "colab": {
          "base_uri": "https://localhost:8080/"
        },
        "id": "nH2kIhLpoXrA",
        "outputId": "7ef7100b-6213-463b-8d1d-83a7c6a57afc"
      },
      "execution_count": null,
      "outputs": [
        {
          "output_type": "stream",
          "name": "stdout",
          "text": [
            "4\n",
            "b'\\x00\\n'\n"
          ]
        }
      ]
    },
    {
      "cell_type": "markdown",
      "source": [
        "### Constants\n",
        "\n",
        "Python has a few constants related to integers in the `sys` module.\n",
        "\n",
        "- **`sys.maxsize`**: The largest positive integer supported by the platform's Py_ssize_t type, typically 2^31 - 1 on a 32-bit platform and 2^63 - 1 on a 64-bit platform.\n",
        "\n",
        "#### Example\n"
      ],
      "metadata": {
        "id": "nm4hpN1hoidA"
      }
    },
    {
      "cell_type": "code",
      "source": [
        "import sys\n",
        "print(sys.maxsize)  # Output: Platform-dependent"
      ],
      "metadata": {
        "colab": {
          "base_uri": "https://localhost:8080/"
        },
        "id": "k3sOHckbonvX",
        "outputId": "24adb6cd-9dda-41c5-939b-40a9f8193f04"
      },
      "execution_count": null,
      "outputs": [
        {
          "output_type": "stream",
          "name": "stdout",
          "text": [
            "9223372036854775807\n"
          ]
        }
      ]
    },
    {
      "cell_type": "markdown",
      "source": [
        "### Summary\n",
        "\n",
        "- **Representation**: Arbitrary precision, both positive and negative.\n",
        "- **Arithmetic Operations**: Supports all basic arithmetic operations.\n",
        "- **Type Checking**: Using `type()` and `isinstance()`.\n",
        "- **Conversions**: Easily convert from other types using `int()`.\n",
        "- **Built-in Functions**: Several functions to work with integers.\n",
        "- **Methods**: Limited methods like `bit_length()` and `to_bytes()`.\n",
        "- **Constants**: `sys.maxsize` for the largest integer.\n",
        "\n",
        "Understanding these aspects of the `int` datatype in Python helps you handle numeric data efficiently and perform various arithmetic and logical operations."
      ],
      "metadata": {
        "id": "C_G9N3vPot6_"
      }
    },
    {
      "cell_type": "markdown",
      "source": [
        "#Float:\n",
        "\n",
        "The `float` datatype in Python represents floating-point numbers, which are numbers with a decimal point. Here's an in-depth look at the `float` datatype:\n",
        "\n",
        "### Basics\n",
        "\n",
        "- **Definition**: The `float` type represents numbers with a fractional part.\n",
        "- **Syntax**: Floats are defined with a decimal point or in exponential notation.\n",
        "\n",
        "#### Example\n",
        "\n",
        "```python\n",
        "a = 3.14       # Simple float\n",
        "b = -2.0       # Negative float\n",
        "c = 1.23e4     # Exponential notation (1.23 * 10^4)\n",
        "```"
      ],
      "metadata": {
        "id": "Co7th4sNpCiA"
      }
    },
    {
      "cell_type": "markdown",
      "source": [
        "### Precision\n",
        "\n",
        "Python's `float` type is based on the IEEE 754 double-precision floating-point format, which provides approximately 15-17 decimal digits of precision.\n",
        "\n",
        "### Type Checking\n",
        "\n",
        "You can check if a variable is a float using the `type()` function or `isinstance()` function.\n",
        "\n",
        "#### Example\n"
      ],
      "metadata": {
        "id": "xvATR7CjrVnx"
      }
    },
    {
      "cell_type": "code",
      "source": [
        "a = 3.14\n",
        "print(type(a))             # Output: <class 'float'>\n",
        "print(isinstance(a, float))  # Output: True"
      ],
      "metadata": {
        "colab": {
          "base_uri": "https://localhost:8080/"
        },
        "id": "VDZPKx5vrZvH",
        "outputId": "e7ac3529-eb5b-4177-ab41-d1ab60e7fa2b"
      },
      "execution_count": null,
      "outputs": [
        {
          "output_type": "stream",
          "name": "stdout",
          "text": [
            "<class 'float'>\n",
            "True\n"
          ]
        }
      ]
    },
    {
      "cell_type": "markdown",
      "source": [
        "### Arithmetic Operations\n",
        "\n",
        "Floats support various arithmetic operations such as addition, subtraction, multiplication, division, modulus, exponentiation, and floor division.\n",
        "\n",
        "#### Examples"
      ],
      "metadata": {
        "id": "eojbkErUrhdV"
      }
    },
    {
      "cell_type": "code",
      "source": [
        "a = 5.0\n",
        "b = 2.0\n",
        "\n",
        "# Addition\n",
        "print(a + b)  # Output: 7.0\n",
        "\n",
        "# Subtraction\n",
        "print(a - b)  # Output: 3.0\n",
        "\n",
        "# Multiplication\n",
        "print(a * b)  # Output: 10.0\n",
        "\n",
        "# Division\n",
        "print(a / b)  # Output: 2.5\n",
        "\n",
        "# Modulus\n",
        "print(a % b)  # Output: 1.0\n",
        "\n",
        "# Exponentiation\n",
        "print(a ** b) # Output: 25.0\n",
        "\n",
        "# Floor Division\n",
        "print(a // b) # Output: 2.0"
      ],
      "metadata": {
        "colab": {
          "base_uri": "https://localhost:8080/"
        },
        "id": "PdOyeQgarjnn",
        "outputId": "40781880-a664-4324-db7a-37d339e59f2c"
      },
      "execution_count": null,
      "outputs": [
        {
          "output_type": "stream",
          "name": "stdout",
          "text": [
            "7.0\n",
            "3.0\n",
            "10.0\n",
            "2.5\n",
            "1.0\n",
            "25.0\n",
            "2.0\n"
          ]
        }
      ]
    },
    {
      "cell_type": "markdown",
      "source": [
        "### Conversions\n",
        "\n",
        "You can convert other data types to floats using the `float()` function.\n",
        "\n",
        "#### Examples"
      ],
      "metadata": {
        "id": "a1shgkobrrsD"
      }
    },
    {
      "cell_type": "code",
      "source": [
        "# From int to float\n",
        "print(float(5))  # Output: 5.0\n",
        "\n",
        "# From string to float\n",
        "print(float(\"3.14\"))  # Output: 3.14\n",
        "\n",
        "# From exponential notation string to float\n",
        "print(float(\"1.23e4\"))  # Output: 12300.0"
      ],
      "metadata": {
        "colab": {
          "base_uri": "https://localhost:8080/"
        },
        "id": "AauaAyphryb5",
        "outputId": "c16b7636-ab2b-47b4-bdec-4a0696b3bd25"
      },
      "execution_count": null,
      "outputs": [
        {
          "output_type": "stream",
          "name": "stdout",
          "text": [
            "5.0\n",
            "3.14\n",
            "12300.0\n"
          ]
        }
      ]
    },
    {
      "cell_type": "markdown",
      "source": [
        "### Built-in Functions\n",
        "\n",
        "Python provides several built-in functions that work with floats:\n",
        "\n",
        "- **`abs(x)`**: Returns the absolute value of `x`.\n",
        "- **`round(x[, ndigits])`**: Rounds `x` to a specified number of decimal places.\n",
        "- **`pow(x, y[, z])`**: Returns `x` raised to the power `y`, if `z` is present, returns `x**y % z`.\n",
        "- **`sum(iterable[, start])`**: Sums the items of an iterable, starting from the value `start`.\n",
        "- **`min(iterable[, default=obj, key=func])`**: Returns the smallest item in an iterable or the smallest of two or more arguments.\n",
        "- **`max(iterable[, default=obj, key=func])`**: Returns the largest item in an iterable or the largest of two or more arguments.\n",
        "\n",
        "#### Examples"
      ],
      "metadata": {
        "id": "IbdOBLf1r44R"
      }
    },
    {
      "cell_type": "code",
      "source": [
        "a = -3.14\n",
        "b = 2.5\n",
        "\n",
        "# Absolute value\n",
        "print(abs(a))  # Output: 3.14\n",
        "\n",
        "# Round\n",
        "print(round(a))       # Output: -3\n",
        "print(round(a, 1))    # Output: -3.1\n",
        "print(round(b, 0))    # Output: 2.0\n",
        "\n",
        "# Power\n",
        "print(pow(a, 2))  # Output: 9.8596\n",
        "\n",
        "# Sum\n",
        "print(sum([a, b, 1.1]))  # Output: 0.45999999999999996\n",
        "\n",
        "# Min and Max\n",
        "print(min(a, b, 1.1))  # Output: -3.14\n",
        "print(max(a, b, 1.1))  # Output: 2.5"
      ],
      "metadata": {
        "colab": {
          "base_uri": "https://localhost:8080/"
        },
        "id": "LKuOpfOPsB6_",
        "outputId": "04530d3b-e28b-459c-f0d8-2194ee989bc3"
      },
      "execution_count": null,
      "outputs": [
        {
          "output_type": "stream",
          "name": "stdout",
          "text": [
            "3.14\n",
            "-3\n",
            "-3.1\n",
            "2.0\n",
            "9.8596\n",
            "0.45999999999999996\n",
            "-3.14\n",
            "2.5\n"
          ]
        }
      ]
    },
    {
      "cell_type": "markdown",
      "source": [
        "### Float Methods\n",
        "\n",
        "Python floats have some useful methods.\n",
        "\n",
        "- **`is_integer()`**: Returns `True` if the float is an integer (i.e., has no fractional part).\n",
        "\n",
        "#### Example"
      ],
      "metadata": {
        "id": "Op7GbS1IsR_I"
      }
    },
    {
      "cell_type": "code",
      "source": [
        "a = 5.0\n",
        "b = 5.5\n",
        "\n",
        "print(a.is_integer())  # Output: True\n",
        "print(b.is_integer())  # Output: False"
      ],
      "metadata": {
        "colab": {
          "base_uri": "https://localhost:8080/"
        },
        "id": "3F4uYYNdsUFk",
        "outputId": "b31e8ead-f219-421c-ef28-241b974d4171"
      },
      "execution_count": null,
      "outputs": [
        {
          "output_type": "stream",
          "name": "stdout",
          "text": [
            "True\n",
            "False\n"
          ]
        }
      ]
    },
    {
      "cell_type": "markdown",
      "source": [
        "### Handling Precision Issues\n",
        "\n",
        "Floating-point arithmetic can introduce precision errors because some decimal numbers cannot be represented exactly in binary floating-point. The `decimal` module in Python can help manage these precision issues.\n",
        "\n",
        "#### Example"
      ],
      "metadata": {
        "id": "860RGT-gsYgd"
      }
    },
    {
      "cell_type": "code",
      "source": [
        "from decimal import Decimal\n",
        "\n",
        "a = Decimal('0.1')\n",
        "b = Decimal('0.2')\n",
        "c = a + b\n",
        "\n",
        "print(c)  # Output: 0.3"
      ],
      "metadata": {
        "colab": {
          "base_uri": "https://localhost:8080/"
        },
        "id": "E1WWE2CssgjI",
        "outputId": "d59401da-7721-42c9-ba76-384768a87430"
      },
      "execution_count": null,
      "outputs": [
        {
          "output_type": "stream",
          "name": "stdout",
          "text": [
            "0.3\n"
          ]
        }
      ]
    },
    {
      "cell_type": "markdown",
      "source": [
        "### Special Float Values\n",
        "\n",
        "Python supports special float values like `inf`, `-inf`, and `nan`.\n",
        "\n",
        "- **`inf`**: Represents positive infinity.\n",
        "- **`-inf`**: Represents negative infinity.\n",
        "- **`nan`**: Represents \"Not a Number\", used to denote undefined or unrepresentable values.\n",
        "\n",
        "#### Example\n"
      ],
      "metadata": {
        "id": "pEEzwn_WssAM"
      }
    },
    {
      "cell_type": "code",
      "source": [
        "import math\n",
        "a = float('inf')\n",
        "b = float('-inf')\n",
        "c = float('nan')\n",
        "\n",
        "print(a)  # Output: inf\n",
        "print(b)  # Output: -inf\n",
        "print(c)  # Output: nan\n",
        "\n",
        "# Check for infinity\n",
        "print(math.isinf(a))  # Output: True\n",
        "\n",
        "# Check for NaN\n",
        "print(math.isnan(c))  # Output: True"
      ],
      "metadata": {
        "colab": {
          "base_uri": "https://localhost:8080/"
        },
        "id": "vhBGbRtbsv_F",
        "outputId": "a15e8956-34ad-4050-9511-85ba683227d0"
      },
      "execution_count": null,
      "outputs": [
        {
          "output_type": "stream",
          "name": "stdout",
          "text": [
            "inf\n",
            "-inf\n",
            "nan\n",
            "True\n",
            "True\n"
          ]
        }
      ]
    },
    {
      "cell_type": "markdown",
      "source": [
        "### Summary\n",
        "\n",
        "- **Representation**: Double-precision floating-point format (IEEE 754).\n",
        "- **Arithmetic Operations**: Supports all basic arithmetic operations.\n",
        "- **Type Checking**: Using `type()` and `isinstance()`.\n",
        "- **Conversions**: Easily convert from other types using `float()`.\n",
        "- **Built-in Functions**: Several functions to work with floats.\n",
        "- **Methods**: Useful methods like `is_integer()`.\n",
        "- **Precision Handling**: `decimal` module for high precision arithmetic.\n",
        "- **Special Values**: Handles `inf`, `-inf`, and `nan`.\n",
        "\n",
        "Understanding the `float` datatype in Python is essential for performing numerical computations, handling scientific data, and managing precision in calculations."
      ],
      "metadata": {
        "id": "mPB7SxNrs92O"
      }
    },
    {
      "cell_type": "markdown",
      "source": [
        "# Complex:\n",
        "\n",
        "The `complex` datatype in Python represents complex numbers, which are numbers with both a real part and an imaginary part. Complex numbers are widely used in scientific and engineering applications. Here's an in-depth look at the `complex` datatype:\n",
        "\n",
        "### Basics\n",
        "\n",
        "- **Definition**: The `complex` type represents numbers in the form `a + bj`, where `a` is the real part and `b` is the imaginary part, and `j` is the imaginary unit (√-1).\n",
        "- **Syntax**: Complex numbers can be created by directly using `j` to denote the imaginary part or by using the `complex(real, imag)` function.\n",
        "\n",
        "#### Examples\n"
      ],
      "metadata": {
        "id": "6Bk1YfwrPkbB"
      }
    },
    {
      "cell_type": "code",
      "source": [
        "a = 3 + 4j         # Using `j` for the imaginary part\n",
        "b = complex(3, 4)  # Using the `complex()` function\n",
        "print(a)           # Output: (3+4j)\n",
        "print(b)           # Output: (3+4j)"
      ],
      "metadata": {
        "colab": {
          "base_uri": "https://localhost:8080/"
        },
        "id": "gA-Kh_QRPwzj",
        "outputId": "5a4102e4-62d8-4d94-8a17-5d17a4ce4b51"
      },
      "execution_count": null,
      "outputs": [
        {
          "output_type": "stream",
          "name": "stdout",
          "text": [
            "(3+4j)\n",
            "(3+4j)\n"
          ]
        }
      ]
    },
    {
      "cell_type": "markdown",
      "source": [
        "### Accessing Real and Imaginary Parts\n",
        "\n",
        "You can access the real and imaginary parts of a complex number using the `.real` and `.imag` attributes.\n",
        "\n",
        "#### Example"
      ],
      "metadata": {
        "id": "20Xn15qqPzfM"
      }
    },
    {
      "cell_type": "code",
      "source": [
        "a = 3 + 4j\n",
        "print(a.real)  # Output: 3.0\n",
        "print(a.imag)  # Output: 4.0"
      ],
      "metadata": {
        "colab": {
          "base_uri": "https://localhost:8080/"
        },
        "id": "3N0WI7ddP5a0",
        "outputId": "55fa461e-8267-4ab9-eace-4262f56f171f"
      },
      "execution_count": null,
      "outputs": [
        {
          "output_type": "stream",
          "name": "stdout",
          "text": [
            "3.0\n",
            "4.0\n"
          ]
        }
      ]
    },
    {
      "cell_type": "markdown",
      "source": [
        "\n",
        "### Type Checking\n",
        "\n",
        "You can check if a variable is a complex number using the `type()` function or `isinstance()` function.\n",
        "\n",
        "#### Example"
      ],
      "metadata": {
        "id": "PEOCVBbbQAE7"
      }
    },
    {
      "cell_type": "code",
      "source": [
        "a = 3 + 4j\n",
        "print(type(a))              # Output: <class 'complex'>\n",
        "print(isinstance(a, complex))  # Output: True"
      ],
      "metadata": {
        "colab": {
          "base_uri": "https://localhost:8080/"
        },
        "id": "4aV-MKwkQB_r",
        "outputId": "f21d6c2b-c732-417f-a960-740b4126f5e3"
      },
      "execution_count": null,
      "outputs": [
        {
          "output_type": "stream",
          "name": "stdout",
          "text": [
            "<class 'complex'>\n",
            "True\n"
          ]
        }
      ]
    },
    {
      "cell_type": "markdown",
      "source": [
        "### Arithmetic Operations\n",
        "\n",
        "Complex numbers support various arithmetic operations such as addition, subtraction, multiplication, division, and modulus.\n",
        "\n",
        "#### Examples\n"
      ],
      "metadata": {
        "id": "Hp2Rw2HCQHHF"
      }
    },
    {
      "cell_type": "code",
      "source": [
        "a = 3 + 4j\n",
        "b = 1 + 2j\n",
        "\n",
        "# Addition\n",
        "print(a + b)  # Output: (4+6j)\n",
        "\n",
        "# Subtraction\n",
        "print(a - b)  # Output: (2+2j)\n",
        "\n",
        "# Multiplication\n",
        "print(a * b)  # Output: (-5+10j)\n",
        "\n",
        "# Division\n",
        "print(a / b)  # Output: (2.2-0.4j)"
      ],
      "metadata": {
        "colab": {
          "base_uri": "https://localhost:8080/"
        },
        "id": "HPPSA2fjQN3b",
        "outputId": "b9a50efc-7a1e-4274-f1bc-8f8f07b1ca8c"
      },
      "execution_count": null,
      "outputs": [
        {
          "output_type": "stream",
          "name": "stdout",
          "text": [
            "(4+6j)\n",
            "(2+2j)\n",
            "(-5+10j)\n",
            "(2.2-0.4j)\n"
          ]
        }
      ]
    },
    {
      "cell_type": "markdown",
      "source": [
        "### Conversions\n",
        "\n",
        "You can convert other data types to complex numbers using the `complex()` function.\n",
        "\n",
        "#### Examples\n"
      ],
      "metadata": {
        "id": "FYR9rILBQRm8"
      }
    },
    {
      "cell_type": "code",
      "source": [
        "# From int to complex\n",
        "print(complex(3))  # Output: (3+0j)\n",
        "\n",
        "# From float to complex\n",
        "print(complex(3.14))  # Output: (3.14+0j)\n",
        "\n",
        "# From string to complex\n",
        "print(complex(\"3+4j\"))  # Output: (3+4j)"
      ],
      "metadata": {
        "colab": {
          "base_uri": "https://localhost:8080/"
        },
        "id": "MKTFEl98Qa_t",
        "outputId": "759477e3-a13a-4fc0-d96a-122f9d055a1d"
      },
      "execution_count": null,
      "outputs": [
        {
          "output_type": "stream",
          "name": "stdout",
          "text": [
            "(3+0j)\n",
            "(3.14+0j)\n",
            "(3+4j)\n"
          ]
        }
      ]
    },
    {
      "cell_type": "markdown",
      "source": [
        "### Built-in Functions\n",
        "\n",
        "Python provides several built-in functions that work with complex numbers:\n",
        "\n",
        "- **`abs(x)`**: Returns the magnitude of the complex number `x`.\n",
        "- **`pow(x, y[, z])`**: Returns `x` raised to the power `y`, if `z` is present, returns `x**y % z`.\n",
        "- **`complex(real, imag)`**: Constructs a complex number from real and imaginary parts.\n",
        "\n",
        "#### Examples"
      ],
      "metadata": {
        "id": "D_GBZQC3QcSV"
      }
    },
    {
      "cell_type": "code",
      "source": [
        "a = 3 + 4j\n",
        "\n",
        "# Magnitude (absolute value)\n",
        "print(abs(a))  # Output: 5.0\n",
        "\n",
        "# Power\n",
        "print(pow(a, 2))  # Output: (-7+24j)"
      ],
      "metadata": {
        "colab": {
          "base_uri": "https://localhost:8080/"
        },
        "id": "d9rbS-EKQgKE",
        "outputId": "42344257-57ba-4712-8c27-3abf78d66d09"
      },
      "execution_count": null,
      "outputs": [
        {
          "output_type": "stream",
          "name": "stdout",
          "text": [
            "5.0\n",
            "(-7+24j)\n"
          ]
        }
      ]
    },
    {
      "cell_type": "markdown",
      "source": [
        "### Complex Methods\n",
        "\n",
        "Complex numbers have several useful methods.\n",
        "\n",
        "- **`conjugate()`**: Returns the complex conjugate, which is obtained by changing the sign of the imaginary part.\n",
        "\n",
        "#### Example"
      ],
      "metadata": {
        "id": "Gkil9Xu8Qkot"
      }
    },
    {
      "cell_type": "code",
      "source": [
        "a = 3 + 4j\n",
        "print(a.conjugate())  # Output: (3-4j)"
      ],
      "metadata": {
        "colab": {
          "base_uri": "https://localhost:8080/"
        },
        "id": "I-NgNo-vQrAQ",
        "outputId": "9d756383-6cfb-4a94-b071-67b8c14e5c2d"
      },
      "execution_count": null,
      "outputs": [
        {
          "output_type": "stream",
          "name": "stdout",
          "text": [
            "(3-4j)\n"
          ]
        }
      ]
    },
    {
      "cell_type": "markdown",
      "source": [
        "### Mathematical Functions in `cmath` Module\n",
        "\n",
        "Python's `cmath` module provides several mathematical functions for complex numbers, similar to the `math` module for real numbers.\n",
        "\n",
        "#### Examples"
      ],
      "metadata": {
        "id": "vWA_gWiaQu8h"
      }
    },
    {
      "cell_type": "code",
      "source": [
        "import cmath\n",
        "\n",
        "a = 3 + 4j\n",
        "\n",
        "# Exponential\n",
        "print(cmath.exp(a))  # Output: (-13.128783081462158-15.200784463067954j)\n",
        "\n",
        "# Logarithm\n",
        "print(cmath.log(a))  # Output: (1.6094379124341003+0.9272952180016122j)\n",
        "\n",
        "# Sine\n",
        "print(cmath.sin(a))  # Output: (3.853738037919377-27.016813258003932j)\n",
        "\n",
        "# Cosine\n",
        "print(cmath.cos(a))  # Output: (-27.034945603074224-3.851153334811777j)\n",
        "\n",
        "# Square root\n",
        "print(cmath.sqrt(a))  # Output: (2+1j)"
      ],
      "metadata": {
        "colab": {
          "base_uri": "https://localhost:8080/"
        },
        "id": "9vzCUGPGQ0gD",
        "outputId": "691e0a98-72e9-4682-c874-524319ada08c"
      },
      "execution_count": null,
      "outputs": [
        {
          "output_type": "stream",
          "name": "stdout",
          "text": [
            "(-13.128783081462158-15.200784463067954j)\n",
            "(1.6094379124341003+0.9272952180016122j)\n",
            "(3.853738037919377-27.016813258003932j)\n",
            "(-27.034945603074224-3.851153334811777j)\n",
            "(2+1j)\n"
          ]
        }
      ]
    },
    {
      "cell_type": "markdown",
      "source": [
        "### Summary\n",
        "\n",
        "- **Representation**: Numbers in the form `a + bj`.\n",
        "- **Accessing Parts**: Using `.real` and `.imag` attributes.\n",
        "- **Arithmetic Operations**: Supports all basic arithmetic operations.\n",
        "- **Type Checking**: Using `type()` and `isinstance()`.\n",
        "- **Conversions**: Easily convert from other types using `complex()`.\n",
        "- **Built-in Functions**: Several functions to work with complex numbers.\n",
        "- **Methods**: Useful methods like `conjugate()`.\n",
        "- **Mathematical Functions**: Extensive support in the `cmath` module.\n",
        "\n",
        "Understanding the `complex` datatype in Python is essential for handling mathematical computations that involve complex numbers, which are commonly used in fields like engineering, physics, and computer science."
      ],
      "metadata": {
        "id": "HZ2Bl9iuQ3tz"
      }
    },
    {
      "cell_type": "markdown",
      "source": [
        "# Typecasting:\n",
        "\n",
        "Typecasting in Python refers to the conversion of one data type to another. This can be done either implicitly by Python or explicitly by the programmer. Here, we'll cover typecasting for `int`, `float`, `char` (though in Python, we use `str` to represent characters), and `complex` data types, along with examples.\n",
        "\n",
        "### 1. Typecasting (Type Conversion)\n",
        "\n",
        "**Definition**: Typecasting is the process of converting a variable from one data type to another. In Python, this can be done using built-in functions.\n",
        "\n",
        "### 2. Types of Typecasting\n",
        "\n",
        "**Implicit Typecasting**: Python automatically converts one data type to another without the programmer's intervention. This usually happens during operations involving mixed data types.\n",
        "\n",
        "**Explicit Typecasting**: The programmer manually converts one data type to another using built-in functions.\n",
        "\n",
        "### 3. Typecasting Examples\n",
        "\n",
        "#### a. Integer (`int`)\n",
        "\n",
        "**Implicit Typecasting with `int`**:\n"
      ],
      "metadata": {
        "id": "qZY-FNUQR3My"
      }
    },
    {
      "cell_type": "code",
      "source": [
        "num_int = 5\n",
        "num_float = 2.0\n",
        "result = num_int + num_float  # int is implicitly converted to float\n",
        "print(result)  # Output: 7.0"
      ],
      "metadata": {
        "colab": {
          "base_uri": "https://localhost:8080/"
        },
        "id": "tRRs8NGaWh_R",
        "outputId": "8b5fb767-e495-4b31-a546-4ab0e0658ef1"
      },
      "execution_count": null,
      "outputs": [
        {
          "output_type": "stream",
          "name": "stdout",
          "text": [
            "7.0\n"
          ]
        }
      ]
    },
    {
      "cell_type": "markdown",
      "source": [
        "**Explicit Typecasting to `int`**:\n"
      ],
      "metadata": {
        "id": "zTg73ZFLWj97"
      }
    },
    {
      "cell_type": "code",
      "source": [
        "num_str = \"10\"\n",
        "num_float = 2.5\n",
        "\n",
        "# Converting string to int\n",
        "num_int = int(num_str)\n",
        "print(num_int)  # Output: 10\n",
        "\n",
        "# Converting float to int (note: this truncates the decimal part)\n",
        "num_int = int(num_float)\n",
        "print(num_int)  # Output: 2"
      ],
      "metadata": {
        "colab": {
          "base_uri": "https://localhost:8080/"
        },
        "id": "WeiL2e3rWnl7",
        "outputId": "fcd9eaaf-e112-496d-d99c-4a66b4f04d9f"
      },
      "execution_count": null,
      "outputs": [
        {
          "output_type": "stream",
          "name": "stdout",
          "text": [
            "10\n",
            "2\n"
          ]
        }
      ]
    },
    {
      "cell_type": "markdown",
      "source": [
        "#### b. Float (`float`)\n",
        "\n",
        "**Implicit Typecasting with `float`**:"
      ],
      "metadata": {
        "id": "vksVfFyYWvkk"
      }
    },
    {
      "cell_type": "code",
      "source": [
        "num_int = 5\n",
        "num_float = 3.2\n",
        "result = num_int + num_float  # int is implicitly converted to float\n",
        "print(result)  # Output: 8.2"
      ],
      "metadata": {
        "colab": {
          "base_uri": "https://localhost:8080/"
        },
        "id": "W9xxSAS9WxNM",
        "outputId": "558cdea9-ac9d-46b8-b328-463989df7b62"
      },
      "execution_count": null,
      "outputs": [
        {
          "output_type": "stream",
          "name": "stdout",
          "text": [
            "8.2\n"
          ]
        }
      ]
    },
    {
      "cell_type": "markdown",
      "source": [
        "**Explicit Typecasting to `float`**:"
      ],
      "metadata": {
        "id": "L1_AMAOmW1KQ"
      }
    },
    {
      "cell_type": "code",
      "source": [
        "num_str = \"10\"\n",
        "num_int = 5\n",
        "\n",
        "# Converting string to float\n",
        "num_float = float(num_str)\n",
        "print(num_float)  # Output: 10.0\n",
        "\n",
        "# Converting int to float\n",
        "num_float = float(num_int)\n",
        "print(num_float)  # Output: 5.0"
      ],
      "metadata": {
        "colab": {
          "base_uri": "https://localhost:8080/"
        },
        "id": "ZdtgjyVPW7dj",
        "outputId": "c5c04c6a-6f1a-4427-951c-552377732b4a"
      },
      "execution_count": null,
      "outputs": [
        {
          "output_type": "stream",
          "name": "stdout",
          "text": [
            "10.0\n",
            "5.0\n"
          ]
        }
      ]
    },
    {
      "cell_type": "markdown",
      "source": [
        "\n",
        "#### c. Character (`char` / `str` in Python)\n",
        "\n",
        "Python does not have a `char` data type. Characters are represented as strings of length 1.\n",
        "\n",
        "**Implicit Typecasting with `str`**:"
      ],
      "metadata": {
        "id": "AV5K-SO_W94y"
      }
    },
    {
      "cell_type": "code",
      "source": [
        "num_int = 123\n",
        "num_str = \"456\"\n",
        "result = str(num_int) + num_str  # int is explicitly converted to string\n",
        "print(result)  # Output: \"123456\""
      ],
      "metadata": {
        "colab": {
          "base_uri": "https://localhost:8080/"
        },
        "id": "KI3O4y2UXCfC",
        "outputId": "c3b8de6d-13c9-4567-8c7d-3f2fe9cb8548"
      },
      "execution_count": null,
      "outputs": [
        {
          "output_type": "stream",
          "name": "stdout",
          "text": [
            "123456\n"
          ]
        }
      ]
    },
    {
      "cell_type": "markdown",
      "source": [
        "**Explicit Typecasting to `str`**:"
      ],
      "metadata": {
        "id": "zt0dwASjXJA8"
      }
    },
    {
      "cell_type": "code",
      "source": [
        "num_int = 123\n",
        "num_float = 45.67\n",
        "\n",
        "# Converting int to str\n",
        "num_str = str(num_int)\n",
        "print(num_str)  # Output: \"123\"\n",
        "\n",
        "# Converting float to str\n",
        "num_str = str(num_float)\n",
        "print(num_str)  # Output: \"45.67\""
      ],
      "metadata": {
        "colab": {
          "base_uri": "https://localhost:8080/"
        },
        "id": "IdGqBO1-XM3j",
        "outputId": "8ebff07d-33b5-48e0-93f8-e0ac65e6f4a3"
      },
      "execution_count": null,
      "outputs": [
        {
          "output_type": "stream",
          "name": "stdout",
          "text": [
            "123\n",
            "45.67\n"
          ]
        }
      ]
    },
    {
      "cell_type": "markdown",
      "source": [
        "#### d. Complex (`complex`)\n",
        "\n",
        "**Implicit Typecasting with `complex`**:\n",
        "Implicit typecasting involving complex numbers is rare and not typical.\n",
        "\n",
        "**Explicit Typecasting to `complex`**:"
      ],
      "metadata": {
        "id": "OJIwxXreXU02"
      }
    },
    {
      "cell_type": "code",
      "source": [
        "num_str = \"10\"\n",
        "num_int = 5\n",
        "num_float = 2.3\n",
        "\n",
        "# Converting string to complex\n",
        "num_complex = complex(num_str)\n",
        "print(num_complex)  # Output: (10+0j)\n",
        "\n",
        "# Converting int to complex\n",
        "num_complex = complex(num_int)\n",
        "print(num_complex)  # Output: (5+0j)\n",
        "\n",
        "# Converting float to complex\n",
        "num_complex = complex(num_float)\n",
        "print(num_complex)  # Output: (2.3+0j)"
      ],
      "metadata": {
        "colab": {
          "base_uri": "https://localhost:8080/"
        },
        "id": "QKNoUNrTXZkD",
        "outputId": "0b2f9bf2-0a2f-445e-f92c-dcde95694cf6"
      },
      "execution_count": null,
      "outputs": [
        {
          "output_type": "stream",
          "name": "stdout",
          "text": [
            "(10+0j)\n",
            "(5+0j)\n",
            "(2.3+0j)\n"
          ]
        }
      ]
    },
    {
      "cell_type": "markdown",
      "source": [
        "In Python, type casting (or type conversion) involves converting one data type to another. While doing so, several types of errors can occur if the conversion is not possible or is performed incorrectly. Here are some common errors and their causes:\n",
        "\n",
        "1. **ValueError**:\n",
        "    - This occurs when a function receives an argument of the right type but an inappropriate value. For example:\n"
      ],
      "metadata": {
        "id": "iPRVkUTfYsZr"
      }
    },
    {
      "cell_type": "code",
      "source": [
        "int(\"abc\")  # ValueError: invalid literal for int() with base 10: 'abc'\n",
        "float(\"xyz\")  # ValueError: could not convert string to float: 'xyz'"
      ],
      "metadata": {
        "colab": {
          "base_uri": "https://localhost:8080/",
          "height": 159
        },
        "id": "CDM_UyyNYuWT",
        "outputId": "5a2f23c4-79ba-41e0-f3f4-4acabaf7d83e"
      },
      "execution_count": null,
      "outputs": [
        {
          "output_type": "error",
          "ename": "ValueError",
          "evalue": "invalid literal for int() with base 10: 'abc'",
          "traceback": [
            "\u001b[0;31m---------------------------------------------------------------------------\u001b[0m",
            "\u001b[0;31mValueError\u001b[0m                                Traceback (most recent call last)",
            "\u001b[0;32m<ipython-input-16-fd4922b5c926>\u001b[0m in \u001b[0;36m<cell line: 1>\u001b[0;34m()\u001b[0m\n\u001b[0;32m----> 1\u001b[0;31m \u001b[0mint\u001b[0m\u001b[0;34m(\u001b[0m\u001b[0;34m\"abc\"\u001b[0m\u001b[0;34m)\u001b[0m  \u001b[0;31m# ValueError: invalid literal for int() with base 10: 'abc'\u001b[0m\u001b[0;34m\u001b[0m\u001b[0;34m\u001b[0m\u001b[0m\n\u001b[0m\u001b[1;32m      2\u001b[0m \u001b[0mfloat\u001b[0m\u001b[0;34m(\u001b[0m\u001b[0;34m\"xyz\"\u001b[0m\u001b[0;34m)\u001b[0m  \u001b[0;31m# ValueError: could not convert string to float: 'xyz'\u001b[0m\u001b[0;34m\u001b[0m\u001b[0;34m\u001b[0m\u001b[0m\n",
            "\u001b[0;31mValueError\u001b[0m: invalid literal for int() with base 10: 'abc'"
          ]
        }
      ]
    },
    {
      "cell_type": "markdown",
      "source": [
        " - Trying to convert a string that doesn't represent a number to an integer or float will cause a `ValueError`.\n",
        "\n",
        "2. **TypeError**:\n",
        "    - This error is raised when an operation or function is applied to an object of inappropriate type. For example:"
      ],
      "metadata": {
        "id": "vTWjumSYY0gl"
      }
    },
    {
      "cell_type": "code",
      "source": [
        "int(None)  # TypeError: int() argument must be a string, a bytes-like object or a number, not 'NoneType'\n",
        "list(123)  # TypeError: 'int' object is not iterable"
      ],
      "metadata": {
        "colab": {
          "base_uri": "https://localhost:8080/",
          "height": 159
        },
        "id": "ddi6p9hmY7Mc",
        "outputId": "6fecc48e-5311-4ae5-c74e-77a422707677"
      },
      "execution_count": null,
      "outputs": [
        {
          "output_type": "error",
          "ename": "TypeError",
          "evalue": "int() argument must be a string, a bytes-like object or a real number, not 'NoneType'",
          "traceback": [
            "\u001b[0;31m---------------------------------------------------------------------------\u001b[0m",
            "\u001b[0;31mTypeError\u001b[0m                                 Traceback (most recent call last)",
            "\u001b[0;32m<ipython-input-17-66a574932061>\u001b[0m in \u001b[0;36m<cell line: 1>\u001b[0;34m()\u001b[0m\n\u001b[0;32m----> 1\u001b[0;31m \u001b[0mint\u001b[0m\u001b[0;34m(\u001b[0m\u001b[0;32mNone\u001b[0m\u001b[0;34m)\u001b[0m  \u001b[0;31m# TypeError: int() argument must be a string, a bytes-like object or a number, not 'NoneType'\u001b[0m\u001b[0;34m\u001b[0m\u001b[0;34m\u001b[0m\u001b[0m\n\u001b[0m\u001b[1;32m      2\u001b[0m \u001b[0mlist\u001b[0m\u001b[0;34m(\u001b[0m\u001b[0;36m123\u001b[0m\u001b[0;34m)\u001b[0m  \u001b[0;31m# TypeError: 'int' object is not iterable\u001b[0m\u001b[0;34m\u001b[0m\u001b[0;34m\u001b[0m\u001b[0m\n",
            "\u001b[0;31mTypeError\u001b[0m: int() argument must be a string, a bytes-like object or a real number, not 'NoneType'"
          ]
        }
      ]
    },
    {
      "cell_type": "markdown",
      "source": [
        "### Summary\n",
        "\n",
        "- **Implicit Typecasting**: Done automatically by Python.\n",
        "- **Explicit Typecasting**: Done using built-in functions like `int()`, `float()`, `str()`, and `complex()`.\n",
        "\n",
        "Understanding typecasting is crucial in Python to ensure that variables are of the appropriate type for operations, preventing type errors and ensuring correct results."
      ],
      "metadata": {
        "id": "862PCsntasub"
      }
    }
  ]
}