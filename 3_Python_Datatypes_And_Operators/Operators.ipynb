{
  "nbformat": 4,
  "nbformat_minor": 0,
  "metadata": {
    "colab": {
      "provenance": []
    },
    "kernelspec": {
      "name": "python3",
      "display_name": "Python 3"
    },
    "language_info": {
      "name": "python"
    }
  },
  "cells": [
    {
      "cell_type": "markdown",
      "source": [
        "\n",
        "# Operators:\n",
        "\n",
        "That entity which operates one or more than one operands.\n",
        "\n",
        "## Types:\n",
        "\n",
        "- Arithmetic operators.\n",
        "- Comparison Operators.\n",
        "- Logical Operator.\n",
        "- Assignment Operator.\n",
        "- Bitwise Operators.\n",
        "- Membership Operator.\n",
        "- Identity Operator."
      ],
      "metadata": {
        "id": "o5XI3AdYRCMz"
      }
    },
    {
      "cell_type": "markdown",
      "source": [
        "## Arithmetic operations example:\n",
        "\n",
        "- Basic operations"
      ],
      "metadata": {
        "id": "Xm9CKUh9tkrt"
      }
    },
    {
      "cell_type": "code",
      "source": [
        "# arithmetic addition operation\n",
        "# operands\n",
        "a = 10\n",
        "b = 20\n",
        "\n",
        "print(a + b)"
      ],
      "metadata": {
        "colab": {
          "base_uri": "https://localhost:8080/"
        },
        "id": "DKQqhGA4tyKg",
        "outputId": "a8315080-1f60-455e-e106-db874ea39faa"
      },
      "execution_count": null,
      "outputs": [
        {
          "output_type": "stream",
          "name": "stdout",
          "text": [
            "30\n"
          ]
        }
      ]
    },
    {
      "cell_type": "code",
      "source": [
        "\n",
        "# arithmetic subtraction operation\n",
        "# operands\n",
        "a = 10\n",
        "b = 20\n",
        "\n",
        "print(b - a)"
      ],
      "metadata": {
        "colab": {
          "base_uri": "https://localhost:8080/"
        },
        "id": "9INpE7T4uM0x",
        "outputId": "896ad60d-5c87-4065-9710-84a93aaf0dad"
      },
      "execution_count": null,
      "outputs": [
        {
          "output_type": "stream",
          "name": "stdout",
          "text": [
            "10\n"
          ]
        }
      ]
    },
    {
      "cell_type": "code",
      "source": [
        "# arithmetic multiplication operation\n",
        "# operands\n",
        "a = 10\n",
        "b = 20\n",
        "\n",
        "print(a * b)"
      ],
      "metadata": {
        "colab": {
          "base_uri": "https://localhost:8080/"
        },
        "id": "2Rn65WXnubww",
        "outputId": "ffe3654c-b2f9-4153-910e-ff4e636d0f4b"
      },
      "execution_count": null,
      "outputs": [
        {
          "output_type": "stream",
          "name": "stdout",
          "text": [
            "200\n"
          ]
        }
      ]
    },
    {
      "cell_type": "code",
      "source": [
        "# arithmetic division operation\n",
        "# operands\n",
        "a = 10\n",
        "b = 20\n",
        "\n",
        "print(b / a)"
      ],
      "metadata": {
        "colab": {
          "base_uri": "https://localhost:8080/"
        },
        "id": "nHZ_QhhMulXD",
        "outputId": "055727b6-19ab-4214-c011-94148db8a2b0"
      },
      "execution_count": null,
      "outputs": [
        {
          "output_type": "stream",
          "name": "stdout",
          "text": [
            "2.0\n"
          ]
        }
      ]
    },
    {
      "cell_type": "markdown",
      "source": [
        "- Special operations"
      ],
      "metadata": {
        "id": "xpkJkN5-u_YO"
      }
    },
    {
      "cell_type": "code",
      "source": [
        "# arithmetic floor division operation\n",
        "# operands\n",
        "a = 7\n",
        "b = 20\n",
        "\n",
        "# result will give only the quotient part\n",
        "print(b // a)"
      ],
      "metadata": {
        "colab": {
          "base_uri": "https://localhost:8080/"
        },
        "id": "EmIB5UEVvIlz",
        "outputId": "2f45d35d-c11f-4c38-9f30-7167da172f1b"
      },
      "execution_count": null,
      "outputs": [
        {
          "output_type": "stream",
          "name": "stdout",
          "text": [
            "2\n"
          ]
        }
      ]
    },
    {
      "cell_type": "code",
      "source": [
        "# arithmetic reminder determining operation\n",
        "\n",
        "# operands\n",
        "a = 7\n",
        "b = 20\n",
        "# only gives the reminder part\n",
        "\n",
        "print(b % a)"
      ],
      "metadata": {
        "colab": {
          "base_uri": "https://localhost:8080/"
        },
        "id": "SUTfuEQVvZJF",
        "outputId": "d623d3b8-2977-40e0-a2db-8966af26da56"
      },
      "execution_count": null,
      "outputs": [
        {
          "output_type": "stream",
          "name": "stdout",
          "text": [
            "6\n"
          ]
        }
      ]
    },
    {
      "cell_type": "code",
      "source": [
        "# arithmetic exponential operation\n",
        "# operands\n",
        "a = 10\n",
        "b = 20\n",
        "# gives the answer of 20^10\n",
        "print(b ** a)"
      ],
      "metadata": {
        "colab": {
          "base_uri": "https://localhost:8080/"
        },
        "id": "vnehJiqpv-AC",
        "outputId": "fa5cf93a-ed16-42d3-b32e-bc5c7fdee991"
      },
      "execution_count": null,
      "outputs": [
        {
          "output_type": "stream",
          "name": "stdout",
          "text": [
            "10240000000000\n"
          ]
        }
      ]
    },
    {
      "cell_type": "markdown",
      "source": [
        "- Special note\n",
        "\n",
        "In Python we can also handle very large number like +♾️ and -♾️. And we do this things with the help of float data type."
      ],
      "metadata": {
        "id": "sdIAm2KXwb67"
      }
    },
    {
      "cell_type": "code",
      "source": [
        "Positive_infinity = float(\"inf\")\n",
        "print(Positive_infinity)"
      ],
      "metadata": {
        "colab": {
          "base_uri": "https://localhost:8080/"
        },
        "id": "XXYcBsOExHtq",
        "outputId": "9331c461-a089-4cd8-9d64-22c314a23b3c"
      },
      "execution_count": null,
      "outputs": [
        {
          "output_type": "stream",
          "name": "stdout",
          "text": [
            "inf\n"
          ]
        }
      ]
    },
    {
      "cell_type": "code",
      "source": [
        "Negative_infinity = float(\"-inf\")\n",
        "print(Negative_infinity)"
      ],
      "metadata": {
        "colab": {
          "base_uri": "https://localhost:8080/"
        },
        "id": "vQNhyI1dxlV6",
        "outputId": "7292f8ec-c99a-4eaa-e6d0-2b4c346510d0"
      },
      "execution_count": null,
      "outputs": [
        {
          "output_type": "stream",
          "name": "stdout",
          "text": [
            "-inf\n"
          ]
        }
      ]
    },
    {
      "cell_type": "markdown",
      "source": [
        "- We have one more notable thing called 'nan'. In Python, 'nan' stands for \"Not a Number.\" It is a special floating-point value used to represent undefined or unrepresentable numerical results, such as 0 divided by 0 or the square root of a negative number."
      ],
      "metadata": {
        "id": "-JdPlwA1zkN9"
      }
    },
    {
      "cell_type": "code",
      "source": [
        "nan_number = float('nan')\n",
        "print(nan_number)"
      ],
      "metadata": {
        "colab": {
          "base_uri": "https://localhost:8080/"
        },
        "id": "ur0A_an8zx9Q",
        "outputId": "2904ab9e-c340-4b00-f0f4-73d9f54d0cb1"
      },
      "execution_count": null,
      "outputs": [
        {
          "output_type": "stream",
          "name": "stdout",
          "text": [
            "nan\n"
          ]
        }
      ]
    },
    {
      "cell_type": "markdown",
      "source": [
        "## Comparison operations example:\n",
        "\n",
        "- Basic operations"
      ],
      "metadata": {
        "id": "XmLwzKI-0dlB"
      }
    },
    {
      "cell_type": "code",
      "source": [
        "# equality check.\n",
        "# check whether two numbers are equal or not.\n",
        "a = 7\n",
        "b = 20\n",
        "\n",
        "# equal to sign. result will be false because 7 and 20 are not equal.\n",
        "print(a==b)\n",
        "# not equal to sign. result will be true because 7 and 20 are not equal.\n",
        "print(a!=b)"
      ],
      "metadata": {
        "colab": {
          "base_uri": "https://localhost:8080/"
        },
        "id": "gKaggjCR0nCV",
        "outputId": "c2d603ad-3f3f-4d65-b022-d416642d574a"
      },
      "execution_count": null,
      "outputs": [
        {
          "output_type": "stream",
          "name": "stdout",
          "text": [
            "False\n",
            "True\n"
          ]
        }
      ]
    },
    {
      "cell_type": "code",
      "source": [
        "# greater than operator\n",
        "\n",
        "a = 7\n",
        "b = 20\n",
        "print(a>b)\n",
        "\n",
        "# greater than equal to operator\n",
        "\n",
        "print(a>=b)"
      ],
      "metadata": {
        "colab": {
          "base_uri": "https://localhost:8080/"
        },
        "id": "agL_66_84Zoq",
        "outputId": "ff7820db-d783-4cc1-ab17-c195f69ffd9a"
      },
      "execution_count": null,
      "outputs": [
        {
          "output_type": "stream",
          "name": "stdout",
          "text": [
            "False\n",
            "False\n"
          ]
        }
      ]
    },
    {
      "cell_type": "code",
      "source": [
        "# less than operator\n",
        "\n",
        "a = 7\n",
        "b = 20\n",
        "\n",
        "print(a<b)\n",
        "\n",
        "# less than equal to operator\n",
        "\n",
        "print(a<=b)"
      ],
      "metadata": {
        "colab": {
          "base_uri": "https://localhost:8080/"
        },
        "id": "aC1KXw1h47iQ",
        "outputId": "1f84b1b9-b79a-4780-c3ac-99051714638b"
      },
      "execution_count": null,
      "outputs": [
        {
          "output_type": "stream",
          "name": "stdout",
          "text": [
            "True\n",
            "True\n"
          ]
        }
      ]
    },
    {
      "cell_type": "markdown",
      "source": [
        "\n",
        "## Assignment Operator example:\n",
        "- It is required for assigning some values in variables"
      ],
      "metadata": {
        "id": "JEEQNcR36mQ3"
      }
    },
    {
      "cell_type": "code",
      "source": [
        "# single '=' is used\n",
        "\n",
        "x = 100 # assign a value\n",
        "print(x)"
      ],
      "metadata": {
        "colab": {
          "base_uri": "https://localhost:8080/"
        },
        "id": "YRtKL_TA6tMq",
        "outputId": "66f9df44-ed95-427f-cc52-305fcf2cfcb0"
      },
      "execution_count": null,
      "outputs": [
        {
          "output_type": "stream",
          "name": "stdout",
          "text": [
            "100\n"
          ]
        }
      ]
    },
    {
      "cell_type": "markdown",
      "source": [
        "### Assign and increment:"
      ],
      "metadata": {
        "id": "MK4O5Vqs7COs"
      }
    },
    {
      "cell_type": "code",
      "source": [
        "x = x + 5 # 100 = 100 + 5 == 105\n",
        "\n",
        "print(x)"
      ],
      "metadata": {
        "colab": {
          "base_uri": "https://localhost:8080/"
        },
        "id": "NzKUkjOy7HsY",
        "outputId": "bc1f19ef-1a57-44b2-d794-dda606b238bf"
      },
      "execution_count": null,
      "outputs": [
        {
          "output_type": "stream",
          "name": "stdout",
          "text": [
            "105\n"
          ]
        }
      ]
    },
    {
      "cell_type": "markdown",
      "source": [
        "- we can also write it as"
      ],
      "metadata": {
        "id": "Tz7dQXmS73gJ"
      }
    },
    {
      "cell_type": "code",
      "source": [
        "x = 100\n",
        "x+= 5\n",
        "print(x)"
      ],
      "metadata": {
        "colab": {
          "base_uri": "https://localhost:8080/"
        },
        "id": "NgH_t-0E78IP",
        "outputId": "84174ecf-f04b-477c-8618-fd5dc9a414f6"
      },
      "execution_count": null,
      "outputs": [
        {
          "output_type": "stream",
          "name": "stdout",
          "text": [
            "105\n"
          ]
        }
      ]
    },
    {
      "cell_type": "markdown",
      "source": [
        "### Assign and decrement:"
      ],
      "metadata": {
        "id": "d4IxboWW8Cno"
      }
    },
    {
      "cell_type": "code",
      "source": [
        "x = 100\n",
        "x = x - 5\n",
        "print(x)"
      ],
      "metadata": {
        "colab": {
          "base_uri": "https://localhost:8080/"
        },
        "id": "nTKfAbOq8IKm",
        "outputId": "ecb04117-b9a1-480c-a28e-31eeef66de4e"
      },
      "execution_count": null,
      "outputs": [
        {
          "output_type": "stream",
          "name": "stdout",
          "text": [
            "95\n"
          ]
        }
      ]
    },
    {
      "cell_type": "markdown",
      "source": [
        "- we can also write it as"
      ],
      "metadata": {
        "id": "E5ZHTX6b8Zr6"
      }
    },
    {
      "cell_type": "code",
      "source": [
        "x = 100\n",
        "x-= 5\n",
        "print(x)"
      ],
      "metadata": {
        "colab": {
          "base_uri": "https://localhost:8080/"
        },
        "id": "RERhwdRK8dMn",
        "outputId": "b03e4966-636c-4242-87c1-9f7c98a808f2"
      },
      "execution_count": null,
      "outputs": [
        {
          "output_type": "stream",
          "name": "stdout",
          "text": [
            "95\n"
          ]
        }
      ]
    },
    {
      "cell_type": "markdown",
      "source": [
        "### Assign and multiply:"
      ],
      "metadata": {
        "id": "JZwQfe0A8tJp"
      }
    },
    {
      "cell_type": "code",
      "source": [
        "x = 100\n",
        "x = x * 5\n",
        "print(x)"
      ],
      "metadata": {
        "colab": {
          "base_uri": "https://localhost:8080/"
        },
        "id": "69ItBdK78xEB",
        "outputId": "b8efc8dc-88e5-4a79-9cae-df450cac2958"
      },
      "execution_count": null,
      "outputs": [
        {
          "output_type": "stream",
          "name": "stdout",
          "text": [
            "500\n"
          ]
        }
      ]
    },
    {
      "cell_type": "markdown",
      "source": [
        "- we can also write it as"
      ],
      "metadata": {
        "id": "1xy_hcii84XC"
      }
    },
    {
      "cell_type": "code",
      "source": [
        "x = 100\n",
        "x *= 5\n",
        "print(x)"
      ],
      "metadata": {
        "colab": {
          "base_uri": "https://localhost:8080/"
        },
        "id": "hb5P6l1P88Iy",
        "outputId": "9b3b9e2a-2271-4c15-94af-4a5a8d64fc77"
      },
      "execution_count": null,
      "outputs": [
        {
          "output_type": "stream",
          "name": "stdout",
          "text": [
            "500\n"
          ]
        }
      ]
    },
    {
      "cell_type": "markdown",
      "source": [
        "### Assign and devide:"
      ],
      "metadata": {
        "id": "hP63MYwK9DCC"
      }
    },
    {
      "cell_type": "code",
      "source": [
        "x = 100\n",
        "x = x / 5\n",
        "print(x)"
      ],
      "metadata": {
        "colab": {
          "base_uri": "https://localhost:8080/"
        },
        "id": "lJbkgkIa9IUe",
        "outputId": "6107d87a-5e1a-48f3-f234-d5679c28f569"
      },
      "execution_count": null,
      "outputs": [
        {
          "output_type": "stream",
          "name": "stdout",
          "text": [
            "20.0\n"
          ]
        }
      ]
    },
    {
      "cell_type": "markdown",
      "source": [
        "- we can also write it as"
      ],
      "metadata": {
        "id": "t_QxAq7J9PLD"
      }
    },
    {
      "cell_type": "code",
      "source": [
        "x = 100\n",
        "x /= 5\n",
        "print(x)"
      ],
      "metadata": {
        "colab": {
          "base_uri": "https://localhost:8080/"
        },
        "id": "644yodH29R82",
        "outputId": "1956a049-1883-4229-c8b4-3968a5718a63"
      },
      "execution_count": null,
      "outputs": [
        {
          "output_type": "stream",
          "name": "stdout",
          "text": [
            "20.0\n"
          ]
        }
      ]
    },
    {
      "cell_type": "markdown",
      "source": [
        "###In short we can say x = x + c == x += c. And it is same for every operator like x = x - c == x -= c | x = x * c == x *= c | x = x / c == x /= c etc."
      ],
      "metadata": {
        "id": "Dabhg3sh9aZC"
      }
    },
    {
      "cell_type": "markdown",
      "source": [
        "## Logical Operators:\n",
        "- Logical operators in Python are used to combine multiple conditions and evaluate them as a single boolean expression. They return either True or False."
      ],
      "metadata": {
        "id": "YG7p7kxU-K2H"
      }
    },
    {
      "cell_type": "markdown",
      "source": [
        "- Example of Logical And: returns true if both conditions are true."
      ],
      "metadata": {
        "id": "fWzcWFZfy8cQ"
      }
    },
    {
      "cell_type": "code",
      "source": [
        "print(True and True)\n",
        "print(True and False)\n",
        "print(False and True)\n",
        "print(False and False)"
      ],
      "metadata": {
        "colab": {
          "base_uri": "https://localhost:8080/"
        },
        "id": "a6Mr1mnezBVq",
        "outputId": "2ff5e656-fa0c-490f-e4ba-b1bca8651f0f"
      },
      "execution_count": null,
      "outputs": [
        {
          "output_type": "stream",
          "name": "stdout",
          "text": [
            "True\n",
            "False\n",
            "False\n",
            "False\n"
          ]
        }
      ]
    },
    {
      "cell_type": "markdown",
      "source": [
        "- Example of Logical OR: returns true if any of one conditions are true"
      ],
      "metadata": {
        "id": "wuSZeyglzt6t"
      }
    },
    {
      "cell_type": "code",
      "source": [
        "print(True or True)\n",
        "print(True or False)\n",
        "print(False or True)\n",
        "print(False or False)"
      ],
      "metadata": {
        "colab": {
          "base_uri": "https://localhost:8080/"
        },
        "id": "RotQcnH2zzOE",
        "outputId": "87c4889d-96b7-4371-f045-896296c45551"
      },
      "execution_count": null,
      "outputs": [
        {
          "output_type": "stream",
          "name": "stdout",
          "text": [
            "True\n",
            "True\n",
            "True\n",
            "False\n"
          ]
        }
      ]
    },
    {
      "cell_type": "markdown",
      "source": [
        "- Example of Logical NOT: make the opposite of an expression."
      ],
      "metadata": {
        "id": "ZfXgXP9P0-9C"
      }
    },
    {
      "cell_type": "code",
      "source": [
        "print(not True)\n",
        "print(not False)\n",
        "print(not 5>7)"
      ],
      "metadata": {
        "colab": {
          "base_uri": "https://localhost:8080/"
        },
        "id": "0TtwkyYl1FZv",
        "outputId": "a22280fb-df15-4986-8c0e-8188f20e1ccb"
      },
      "execution_count": null,
      "outputs": [
        {
          "output_type": "stream",
          "name": "stdout",
          "text": [
            "False\n",
            "True\n",
            "True\n"
          ]
        }
      ]
    },
    {
      "cell_type": "markdown",
      "source": [
        "- Example of Logical XOR: if both the expression are different only than the answer will be true otherwise it will be false."
      ],
      "metadata": {
        "id": "A6K27Gwn4V1-"
      }
    },
    {
      "cell_type": "code",
      "source": [
        "print(True ^ True)\n",
        "print(True ^ False)\n",
        "print(False ^ True)\n",
        "print(False ^ False)"
      ],
      "metadata": {
        "colab": {
          "base_uri": "https://localhost:8080/"
        },
        "id": "aIzSUWFv4g6w",
        "outputId": "2418bdcd-55cd-4d37-82d0-00ae9fe22958"
      },
      "execution_count": null,
      "outputs": [
        {
          "output_type": "stream",
          "name": "stdout",
          "text": [
            "False\n",
            "True\n",
            "True\n",
            "False\n"
          ]
        }
      ]
    },
    {
      "cell_type": "markdown",
      "source": [
        "## Bitwise Operator:\n",
        "\n",
        "In Python, bitwise operators are used to perform operations on integers at the bit level. This means they manipulate individual bits of the binary representation of the integers."
      ],
      "metadata": {
        "id": "aI1RjRQrWqpG"
      }
    },
    {
      "cell_type": "markdown",
      "source": [
        "###Bitwise And:\n",
        "It does and operation at the bit levels."
      ],
      "metadata": {
        "id": "ISSxsGoUW0g6"
      }
    },
    {
      "cell_type": "code",
      "source": [
        "a = 5\n",
        "b = 2\n",
        "print(a&b)"
      ],
      "metadata": {
        "colab": {
          "base_uri": "https://localhost:8080/"
        },
        "id": "rDmhVa1qW-sd",
        "outputId": "ba4ff654-6798-4030-867f-1cde0b186de8"
      },
      "execution_count": null,
      "outputs": [
        {
          "output_type": "stream",
          "name": "stdout",
          "text": [
            "0\n"
          ]
        }
      ]
    },
    {
      "cell_type": "markdown",
      "source": [
        "- Step 1: Integers are being converted to binary in this case, 5 -> 101 and 2 -> 010\n",
        "\n",
        "- Step 2: and operation is been performed for every bit in this case.\n",
        "\n",
        "      101\n",
        "      010\n",
        "     -----\n",
        "      000\n",
        "     -----\n",
        "- Step 3: convert that answer into decimal.\n",
        "\n",
        "And that's why we are getting 0 in output."
      ],
      "metadata": {
        "id": "7FhM_OfPXVvD"
      }
    },
    {
      "cell_type": "markdown",
      "source": [
        "###Bitwise OR:\n",
        "It does OR operation at the bit levels."
      ],
      "metadata": {
        "id": "M3A0zu59YngC"
      }
    },
    {
      "cell_type": "code",
      "source": [
        "a = 5\n",
        "b = 2\n",
        "print(a|b)"
      ],
      "metadata": {
        "colab": {
          "base_uri": "https://localhost:8080/"
        },
        "id": "mfW5pNC4Yt1A",
        "outputId": "742969ec-2c55-4ed4-d2a4-98db3f2d80fc"
      },
      "execution_count": null,
      "outputs": [
        {
          "output_type": "stream",
          "name": "stdout",
          "text": [
            "7\n"
          ]
        }
      ]
    },
    {
      "cell_type": "markdown",
      "source": [
        "- Step 1: Integers are being converted to binary in this case, 5 -> 101 and 2 -> 010\n",
        "\n",
        "- Step 2: or operation is been performed for every bit in this case.\n",
        "\n",
        "      101\n",
        "      010\n",
        "     -----\n",
        "      111\n",
        "     -----\n",
        "- Step 3: convert that answer into decimal.\n",
        "\n",
        "And that's why we are getting 7 in output."
      ],
      "metadata": {
        "id": "QV2I7r9zYz7H"
      }
    },
    {
      "cell_type": "markdown",
      "source": [
        "###Bitwise Left shift:\n",
        "It shifts the digit towards left side at binary level."
      ],
      "metadata": {
        "id": "dS_uDFqR1bi4"
      }
    },
    {
      "cell_type": "code",
      "source": [
        "num = 5\n",
        "print(num<<1)"
      ],
      "metadata": {
        "colab": {
          "base_uri": "https://localhost:8080/"
        },
        "id": "oKG1ha581l0o",
        "outputId": "89363428-41ea-4b6e-f32e-6d823130baac"
      },
      "execution_count": null,
      "outputs": [
        {
          "output_type": "stream",
          "name": "stdout",
          "text": [
            "10\n"
          ]
        }
      ]
    },
    {
      "cell_type": "markdown",
      "source": [
        "- Step 1: Integers are being converted to binary in this case, 5 -> 0101\n",
        "\n",
        "- Step 2: left shift operation is been performed at the binary digit.\n",
        "\n",
        "      0101\n",
        "After left shift for one times. <<\n",
        "      1010\n",
        "     -------\n",
        "\n",
        "- Step 3: convert that answer into decimal.\n",
        "\n",
        "And that's why we are getting 10 in output.\n",
        "\n",
        "Also there is a noticeable fact is that for every left shift we will be getting the double of that previous number."
      ],
      "metadata": {
        "id": "CiGyWl9f16Z3"
      }
    },
    {
      "cell_type": "markdown",
      "source": [
        "###Bitwise Right shift:\n",
        "It shifts the digit towards right side at binary level."
      ],
      "metadata": {
        "id": "qN4yjKvF25SO"
      }
    },
    {
      "cell_type": "code",
      "source": [
        "num = 10\n",
        "print(num>>1)"
      ],
      "metadata": {
        "colab": {
          "base_uri": "https://localhost:8080/"
        },
        "id": "3cMvtet_3AmX",
        "outputId": "49fdbb13-6fb2-4ae2-9dd0-1daf3b018a9a"
      },
      "execution_count": null,
      "outputs": [
        {
          "output_type": "stream",
          "name": "stdout",
          "text": [
            "5\n"
          ]
        }
      ]
    },
    {
      "cell_type": "markdown",
      "source": [
        "- Step 1: Integers are being converted to binary in this case, 10 -> 1010\n",
        "\n",
        "- Step 2: right shift operation is been performed at the binary digit.\n",
        "\n",
        "      1010\n",
        "After right shift for one times. >>\n",
        "      0101\n",
        "     -------\n",
        "\n",
        "- Step 3: convert that answer into decimal.\n",
        "\n",
        "And that's why we are getting 5 in output.\n",
        "\n",
        "Also there is a noticeable fact is that for every right shift we will be getting the half of that previous number."
      ],
      "metadata": {
        "id": "EmzzetP63GxH"
      }
    },
    {
      "cell_type": "markdown",
      "source": [
        "## Membership Operator:\n",
        "In Python, there are two types of membership operators: 'in' and 'not in'. These operators are used to test whether a value or variable is a member of a sequence, such as a string, list, or tuple."
      ],
      "metadata": {
        "id": "XjPByepF5M9Y"
      }
    },
    {
      "cell_type": "code",
      "source": [
        "#Membership\n",
        "my_list = [1,2,3,4,5]\n",
        "\n",
        "print( 5 in my_list)\n",
        "print( 7 in my_list)\n",
        "print( 5 not in my_list)"
      ],
      "metadata": {
        "colab": {
          "base_uri": "https://localhost:8080/"
        },
        "id": "I8z1ub_V6RHF",
        "outputId": "3db307a9-ac0a-4c7a-871a-009b5f2e1516"
      },
      "execution_count": 1,
      "outputs": [
        {
          "output_type": "stream",
          "name": "stdout",
          "text": [
            "True\n",
            "False\n",
            "False\n"
          ]
        }
      ]
    },
    {
      "cell_type": "markdown",
      "source": [
        "## Identity Operators:\n",
        "The identity operator is defined as a comparison operator in Python, used to determine whether two variables refer to the same object in memory. It has two forms: \"is\" and \"is not\". The \"is\" operator returns True if both variables point to the same object, while \"is not\" returns True if they point to different objects."
      ],
      "metadata": {
        "id": "lYxTkXRR6lVU"
      }
    },
    {
      "cell_type": "code",
      "source": [
        "x = [1, 2, 3]\n",
        "y = x\n",
        "\n",
        "print(x is y)  # Output: True (x and y refer to the same list)\n",
        "\n",
        "z = [1, 2, 3]\n",
        "\n",
        "print(x is z)  # Output: False (x and z are different lists, even though they have the same values)"
      ],
      "metadata": {
        "id": "WWxJ1q9l68ca",
        "outputId": "028eb67f-afa4-44a1-acc7-91dfdb088366",
        "colab": {
          "base_uri": "https://localhost:8080/"
        }
      },
      "execution_count": null,
      "outputs": [
        {
          "output_type": "stream",
          "name": "stdout",
          "text": [
            "True\n",
            "False\n"
          ]
        }
      ]
    },
    {
      "cell_type": "markdown",
      "source": [
        "##Operator Precedence In Python:\n",
        "Operator precedence in Python determines the order in which operators are evaluated when multiple operators are used in a single expression. It helps clarify how expressions are parsed and executed.\n",
        "\n",
        "Below is the operator precedence in Python from highest to lowest:\n",
        "\n",
        "Parentheses: The highest precedence is given to expressions enclosed in parentheses. You can use parentheses to explicitly specify the order of evaluation.\n",
        "\n",
        "Exponentiation: The ** operator is used for exponentiation.\n",
        "\n",
        "Unary Plus and Minus: The unary + and - operators indicate positive and negative numbers, respectively.\n",
        "\n",
        "Multiplication, Division, Floor Division, and Modulus: These operators include * (multiplication), / (division), // (floor division), and % (modulus).\n",
        "\n",
        "Addition and Subtraction: The + and - operators perform addition and subtraction operations.\n",
        "\n",
        "Bitwise Shifts: Bitwise left shift (<<) and bitwise right shift (>>) operators have the same precedence.\n",
        "\n",
        "Bitwise AND: The & operator is used for bitwise AND operations.\n",
        "\n",
        "Bitwise XOR: The ^ operator is used for bitwise XOR (exclusive OR) operations.\n",
        "\n",
        "Bitwise OR: The | operator is used for bitwise OR operations.\n",
        "\n",
        "Comparison Operators: These operators include <, <=, >, >=, == (equality), and != (inequality). They are used for comparing values.\n",
        "\n",
        "Membership Operators: These operators, in and not in, are used to test for membership in sequences, such as lists or strings.\n",
        "\n",
        "Identity Operators: These operators, is and is not, are used to compare the identity of objects.\n",
        "\n",
        "Logical NOT: The not operator is used for logical negation.\n",
        "\n",
        "Logical AND: The and operator performs logical AND operations.\n",
        "\n",
        "Logical OR: The or operator performs logical OR operations."
      ],
      "metadata": {
        "id": "SKqWC9Mp5stu"
      }
    },
    {
      "cell_type": "code",
      "source": [
        "result = 4+5*6\n",
        "print(result)"
      ],
      "metadata": {
        "colab": {
          "base_uri": "https://localhost:8080/"
        },
        "id": "ZU0rYCzN5-U7",
        "outputId": "2e4aef2d-5734-414f-f352-8af4e6cea9c5"
      },
      "execution_count": null,
      "outputs": [
        {
          "output_type": "stream",
          "name": "stdout",
          "text": [
            "34\n"
          ]
        }
      ]
    }
  ]
}