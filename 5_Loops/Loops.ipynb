{
 "cells": [
  {
   "cell_type": "markdown",
   "metadata": {
    "id": "GVZfIDnCwHmA"
   },
   "source": [
    "# Loop:\n",
    "In Python sometimes we want to execute a task over again and again in that kind of situation we use the concept called loop.\n",
    "\n",
    "In Python we have two types of loop,\n",
    "\n",
    "- For loop\n",
    "- While loop"
   ]
  },
  {
   "cell_type": "markdown",
   "metadata": {
    "id": "YFTUzEadzmb6"
   },
   "source": [
    "## The For Loop:\n",
    "\n",
    "A **for loop** in Python is a control flow statement used to iterate over a sequence (such as a list, tuple, string, or range) and execute a block of code multiple times. It is commonly used when you know the number of iterations in advance.\n",
    "\n",
    "### Syntax\n",
    "```python\n",
    "for element in sequence:\n",
    "    # code block to execute\n",
    "```\n",
    "\n",
    "- **`element`**: This is a variable that takes the value of each item in the sequence on each iteration.\n",
    "- **`sequence`**: This is the collection of items you are iterating over.\n",
    "\n",
    "Let's try to code that concept,"
   ]
  },
  {
   "cell_type": "code",
   "execution_count": 2,
   "metadata": {
    "colab": {
     "base_uri": "https://localhost:8080/"
    },
    "id": "20Sy7Wo76QGl",
    "outputId": "004de425-56e8-4898-c9c8-7b1b30130cdc"
   },
   "outputs": [
    {
     "name": "stdout",
     "output_type": "stream",
     "text": [
      "T\n",
      "a\n",
      "p\n",
      "a\n",
      "b\n",
      "r\n",
      "a\n",
      "t\n",
      "a\n"
     ]
    }
   ],
   "source": [
    "name = 'Tapabrata'\n",
    "\n",
    "for ch in name: # iterating a string sequence data type\n",
    "  print(ch)"
   ]
  },
  {
   "cell_type": "code",
   "execution_count": 3,
   "metadata": {
    "colab": {
     "base_uri": "https://localhost:8080/"
    },
    "id": "QLtf8loW64qH",
    "outputId": "ad467a40-56b0-4194-a1c4-78e062a2c3d0"
   },
   "outputs": [
    {
     "name": "stdout",
     "output_type": "stream",
     "text": [
      "apple\n",
      "banana\n",
      "cherry\n"
     ]
    }
   ],
   "source": [
    "fruits = ['apple', 'banana', 'cherry']\n",
    "for fruit in fruits: # alternating a list sequence\n",
    "    print(fruit)"
   ]
  },
  {
   "cell_type": "markdown",
   "metadata": {
    "id": "7vaiuTTKb8NQ"
   },
   "source": [
    "### Key Points\n",
    "1. The `for` loop iterates over each item in the sequence, allowing you to perform actions with each item.\n",
    "2. It automatically stops when it reaches the end of the sequence.\n",
    "3. You can also use the `for` loop with other iterable objects like strings, dictionaries, sets, and more.\n",
    "\n",
    "\n",
    "Now as we all know every time we don't have sequence like string list etc sometimes we are some question for example ' Print 1 to 10 ' to handle this kind of questions we have a function called `range()` which now we are going to discuss."
   ]
  },
  {
   "cell_type": "markdown",
   "metadata": {
    "id": "MgsX9vdBcbS6"
   },
   "source": [
    "## Range function:\n",
    "\n",
    "The `range` function in Python is often used in conjunction with a `for` loop to iterate over a sequence of numbers. It generates a sequence of numbers starting from a specified starting point, up to (but not including) a specified stopping point, optionally using a specified step size.\n",
    "\n",
    "### Basic Syntax\n",
    "The basic syntax of the `range` function is:\n",
    "\n",
    "```python\n",
    "range(start, stop, step)\n",
    "```\n",
    "\n",
    "- **start**: The beginning of the sequence (inclusive). If omitted, it defaults to 0.\n",
    "- **stop**: The end of the sequence (exclusive). The loop runs until it reaches this number, but does not include it.\n",
    "- **step**: The difference between each number in the sequence. If omitted, it defaults to 1.\n",
    "\n",
    "### Examples\n",
    "\n",
    "1. **Iterating from 0 to 4:**"
   ]
  },
  {
   "cell_type": "code",
   "execution_count": null,
   "metadata": {
    "colab": {
     "base_uri": "https://localhost:8080/"
    },
    "id": "boLqpK_EfPnr",
    "outputId": "6d160f01-874d-41ef-fd15-da7a0ba99cc1"
   },
   "outputs": [
    {
     "name": "stdout",
     "output_type": "stream",
     "text": [
      "0\n",
      "1\n",
      "2\n",
      "3\n",
      "4\n",
      "5\n"
     ]
    }
   ],
   "source": [
    "for i in range(5):\n",
    "    print(i)"
   ]
  },
  {
   "cell_type": "markdown",
   "metadata": {
    "id": "5xfbfrIVfp-3"
   },
   "source": [
    "Here, range(5) generates the numbers from 0 to 4. The start is 0 by default, the stop is 5, and the step is 1."
   ]
  },
  {
   "cell_type": "markdown",
   "metadata": {
    "id": "HsPOPodPfZlR"
   },
   "source": [
    "2.**Specifying a start and stop:**"
   ]
  },
  {
   "cell_type": "code",
   "execution_count": null,
   "metadata": {
    "colab": {
     "base_uri": "https://localhost:8080/"
    },
    "id": "3jc6BifyfoVL",
    "outputId": "af50988f-b048-4237-e190-2fb6975d4e80"
   },
   "outputs": [
    {
     "name": "stdout",
     "output_type": "stream",
     "text": [
      "2\n",
      "3\n",
      "4\n",
      "5\n",
      "6\n"
     ]
    }
   ],
   "source": [
    "for i in range(2, 7):\n",
    "    print(i)"
   ]
  },
  {
   "cell_type": "markdown",
   "metadata": {
    "id": "lLOqAeOFf-l8"
   },
   "source": [
    "In this example, the sequence starts at 2 and stops before 7.\n",
    "\n",
    "3.**Using a step:**"
   ]
  },
  {
   "cell_type": "code",
   "execution_count": null,
   "metadata": {
    "colab": {
     "base_uri": "https://localhost:8080/"
    },
    "id": "Un_fTL71gF7S",
    "outputId": "6afaceba-13dc-40fc-9e84-5cdc2aa192e1"
   },
   "outputs": [
    {
     "name": "stdout",
     "output_type": "stream",
     "text": [
      "1\n",
      "3\n",
      "5\n",
      "7\n",
      "9\n"
     ]
    }
   ],
   "source": [
    "for i in range(1, 10, 2):\n",
    "    print(i)"
   ]
  },
  {
   "cell_type": "markdown",
   "metadata": {
    "id": "P2bZKrQCgMoD"
   },
   "source": [
    "The range here starts at 1, ends before 10, and increases by 2 with each iteration.\n",
    "\n",
    "4.**Counting downwards:**"
   ]
  },
  {
   "cell_type": "code",
   "execution_count": null,
   "metadata": {
    "colab": {
     "base_uri": "https://localhost:8080/"
    },
    "id": "vxoDIypwgdfZ",
    "outputId": "d90eeb5c-41fa-4bee-d4ca-29baa90b97c3"
   },
   "outputs": [
    {
     "name": "stdout",
     "output_type": "stream",
     "text": [
      "5\n",
      "4\n",
      "3\n",
      "2\n",
      "1\n"
     ]
    }
   ],
   "source": [
    "for i in range(5, 0, -1):\n",
    "    print(i)"
   ]
  },
  {
   "cell_type": "markdown",
   "metadata": {
    "id": "yd2JwbZZgvqO"
   },
   "source": [
    "\n",
    "This uses a negative step to count downwards, starting at 5 and stopping before 0.\n",
    "\n",
    "### Key Points\n",
    "- The `range` function is commonly used to iterate over indices or generate a specific sequence of numbers.\n",
    "- The stop value is exclusive, meaning the sequence includes numbers up to, but not including, the stop value.\n",
    "- The step can be positive, negative, or zero (though zero is not typically useful in practice).\n",
    "\n",
    "This flexibility makes `range` a powerful tool for iterating over sequences in a controlled manner.\n",
    "\n",
    "Now we will understand how to control the flow of loop this is because sometime we want to stop or skip a certain loop or iteration purposefully then we use two keywords called `break` and `continue` which now we will see."
   ]
  },
  {
   "cell_type": "markdown",
   "metadata": {
    "id": "LSRcBRU2jUju"
   },
   "source": [
    "### Control flow:\n",
    "\n",
    "Sometimes we want to deliberately stop or skip a loop or specific iteration, to do that we have two keywords.\n",
    "- `break`\n",
    "- `continue`\n",
    "\n",
    "Let us discuss them one by one."
   ]
  },
  {
   "cell_type": "markdown",
   "metadata": {
    "id": "5dk40UQsll7H"
   },
   "source": [
    "### Break Statement\n",
    "\n",
    "The `break` statement in a `for` loop is used to exit the loop prematurely, stopping its execution regardless of whether the loop has finished iterating over all elements. This can be useful when a specific condition is met, and continuing the loop is unnecessary or undesirable.\n",
    "\n",
    "### Example in Python"
   ]
  },
  {
   "cell_type": "code",
   "execution_count": null,
   "metadata": {
    "colab": {
     "base_uri": "https://localhost:8080/"
    },
    "id": "-ga02IuJl5D9",
    "outputId": "712d09fe-3434-4109-bf75-8a1263ca97bb"
   },
   "outputs": [
    {
     "name": "stdout",
     "output_type": "stream",
     "text": [
      "1\n",
      "2\n",
      "Found 3, breaking the loop.\n"
     ]
    }
   ],
   "source": [
    "numbers = [1, 2, 3, 4, 5]\n",
    "\n",
    "for number in numbers:\n",
    "    if number == 3:\n",
    "        print(\"Found 3, breaking the loop.\")\n",
    "        break\n",
    "    print(number)"
   ]
  },
  {
   "cell_type": "markdown",
   "metadata": {
    "id": "Tqpe1T2zl1Zf"
   },
   "source": [
    "### How It Works\n",
    "In the example, the loop iterates over the list `numbers`. When it encounters the number 3, the condition `number == 3` becomes true, triggering the `break` statement. This causes the loop to terminate immediately, and no further numbers are printed.\n",
    "\n",
    "### Use Cases\n",
    "- **Searching:** Stop searching through a list once the target item is found.\n",
    "- **Optimization:** Exit a loop early if a certain condition indicates that further processing is unnecessary.\n",
    "- **Error Handling:** Terminate the loop if an error or unexpected situation is detected.\n",
    "\n",
    "The `break` statement can be used in both `for` and `while` loops, making it a versatile tool for controlling the flow of loop execution."
   ]
  },
  {
   "cell_type": "markdown",
   "metadata": {
    "id": "j4VBKmiHs68h"
   },
   "source": [
    "### Continue Statement:\n",
    "\n",
    "The `continue` statement in a `for` loop is used to skip the rest of the code inside the loop for the current iteration and immediately proceed to the next iteration. Unlike `break`, which completely exits the loop, `continue` only stops the current iteration and starts the next one.\n",
    "\n",
    "### Example in Python"
   ]
  },
  {
   "cell_type": "code",
   "execution_count": null,
   "metadata": {
    "colab": {
     "base_uri": "https://localhost:8080/"
    },
    "id": "zHg-0TUotQDL",
    "outputId": "02219ac2-3b3b-4fd0-e9e5-8b6c14af8509"
   },
   "outputs": [
    {
     "name": "stdout",
     "output_type": "stream",
     "text": [
      "1\n",
      "2\n",
      "Skipping number 3.\n",
      "4\n",
      "5\n"
     ]
    }
   ],
   "source": [
    "numbers = [1, 2, 3, 4, 5]\n",
    "\n",
    "for number in numbers:\n",
    "    if number == 3:\n",
    "        print(\"Skipping number 3.\")\n",
    "        continue\n",
    "    print(number)"
   ]
  },
  {
   "cell_type": "markdown",
   "metadata": {
    "id": "c1aDr8oStJHL"
   },
   "source": [
    "### How It Works\n",
    "In this example, the loop iterates over the list `numbers`. When the loop encounters the number 3, the `continue` statement is executed. This causes the loop to skip the `print(number)` statement for that iteration, effectively bypassing the number 3 in the output.\n",
    "\n",
    "### Use Cases\n",
    "- **Filtering:** Skip certain items in a collection based on a condition.\n",
    "- **Validation:** Ignore invalid or unwanted data while processing a list.\n",
    "- **Control Flow:** Simplify the structure of complex loops by avoiding nested conditionals.\n",
    "\n",
    "The `continue` statement can be particularly useful when you want to skip processing for certain elements while maintaining the loop's flow. It helps make code cleaner and more efficient by avoiding unnecessary calculations or operations."
   ]
  },
  {
   "cell_type": "markdown",
   "metadata": {
    "id": "K8N4z_rGtoe5"
   },
   "source": [
    "### Nested loop\n",
    "\n",
    "A nested loop in Python refers to having one loop inside another loop. For the 'for loop' specifically, this means you have a `for` loop within another `for` loop. This is useful for iterating over multi-dimensional structures, such as lists of lists, grids, or matrices.\n",
    "\n",
    "Here's a simple example using a nested `for` loop to print a grid of numbers:"
   ]
  },
  {
   "cell_type": "code",
   "execution_count": null,
   "metadata": {
    "colab": {
     "base_uri": "https://localhost:8080/"
    },
    "id": "f_TFb3Ybt0Lc",
    "outputId": "ef777918-3409-4132-9193-b141aa4ecbab"
   },
   "outputs": [
    {
     "name": "stdout",
     "output_type": "stream",
     "text": [
      "(0, 0) (0, 1) (0, 2) (0, 3) \n",
      "(1, 0) (1, 1) (1, 2) (1, 3) \n",
      "(2, 0) (2, 1) (2, 2) (2, 3) \n"
     ]
    }
   ],
   "source": [
    "rows = 3\n",
    "cols = 4\n",
    "\n",
    "for i in range(rows):  # Outer loop for rows\n",
    "    for j in range(cols):  # Inner loop for columns\n",
    "        print(f\"({i}, {j})\", end=\" \")  # Print the current coordinate\n",
    "    print()  # Newline after each row"
   ]
  },
  {
   "cell_type": "markdown",
   "metadata": {
    "id": "Cfzb6Fy-t-cO"
   },
   "source": [
    "**Explanation:**\n",
    "\n",
    "1. **Outer Loop (`for i in range(rows)`):** This loop runs 3 times (for `i` values 0, 1, and 2) because `rows` is set to 3. It controls the number of rows.\n",
    "\n",
    "2. **Inner Loop (`for j in range(cols)`):** Inside the outer loop, this loop runs 4 times for each iteration of the outer loop (for `j` values 0, 1, 2, and 3) because `cols` is set to 4. It controls the number of columns.\n",
    "\n",
    "3. **Output (`print(f\"({i}, {j})\", end=\" \")`):** For each iteration of the inner loop, it prints the current position as a coordinate (i, j). The `end=\" \"` part ensures that the coordinates are printed on the same line.\n",
    "\n",
    "4. **Newline (`print()`):** After each full iteration of the inner loop (completion of one row), the `print()` statement without arguments moves to the next line, so the next row starts on a new line.\n",
    "\n",
    "**Output of the example:**\n",
    "\n",
    "```\n",
    "(0, 0) (0, 1) (0, 2) (0, 3)\n",
    "(1, 0) (1, 1) (1, 2) (1, 3)\n",
    "(2, 0) (2, 1) (2, 2) (2, 3)\n",
    "```\n",
    "\n",
    "### Use Cases\n",
    "\n",
    "- **Matrix Operations:** Nested loops are often used in operations involving matrices, such as addition, multiplication, or transposition.\n",
    "- **Multi-dimensional Data Structures:** When working with data structures like lists of lists, nested loops allow you to access each element.\n",
    "- **Grid-based Games:** In games or simulations that involve a grid, nested loops can be used to iterate over each cell.\n",
    "\n",
    "### Important Considerations\n",
    "\n",
    "- **Complexity:** The complexity of nested loops is generally higher, as the number of iterations increases multiplicatively with each level of nesting. For example, a double nested loop over a range of `n` has a time complexity of O(n²).\n",
    "- **Readability:** While nested loops can be powerful, they can also make code harder to read and understand, especially if deeply nested.\n",
    "\n",
    "By using nested loops, you can efficiently perform tasks that require multiple levels of iteration. However, it's important to keep an eye on performance and readability."
   ]
  },
  {
   "cell_type": "markdown",
   "metadata": {
    "id": "4XM2oBT8rav1"
   },
   "source": [
    "## While Loop\n",
    "\n",
    "The `while` loop in Python is used to repeatedly execute a block of code as long as a specified condition is true. It's a control flow statement that helps in executing a set of statements multiple times.\n",
    "\n",
    "## Basic Syntax\n",
    "\n",
    "```python\n",
    "while condition:\n",
    "    # Code block to execute\n",
    "```\n",
    "\n",
    "- **condition**: This is a boolean expression that is evaluated before each iteration of the loop. If the condition is true, the code block inside the loop is executed. If the condition is false, the loop terminates.\n",
    "\n",
    "## Example\n",
    "\n",
    "Here's a simple example that counts from 1 to 5 using a `while` loop:\n",
    "\n",
    "```python\n",
    "count = 1\n",
    "while count <= 5:\n",
    "    print(count)\n",
    "    count += 1\n",
    "```\n",
    "\n",
    "In this example:\n",
    "- The loop starts with `count` set to 1.\n",
    "- The condition `count <= 5` is checked.\n",
    "- Since the condition is true, it prints the current value of `count` and then increments `count` by 1.\n",
    "- The loop repeats until `count` becomes 6, at which point the condition `count <= 5` is false, and the loop ends.\n",
    "\n",
    "## Infinite Loop\n",
    "\n",
    "If the condition in a `while` loop never becomes false, the loop will run indefinitely, which is known as an infinite loop. This can cause your program to freeze or crash. For example:\n",
    "\n",
    "```python\n",
    "while True:\n",
    "    print(\"This will print forever\")\n",
    "```\n",
    "\n",
    "To avoid infinite loops, ensure that the loop's condition will eventually become false.\n",
    "\n",
    "## Breaking Out of a `while` Loop\n",
    "\n",
    "You can use the `break` statement to exit a `while` loop prematurely, even if the condition is still true.\n",
    "\n",
    "```python\n",
    "count = 1\n",
    "while True:\n",
    "    print(count)\n",
    "    count += 1\n",
    "    if count > 5:\n",
    "        break\n",
    "```\n",
    "\n",
    "In this example, the loop would run infinitely if not for the `break` statement, which exits the loop when `count` becomes greater than 5.\n",
    "\n",
    "## Skipping Iterations\n",
    "\n",
    "The `continue` statement can be used to skip the rest of the code inside the loop for the current iteration and jump to the next iteration.\n",
    "\n",
    "```python\n",
    "count = 0\n",
    "while count < 5:\n",
    "    count += 1\n",
    "    if count == 3:\n",
    "        continue\n",
    "    print(count)\n",
    "```\n",
    "\n",
    "In this example, the number 3 is not printed because when `count` equals 3, the `continue` statement skips the print statement and moves to the next iteration.\n",
    "\n",
    "## Practical Uses\n",
    "\n",
    "- **Repeating actions**: You can use `while` loops to repeat actions until a certain condition is met, such as prompting a user for input until they provide valid data.\n",
    "- **Processing data**: It can be used to process items in a list or other data structures when the number of items is not known beforehand.\n",
    "\n",
    "## Example: User Input\n",
    "\n",
    "```python\n",
    "password = ''\n",
    "while password != 'secret':\n",
    "    password = input('Enter the password: ')\n",
    "print('Access granted')\n",
    "```\n",
    "\n",
    "In this case, the loop continues to prompt the user for a password until the correct one (`'secret'`) is entered.\n",
    "\n",
    "The `while` loop is a versatile tool in Python for controlling the flow of a program based on dynamic conditions."
   ]
  }
 ],
 "metadata": {
  "colab": {
   "provenance": []
  },
  "kernelspec": {
   "display_name": "Python 3",
   "name": "python3"
  },
  "language_info": {
   "codemirror_mode": {
    "name": "ipython",
    "version": 3
   },
   "file_extension": ".py",
   "mimetype": "text/x-python",
   "name": "python",
   "nbconvert_exporter": "python",
   "pygments_lexer": "ipython3",
   "version": "3.13.0"
  }
 },
 "nbformat": 4,
 "nbformat_minor": 0
}
