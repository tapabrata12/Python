{
  "nbformat": 4,
  "nbformat_minor": 0,
  "metadata": {
    "colab": {
      "provenance": []
    },
    "kernelspec": {
      "name": "python3",
      "display_name": "Python 3"
    },
    "language_info": {
      "name": "python"
    }
  },
  "cells": [
    {
      "cell_type": "markdown",
      "source": [
        "#What ? Why ? and How ?"
      ],
      "metadata": {
        "id": "eKSx6hxvuib9"
      }
    },
    {
      "cell_type": "markdown",
      "source": [
        "##What is Python ?\n",
        "\n",
        "Ans : **Python is a programming language.**\n",
        "\n",
        "Now the second question is,"
      ],
      "metadata": {
        "id": "fAGWsHNru0gN"
      }
    },
    {
      "cell_type": "markdown",
      "source": [
        "## What is a Programming Language?\n",
        "\n",
        "Imagine you are a citizen of India and you want to go to America for your studies. The problem is that Americans don't understand any Indian languages; they only understand English. How do you communicate with them? The answer is, you need to know English, their language, to communicate effectively. Without knowing English, you would face significant problems.\n",
        "\n",
        "The same concept applies when we want to communicate with a machine. Machines don't understand Hindi, English, or any human languages; they only understand binary, which is a series of 0s and 1s. However, mastering binary language is almost impossible for humans. To bridge this gap, scientists have invented different programming languages like C, C++, Java, and Python. These programming languages act as intermediaries or translators to convert our high-level languages (the code we write) into machine-understandable language, which is binary.\n",
        "\n",
        "####So in short a programming language is a language which is understandable by both the parties the computers and also the humans"
      ],
      "metadata": {
        "id": "B-RLIahmvuuQ"
      }
    },
    {
      "cell_type": "markdown",
      "source": [
        "#Why we do have to even communicate with machines ?\n",
        "\n",
        "Ans: we all know that the machines don't have consciousness in it that's why we can see that it even can't take any decisions by itself, but we have to remember another thing that apart from all this disability computer has a huge advantage over humans that is computer is million times faster than humans and if we regulate that ability of machines then we can also do our daily works of computing very easily and also precisely."
      ],
      "metadata": {
        "id": "EYn0om3PyQ3F"
      }
    },
    {
      "cell_type": "markdown",
      "source": [
        "# What are the types of programming languages ?\n",
        "\n",
        "Ans: Based on execution of the code, there are two types of programming languages.\n",
        "\n",
        "1. Compile time programming languages.\n",
        "\n",
        "2. Runtime or Interpreted or Scripting languages."
      ],
      "metadata": {
        "id": "LWgsmEDF0Ldj"
      }
    },
    {
      "cell_type": "markdown",
      "source": [
        "# Compile time programming languages:\n",
        "Ans: Before running any kind of codes in computer all the programming languages check whether the code has been written by following the rules and regulations it offers, if violation of any kind of rules has been found then programming languages throws and error which we will have to solve before the execution.\n",
        "\n",
        "In compile time programming languages this this rule checking facility occurs before compilation without properly writing our code we will not be able to compile and run our code."
      ],
      "metadata": {
        "id": "pDVRnzCJ2BMK"
      }
    },
    {
      "cell_type": "markdown",
      "source": [
        "# Interpreted languages:\n",
        "\n",
        "Ans: There is no precheck only when we try to run the program then only line by line checking happens that means program will be checked as well as execute at run time.\n",
        "\n",
        "If any syntaxial error found while checking the execution will stop and an error message will be shown to the user.\n",
        "\n",
        "### Now Python belongs in that category that means it is a interpreted language."
      ],
      "metadata": {
        "id": "75R9yKRi2_OX"
      }
    },
    {
      "cell_type": "markdown",
      "source": [
        "#Compiled language versus interpreted language which is better ?\n",
        "\n",
        "Ans: okay let's try to answer the question via practical real life scenario.\n",
        "\n",
        "Let's assume you are going to a restaurant for lunch now let's take a hypothetical scenario that only one worker is working on that restaurant so in this case what will happen is that the same person is going to take your order that same person is going to cook the food and that same person will serve your order but in this scenario if you think deeply then you will realise that it will take your lots of time and that's why it is very inefficient way to run your restaurant.\n",
        "\n",
        "Now let's take another case that multiple workers are working on the restaurant in this case one person is going to take your order one person is making food for you and one person is going to serve your food so in this case it is very appreciate and take less time.\n",
        "\n",
        "And this same concept acts on that compile and interpreted languages, interpreted languages are slower compared to the compiled languages because at that runtime it checks and as well as executing so it is obvious that it will takes lots of our time and this is the main drawback of that interpreted language."
      ],
      "metadata": {
        "id": "mynRdZjVQJ7f"
      }
    },
    {
      "cell_type": "markdown",
      "source": [
        "# So why Python ?\n",
        "\n",
        "Ans: In our present day where all the sector are digitalising, I think we have a word multiple times which is **DATA** / **AI** / **MACHINE LEARNING**. I think terms are so normalised in today's generation and if we want to work on with those things then we must know Python. Without knowing we will face troubles for our work.\n",
        "\n",
        "The second thing is python is easy to learn its syntax are so easy that while learning that problem in language we will feel that we are simply writing our code in English language.\n",
        "\n",
        "And the third thing is the Python is very flexible means we can work in many sectors like **Machine learning engineer, Data scientist, Data analytics, Ethical hacking** etc if we learn python.\n",
        "### So till now we have discussed what and why part now we will actually deep dive into the world of python and try to find the how part so take your seat belts and get ready to jump the world of python."
      ],
      "metadata": {
        "id": "fwacvIwHRogK"
      }
    },
    {
      "cell_type": "markdown",
      "source": [
        "# --- Learning Python ---\n",
        "\n",
        "## Installation:\n",
        "Now see for learning Python first of all we have to prepare our computer so they can understand that **\" Ok! this language is called python and I have to compiler and run it on me \"**\n",
        "\n",
        "So by having proper runtime environment in our system our system can understand that language same applies for other languages as well as.\n",
        "\n",
        "So at first we have to go to the Google and search for **\" Python \"**. Then we have to go there official website and download the interpreter or we can also say the Python runtime environment.\n",
        "\n",
        "Link: [Download Python](https://www.python.org/downloads/)\n",
        "\n",
        "Or and another option we have that is **Google Collab** in which I am currently writing our Python codes this website helps us by skipping all the technical setup and we can directly run our python code in this website.\n",
        "\n",
        "After you installing Python we need to install and IDE integrated development environment to run our food or in our computers we all have a program called terminal so by putting a comment `python` for windows or `python3` for mac and Linux machines. By using this command we can directly write our code in our terminal.\n",
        "By using integrated development in environment we will get some advantages like,\n",
        "1. Syntax highlighting.\n",
        "2. Efficient code debugging.\n",
        "3. AI suggestions.\n",
        "\n",
        "All though my personal suggest is for beginners, you should be write your code on notepad because at first you need to handle your code by your own using and fancy IDE is not good as beginners level by doing this ultimately your learning will not be fullfill."
      ],
      "metadata": {
        "id": "Uiu1q5PtCuKa"
      }
    },
    {
      "cell_type": "markdown",
      "source": [
        "# Learning roadmap\n",
        "\n",
        "Although in Python we have endless things to learn but the reality is we don't need to learn all the things and also practically it is not possible for us to learn all the things so here I will tell a generalise road map to learn Python basically for **Artificial intelligence and Machine learning.**\n",
        "\n",
        "SO AFTER THE INSTALLATION,\n",
        "\n",
        "1. DATA TYPES\n",
        "2. OPERATORS\n",
        "3. CONDITIONS\n",
        "4. LOOPS\n",
        "5. FUNCTIONS\n",
        "6. OBJECT ORIENTED PROGRAMMING\n",
        "7. EXCEPTIONAL HANDLING\n",
        "8. INBUILT DATA STRUCTURES\n",
        "\n",
        "This is the generalise the road map for learning Python after learning these concepts we can go or switch in any kind of work related to python whether it can be **web development, app development, machine learning, cyber security and ethical hacking etc.**\n",
        "\n",
        "### From our next notebook we will discuss about the first concept which is **Variables and Data types**"
      ],
      "metadata": {
        "id": "dJF0ifgMMk4B"
      }
    }
  ]
}