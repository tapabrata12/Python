{
  "nbformat": 4,
  "nbformat_minor": 0,
  "metadata": {
    "colab": {
      "provenance": []
    },
    "kernelspec": {
      "name": "python3",
      "display_name": "Python 3"
    },
    "language_info": {
      "name": "python"
    }
  },
  "cells": [
    {
      "cell_type": "markdown",
      "source": [
        "#**Variables:**\n",
        "\n",
        "It is a container to store value.\n",
        "\n",
        "Variables are two type,\n",
        "1. Statically typed  variable\n",
        "2. Dynamically typed variable"
      ],
      "metadata": {
        "id": "V1wVxYL4EZHz"
      }
    },
    {
      "cell_type": "markdown",
      "source": [
        "## Statically typed variable:\n",
        "\n",
        "We have to explicitly tell the computer what type of value is going to store in the variable."
      ],
      "metadata": {
        "id": "yyh117ZUE373"
      }
    },
    {
      "cell_type": "code",
      "source": [
        "int a = 5"
      ],
      "metadata": {
        "colab": {
          "base_uri": "https://localhost:8080/",
          "height": 124
        },
        "id": "5TjOp9KaFM8s",
        "outputId": "86fafe4f-4b52-4d00-e54c-b1e5abf02518"
      },
      "execution_count": null,
      "outputs": [
        {
          "output_type": "error",
          "ename": "SyntaxError",
          "evalue": "invalid syntax (<ipython-input-1-2011f10e31c9>, line 1)",
          "traceback": [
            "\u001b[0;36m  File \u001b[0;32m\"<ipython-input-1-2011f10e31c9>\"\u001b[0;36m, line \u001b[0;32m1\u001b[0m\n\u001b[0;31m    int a = 5\u001b[0m\n\u001b[0m        ^\u001b[0m\n\u001b[0;31mSyntaxError\u001b[0m\u001b[0;31m:\u001b[0m invalid syntax\n"
          ]
        }
      ]
    },
    {
      "cell_type": "markdown",
      "source": [
        "As you see obviously it will throw and error because python is a dynamically typed language that's why it supports dynamically typed variable and that's why it shows syntax error."
      ],
      "metadata": {
        "id": "5IgkL_M0FZcR"
      }
    },
    {
      "cell_type": "markdown",
      "source": [
        "## Dynamically typed variable:\n",
        "\n",
        "Username not to specify the type of the variable this type of programming languages are so smart that it can identify the type of the variable on its own at run time."
      ],
      "metadata": {
        "id": "KVFkjR0tFnNj"
      }
    },
    {
      "cell_type": "code",
      "source": [
        "a = 5"
      ],
      "metadata": {
        "id": "1xgydHWUF3jy"
      },
      "execution_count": null,
      "outputs": []
    },
    {
      "cell_type": "markdown",
      "source": [
        "And it will run correctly."
      ],
      "metadata": {
        "id": "PpEQobPHGM4j"
      }
    },
    {
      "cell_type": "markdown",
      "source": [
        "### Inner mechanism:\n",
        "\n",
        "Now let's discuss what happened when you declared available as you serious here I declared a variable named a so in my memory one object is created as everything is python as a object ( we will discuss about the class object and all this terms briefly ) in that object three thing are stored\n",
        "\n",
        "1. Type ( In this case it is integer as i store 5 )\n",
        "2. Value ( In this case it is 5 )\n",
        "3. Reference count ( How many other variables are declared with the same value )\n",
        "\n",
        "### Reference count:\n",
        "\n",
        "Actually in Python when we declare multiple variables with a common symbol so that all value are pointing to a same object which stores that same value when we at first created a variable with that value and as we increase the clearing new new variables and assigning with the same value the number of the reference count is increasing.\n",
        "\n",
        "Now if we want to print the address with the function name id() and print() [ we will discuss that print() function shortly in this notebook and id() method is to print the address of the object ]"
      ],
      "metadata": {
        "id": "OIoiqF74G3lM"
      }
    },
    {
      "cell_type": "code",
      "source": [
        "print(id(a))"
      ],
      "metadata": {
        "colab": {
          "base_uri": "https://localhost:8080/"
        },
        "id": "cTB06SjHIs2o",
        "outputId": "b940a23f-ac88-45c6-880c-125ba620e83a"
      },
      "execution_count": null,
      "outputs": [
        {
          "output_type": "stream",
          "name": "stdout",
          "text": [
            "138329530663280\n"
          ]
        }
      ]
    },
    {
      "cell_type": "markdown",
      "source": [
        "So we all can see it will print the address of the object where the value that type and the reference count is stored.\n",
        "\n",
        "We all know that the more we declared new variable with the same value the reference count will be increase so by analysing these simple fact can we not say that then the address of all newly created variable with the same value will be same ? Let's check it !"
      ],
      "metadata": {
        "id": "965Rew-iIzhT"
      }
    },
    {
      "cell_type": "code",
      "source": [
        "b = 5 # Address of b should be equal with a\n",
        "print(id(b))"
      ],
      "metadata": {
        "colab": {
          "base_uri": "https://localhost:8080/"
        },
        "id": "ljxYV_obKMim",
        "outputId": "7669d40d-d764-4382-93f3-224e75eff3d8"
      },
      "execution_count": null,
      "outputs": [
        {
          "output_type": "stream",
          "name": "stdout",
          "text": [
            "138329530663280\n"
          ]
        }
      ]
    },
    {
      "cell_type": "markdown",
      "source": [
        "See! both addresses are same :⁠-⁠)\n",
        "\n",
        "##Now to give a name of a variable we should follow some conventions in Python those rules or conventions are as follows:\n",
        "\n",
        "\n",
        " 1. **To write a variable we can only start with charecters (A/a - Z/z) or Underscores, We can't use (%/$/&/^/#/@/!/*, etc) Although number can be used but it should not start with.**\n"
      ],
      "metadata": {
        "id": "Qb2YzjbUKnje"
      }
    },
    {
      "cell_type": "code",
      "source": [
        "num = 10\n",
        "_num = 20\n",
        "num_1 = 30\n",
        "num5ber = 10\n",
        "_ = 55"
      ],
      "metadata": {
        "id": "ri1RzcSWnsKP"
      },
      "execution_count": null,
      "outputs": []
    },
    {
      "cell_type": "markdown",
      "source": [
        "###Correct Syntax"
      ],
      "metadata": {
        "id": "68f3cDyloG4I"
      }
    },
    {
      "cell_type": "code",
      "source": [
        "$num = 4\n",
        "^num = 5\n",
        "*number = 10\n",
        "4number = 100\n",
        "nam%e = 1000"
      ],
      "metadata": {
        "colab": {
          "base_uri": "https://localhost:8080/",
          "height": 106
        },
        "id": "2yzGkGpjqSYV",
        "outputId": "c726aa37-f067-4e93-a232-aaa71308f971"
      },
      "execution_count": null,
      "outputs": [
        {
          "output_type": "error",
          "ename": "SyntaxError",
          "evalue": "invalid decimal literal (<ipython-input-5-e66ff4e55258>, line 4)",
          "traceback": [
            "\u001b[0;36m  File \u001b[0;32m\"<ipython-input-5-e66ff4e55258>\"\u001b[0;36m, line \u001b[0;32m4\u001b[0m\n\u001b[0;31m    4number = 100\u001b[0m\n\u001b[0m    ^\u001b[0m\n\u001b[0;31mSyntaxError\u001b[0m\u001b[0;31m:\u001b[0m invalid decimal literal\n"
          ]
        }
      ]
    },
    {
      "cell_type": "markdown",
      "source": [
        "### Wrong Syntax"
      ],
      "metadata": {
        "id": "macdwkubqxBt"
      }
    },
    {
      "cell_type": "markdown",
      "source": [
        "2. **Variable names are case sensiitive**"
      ],
      "metadata": {
        "id": "iZ7kwtpurAdm"
      }
    },
    {
      "cell_type": "code",
      "source": [
        "M = 5\n",
        "m = 10\n",
        "print(M)"
      ],
      "metadata": {
        "colab": {
          "base_uri": "https://localhost:8080/"
        },
        "id": "FSRHr3RS4ttX",
        "outputId": "26dde8e2-21fc-4e2b-a254-bad4797e5554"
      },
      "execution_count": null,
      "outputs": [
        {
          "output_type": "stream",
          "name": "stdout",
          "text": [
            "5\n"
          ]
        }
      ]
    },
    {
      "cell_type": "markdown",
      "source": [
        "So from this we can see that M's value is not changed thats why both are not equal."
      ],
      "metadata": {
        "id": "KOImJ0065LpG"
      }
    },
    {
      "cell_type": "markdown",
      "source": [
        "3. **While deffining variable we should avoide using keywords.**\n",
        "*Keywords are kind of reserved words which we should avoide while declaring variable*"
      ],
      "metadata": {
        "id": "n7e1wrIT5dZW"
      }
    },
    {
      "cell_type": "code",
      "source": [
        "if = 5\n",
        "for = 10\n",
        "try = 1"
      ],
      "metadata": {
        "colab": {
          "base_uri": "https://localhost:8080/",
          "height": 106
        },
        "id": "UNCL5Gel5rAp",
        "outputId": "9fa7b01f-b978-4e17-f8b3-18ae6c16f0a2"
      },
      "execution_count": null,
      "outputs": [
        {
          "output_type": "error",
          "ename": "SyntaxError",
          "evalue": "invalid syntax (<ipython-input-11-58a626ce018d>, line 1)",
          "traceback": [
            "\u001b[0;36m  File \u001b[0;32m\"<ipython-input-11-58a626ce018d>\"\u001b[0;36m, line \u001b[0;32m1\u001b[0m\n\u001b[0;31m    if = 5\u001b[0m\n\u001b[0m       ^\u001b[0m\n\u001b[0;31mSyntaxError\u001b[0m\u001b[0;31m:\u001b[0m invalid syntax\n"
          ]
        }
      ]
    },
    {
      "cell_type": "markdown",
      "source": [
        "So from this we can see that Python will throw an error if we try to do that. And if you ever wonder to that how many keywords Python have then you can type\n",
        "```python\n",
        "help(\"keywords\")\n",
        "```\n",
        "in terminal and check the list let's try:\n",
        "\n"
      ],
      "metadata": {
        "id": "StVHtrLp6Os9"
      }
    },
    {
      "cell_type": "markdown",
      "source": [],
      "metadata": {
        "id": "fGb5YZ7yGU8T"
      }
    },
    {
      "cell_type": "markdown",
      "source": [
        "So thease are the list of keywords we have to avoide while making variables"
      ],
      "metadata": {
        "id": "ojq7Msl7-Pv8"
      }
    },
    {
      "cell_type": "code",
      "source": [
        "help(\"keywords\")"
      ],
      "metadata": {
        "colab": {
          "base_uri": "https://localhost:8080/"
        },
        "id": "kXo-XSg19Vlm",
        "outputId": "8694a403-6513-4646-d966-1c19cb4691ac"
      },
      "execution_count": null,
      "outputs": [
        {
          "output_type": "stream",
          "name": "stdout",
          "text": [
            "\n",
            "Here is a list of the Python keywords.  Enter any keyword to get more help.\n",
            "\n",
            "False               class               from                or\n",
            "None                continue            global              pass\n",
            "True                def                 if                  raise\n",
            "and                 del                 import              return\n",
            "as                  elif                in                  try\n",
            "assert              else                is                  while\n",
            "async               except              lambda              with\n",
            "await               finally             nonlocal            yield\n",
            "break               for                 not                 \n",
            "\n"
          ]
        }
      ]
    },
    {
      "cell_type": "markdown",
      "source": [
        "4. **The next rule is that the variable should be a single what it should not contain spaces let's see it with an example**:"
      ],
      "metadata": {
        "id": "JRrgskVVGZB3"
      }
    },
    {
      "cell_type": "code",
      "source": [
        "Good = 100"
      ],
      "metadata": {
        "id": "xQmv9C5fGk0T"
      },
      "execution_count": null,
      "outputs": []
    },
    {
      "cell_type": "markdown",
      "source": [
        "*This will throw no error*"
      ],
      "metadata": {
        "id": "F7lDhfY-GyQJ"
      }
    },
    {
      "cell_type": "code",
      "source": [
        "Good boy = 100"
      ],
      "metadata": {
        "colab": {
          "base_uri": "https://localhost:8080/",
          "height": 124
        },
        "id": "00uy7OnvG466",
        "outputId": "0e89ab4d-7bd6-4db9-eea6-cc3b102606da"
      },
      "execution_count": null,
      "outputs": [
        {
          "output_type": "error",
          "ename": "SyntaxError",
          "evalue": "invalid syntax (<ipython-input-16-4b70e38d7e35>, line 1)",
          "traceback": [
            "\u001b[0;36m  File \u001b[0;32m\"<ipython-input-16-4b70e38d7e35>\"\u001b[0;36m, line \u001b[0;32m1\u001b[0m\n\u001b[0;31m    Good boy = 100\u001b[0m\n\u001b[0m         ^\u001b[0m\n\u001b[0;31mSyntaxError\u001b[0m\u001b[0;31m:\u001b[0m invalid syntax\n"
          ]
        }
      ]
    },
    {
      "cell_type": "markdown",
      "source": [
        "*But as you all see that this will definitely through an error as it contain spaces*"
      ],
      "metadata": {
        "id": "a1qAE0XyG-QG"
      }
    },
    {
      "cell_type": "markdown",
      "source": [
        "###**One more suggestions while defining variable is that we should give a meaningful name for variables it increases the readability of our code.**"
      ],
      "metadata": {
        "id": "GFJLVMc-IJc7"
      }
    },
    {
      "cell_type": "markdown",
      "source": [
        "#**Comments**:\n",
        "\n",
        "Sometimes we want to write something in the court but we don't want that line to be execute all to be read by the compiler of the program that time we use this comments.\n",
        "\n",
        "By using comments we can understand what a particular chunk of code is actually doing.\n",
        "\n",
        "*Two types of comments Python have*:\n",
        "1. Single line comments\n",
        "2. Multiline commands"
      ],
      "metadata": {
        "id": "rYhHcmAtJSLV"
      }
    },
    {
      "cell_type": "markdown",
      "source": [
        "### Single line comments:\n",
        "\n",
        "```python\n",
        "# This is single line comment.\n",
        "```"
      ],
      "metadata": {
        "id": "-xqjsrkBKEBj"
      }
    },
    {
      "cell_type": "markdown",
      "source": [
        "### Multiline comments:\n",
        "\n",
        "All though in Python we can't directly write multiline comments but there is a concept call doc string via this we can write multiline comments\n",
        "\n",
        "```python\n",
        "'''\n",
        "This is multiline comment\n",
        "Which I have written\n",
        "'''\n",
        "```"
      ],
      "metadata": {
        "id": "TXTURXgQKVys"
      }
    },
    {
      "cell_type": "markdown",
      "source": [
        "# **Input:**\n",
        "\n",
        "Now ladies and gentlemen one of the important concept I gonna teach you which is how to take a input from a user this is one of most important concept because in program a majority times we have to deal with users input and how to process it so for doing that we must know how to take input let's see,\n",
        "\n",
        "In Python we have a function called:\n",
        "\n",
        "```python\n",
        "input()\n",
        "```\n",
        "This function we use to take input from user let's write some code to get concrete concept."
      ],
      "metadata": {
        "id": "I0IPblMkMgVw"
      }
    },
    {
      "cell_type": "code",
      "source": [
        "input()"
      ],
      "metadata": {
        "colab": {
          "base_uri": "https://localhost:8080/",
          "height": 53
        },
        "id": "aZbNozhWNNlv",
        "outputId": "33936609-16d4-4a9e-889f-e79be69cb17e"
      },
      "execution_count": null,
      "outputs": [
        {
          "name": "stdout",
          "output_type": "stream",
          "text": [
            "5\n"
          ]
        },
        {
          "output_type": "execute_result",
          "data": {
            "text/plain": [
              "'5'"
            ],
            "application/vnd.google.colaboratory.intrinsic+json": {
              "type": "string"
            }
          },
          "metadata": {},
          "execution_count": 17
        }
      ]
    },
    {
      "cell_type": "markdown",
      "source": [
        "So as you can see that when I run that code it waits for me to give something and after giving it the program execute successfully.\n",
        "\n",
        "Now one thing is to be noted that I give that function a number 5 but it printed that number 5 in a single quote.\n",
        "\n",
        "This is because these input function takes any kind of thing as a data type string [don't worry guys we will discuss what is data type what is string integer float briefly from now on just know that it will take any kind of input as string data type]\n",
        "and that's why 5 is showing in the single quote ''.\n",
        "\n",
        "And we will also discuss how we will take a particular thing as its original data type who will discuss all of those thing in upcoming sessions.\n",
        "\n",
        "Now sometimes we want that while taking the value from user some message is also so soon so that user can understand what he or she should input so now you are going to look how we are printing that message while taking input.\n",
        "\n",
        "```python\n",
        "input(\"Enter a number: \")\n",
        "```\n",
        "Now when you run this code a message called'enter a number' will be shown while taking input"
      ],
      "metadata": {
        "id": "UgMmzfenNSdt"
      }
    },
    {
      "cell_type": "code",
      "source": [
        "input(\"Enter a number: \")"
      ],
      "metadata": {
        "colab": {
          "base_uri": "https://localhost:8080/",
          "height": 53
        },
        "id": "pVlXAAqfPDdm",
        "outputId": "31f38313-75e7-46a3-df42-f4033444a99e"
      },
      "execution_count": null,
      "outputs": [
        {
          "name": "stdout",
          "output_type": "stream",
          "text": [
            "Enter a number: 5\n"
          ]
        },
        {
          "output_type": "execute_result",
          "data": {
            "text/plain": [
              "'5'"
            ],
            "application/vnd.google.colaboratory.intrinsic+json": {
              "type": "string"
            }
          },
          "metadata": {},
          "execution_count": 18
        }
      ]
    },
    {
      "cell_type": "markdown",
      "source": [
        "So this is the way by which we can understand that what we should input."
      ],
      "metadata": {
        "id": "gutx-0RXPG8Z"
      }
    },
    {
      "cell_type": "markdown",
      "source": [
        "#**Output:**\n",
        "\n",
        "\n",
        "Till now we have discussed so many things but one important thing you all might have being noted is that every time for outputting something on the screen, I am using a function called:\n",
        "\n",
        "```python\n",
        "print()\n",
        "```\n",
        "This is the main function by which we can output anything now we will deep dive into this function, and will try to know what features this function offers us.\n",
        "\n",
        "Let us discuss it's features in the form of points:\n",
        "\n",
        "### 1. It displays all those things which are given in those double quotes as python consider / takes it as **String Data Type**. [ Which we will gonna talk later ]"
      ],
      "metadata": {
        "id": "E1PzGSlZPThq"
      }
    },
    {
      "cell_type": "code",
      "source": [
        "print(\"Hi! my name is Tapabrata Chowdhury\")"
      ],
      "metadata": {
        "colab": {
          "base_uri": "https://localhost:8080/"
        },
        "id": "gmgfjBYvLNv1",
        "outputId": "529456c0-a1b6-4512-c1a1-b677686e90c2"
      },
      "execution_count": null,
      "outputs": [
        {
          "output_type": "stream",
          "name": "stdout",
          "text": [
            "Hi! my name is Tapabrata Chowdhury\n"
          ]
        }
      ]
    },
    {
      "cell_type": "markdown",
      "source": [
        "###2. It can output multiple arguments at a time by ' , ' operator. [ We are going to talk about operator in later. ]"
      ],
      "metadata": {
        "id": "hPMVCJo5MCQC"
      }
    },
    {
      "cell_type": "code",
      "source": [
        "print(\"My name is\",\"Tapabrata Chowdhury\")\n",
        "\n",
        "a = 10\n",
        "b = 20\n",
        "c = 6\n",
        "print(\"The value of all variables is:\",a,b,c)"
      ],
      "metadata": {
        "colab": {
          "base_uri": "https://localhost:8080/"
        },
        "id": "s5BNEnVjMO0t",
        "outputId": "7c4e1cb4-a906-4260-f3fc-26716c4697c5"
      },
      "execution_count": null,
      "outputs": [
        {
          "output_type": "stream",
          "name": "stdout",
          "text": [
            "My name is Tapabrata Chowdhury\n",
            "The value of all variables is: 10 20 6\n"
          ]
        }
      ]
    },
    {
      "cell_type": "markdown",
      "source": [
        "###3. We can concatenate multiple strings together by ' + ' operator."
      ],
      "metadata": {
        "id": "YfeWGyVlNf_6"
      }
    },
    {
      "cell_type": "code",
      "source": [
        "print(\"Hi\"+\"Hello\")"
      ],
      "metadata": {
        "colab": {
          "base_uri": "https://localhost:8080/"
        },
        "id": "pTEl6K4eOUvr",
        "outputId": "b8ee822c-0426-40cb-f239-e9b7109c4652"
      },
      "execution_count": null,
      "outputs": [
        {
          "output_type": "stream",
          "name": "stdout",
          "text": [
            "HiHello\n"
          ]
        }
      ]
    },
    {
      "cell_type": "markdown",
      "source": [
        "### 4. Now Python also provides us to write formatted string it is a alternative method to write multiple variables without using ' , ' let's see how we can write formatted string in Python."
      ],
      "metadata": {
        "id": "r0crJZ9Dv8N8"
      }
    },
    {
      "cell_type": "code",
      "source": [
        "\n",
        " x = 10\n",
        " y = 20\n",
        " z = 30\n",
        "print(f\"The value of x is {x} The value of y is {y} The value of z is {z}\")"
      ],
      "metadata": {
        "colab": {
          "base_uri": "https://localhost:8080/"
        },
        "id": "NJwN2-e1wXfM",
        "outputId": "2f1be324-70fb-4296-8f0c-2d09ec3d5bfc"
      },
      "execution_count": null,
      "outputs": [
        {
          "output_type": "stream",
          "name": "stdout",
          "text": [
            "The value of x is 10 The value of y is 20 The value of z is 30\n"
          ]
        }
      ]
    },
    {
      "cell_type": "markdown",
      "source": [
        "As we can all see by writing an small letter ' f ' before the string we can use formatted string. The second brackets are used as placeholder in the string."
      ],
      "metadata": {
        "id": "YMG0vaPZxiEQ"
      }
    },
    {
      "cell_type": "markdown",
      "source": [
        "### 5. We have one more concept called separator by default each word is separated in print function with a space but if we use a keyboard called,\n",
        "\n",
        "```python\n",
        "sep = \"\"\n",
        "```\n",
        "### By using this function we can alter what should be between two letters let's see this concept with an example:"
      ],
      "metadata": {
        "id": "iaQPRumKx4WR"
      }
    },
    {
      "cell_type": "code",
      "source": [
        " # Before using sep keyboard\n",
        "\n",
        "print(x,y,z)"
      ],
      "metadata": {
        "colab": {
          "base_uri": "https://localhost:8080/"
        },
        "id": "FmD0YnxvyvEz",
        "outputId": "63e05031-8480-427c-886d-af105a84d3f5"
      },
      "execution_count": null,
      "outputs": [
        {
          "output_type": "stream",
          "name": "stdout",
          "text": [
            "10 20 30\n"
          ]
        }
      ]
    },
    {
      "cell_type": "code",
      "source": [
        "# After using sep keyboard\n",
        "\n",
        "print(x,y,z, sep =\"#\")"
      ],
      "metadata": {
        "colab": {
          "base_uri": "https://localhost:8080/"
        },
        "id": "NG3mnSQ6zGME",
        "outputId": "a913142a-0b34-40ca-8686-c692deebfad0"
      },
      "execution_count": null,
      "outputs": [
        {
          "output_type": "stream",
          "name": "stdout",
          "text": [
            "10#20#30\n"
          ]
        }
      ]
    },
    {
      "cell_type": "markdown",
      "source": [
        "So in short we can say this keyboard decide how the words will be separated in default it is set to space but we can alter that."
      ],
      "metadata": {
        "id": "n_aHzslIzV3O"
      }
    },
    {
      "cell_type": "markdown",
      "source": [
        "### 6. At last we have another keyword called,\n",
        "\n",
        "```python\n",
        "end = \"\"\n",
        "```\n",
        "###This keywords decide what should be printed after a print statement let's see a example then we will have a concrete concept about this keyword."
      ],
      "metadata": {
        "id": "wxi6II0Dzrk0"
      }
    },
    {
      "cell_type": "code",
      "source": [
        "print(\"I am\")\n",
        "print(\"a boy\")"
      ],
      "metadata": {
        "colab": {
          "base_uri": "https://localhost:8080/"
        },
        "id": "7HfinN9Y12co",
        "outputId": "d1eb6bf0-b60c-4a9d-98f4-150fa9e15c17"
      },
      "execution_count": null,
      "outputs": [
        {
          "output_type": "stream",
          "name": "stdout",
          "text": [
            "I am\n",
            "a boy\n"
          ]
        }
      ]
    },
    {
      "cell_type": "markdown",
      "source": [
        "Let's analyse the above code if you observe closely then you have come to know that all though we did not print any\n",
        "But as we have written to print function then automatically a new line is printed between those two strings now that ' end ' keyword is used to control what will be printed after a print statement in default it is set to a new line let's see it in another code snippit."
      ],
      "metadata": {
        "id": "suLnMoNu2Ca8"
      }
    },
    {
      "cell_type": "code",
      "source": [
        "print(\"I am\", end = \" \")\n",
        "print(\"a boy\")"
      ],
      "metadata": {
        "colab": {
          "base_uri": "https://localhost:8080/"
        },
        "id": "a0_hiyKa2eHk",
        "outputId": "093f9bdf-6344-451f-fcdd-4f52edb813e3"
      },
      "execution_count": null,
      "outputs": [
        {
          "output_type": "stream",
          "name": "stdout",
          "text": [
            "I am a boy\n"
          ]
        }
      ]
    },
    {
      "cell_type": "markdown",
      "source": [
        "As we can see that I am replacing that new line with a space so after finishing that first print statement a new space is printed and then printed the second print statement."
      ],
      "metadata": {
        "id": "_Sh1s0Fs2qeK"
      }
    },
    {
      "cell_type": "markdown",
      "source": [
        "# From the very next notebook we will be discussing about the various data types and many other concepts."
      ],
      "metadata": {
        "id": "O3gm2ocC3LTh"
      }
    }
  ]
}