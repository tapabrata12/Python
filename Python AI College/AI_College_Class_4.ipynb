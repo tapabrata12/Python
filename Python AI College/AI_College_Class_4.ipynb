{
  "nbformat": 4,
  "nbformat_minor": 0,
  "metadata": {
    "colab": {
      "provenance": []
    },
    "kernelspec": {
      "name": "python3",
      "display_name": "Python 3"
    },
    "language_info": {
      "name": "python"
    }
  },
  "cells": [
    {
      "cell_type": "markdown",
      "source": [
        "### Implement A* Algorithm"
      ],
      "metadata": {
        "id": "jPGbKyff3bEB"
      }
    },
    {
      "cell_type": "code",
      "source": [
        "import heapq\n",
        "import matplotlib.pyplot as plt\n",
        "import numpy as np\n",
        "\n",
        "# Define the heuristic function (Manhattan distance)\n",
        "def heuristic(a, b):\n",
        "    return abs(a[0] - b[0]) + abs(a[1] - b[1])\n",
        "\n",
        "# A* search algorithm\n",
        "def astar_search(grid, start, goal):\n",
        "    open_set = []\n",
        "    heapq.heappush(open_set, (0, start))\n",
        "\n",
        "    came_from = {}\n",
        "    g_score = {start: 0}\n",
        "    f_score = {start: heuristic(start, goal)}\n",
        "\n",
        "    while open_set:\n",
        "        current = heapq.heappop(open_set)[1]\n",
        "\n",
        "        if current == goal:\n",
        "            path = []\n",
        "            while current in came_from:\n",
        "                path.append(current)\n",
        "                current = came_from[current]\n",
        "            path.append(start)\n",
        "            return path[::-1]\n",
        "\n",
        "        neighbors = [(current[0] + x, current[1] + y) for x, y in [(0, 1), (1, 0), (0, -1), (-1, 0)]]\n",
        "        for neighbor in neighbors:\n",
        "            if 0 <= neighbor[0] < len(grid) and 0 <= neighbor[1] < len(grid[0]):\n",
        "                if grid[neighbor[0]][neighbor[1]] == 1:\n",
        "                    continue\n",
        "\n",
        "                tentative_g_score = g_score[current] + 1\n",
        "\n",
        "                if neighbor not in g_score or tentative_g_score < g_score[neighbor]:\n",
        "                    came_from[neighbor] = current\n",
        "                    g_score[neighbor] = tentative_g_score\n",
        "                    f_score[neighbor] = tentative_g_score + heuristic(neighbor, goal)\n",
        "                    heapq.heappush(open_set, (f_score[neighbor], neighbor))\n",
        "\n",
        "    return None\n",
        "\n",
        "# Example grid (0 = walkable, 1 = obstacle)\n",
        "grid = [\n",
        "    [0, 1, 0, 0, 0],\n",
        "    [0, 1, 0, 1, 0],\n",
        "    [0, 0, 0, 1, 0],\n",
        "    [0, 1, 1, 1, 0],\n",
        "    [0, 0, 0, 0, 0]\n",
        "]\n",
        "start = (0, 0)\n",
        "goal = (4, 4)\n",
        "\n",
        "# Run A* search\n",
        "path = astar_search(grid, start, goal)\n",
        "\n",
        "# Visualization\n",
        "def visualize_path(grid, path, start, goal):\n",
        "    grid_array = np.array(grid)\n",
        "    fig, ax = plt.subplots()\n",
        "\n",
        "    # Plot the grid\n",
        "    ax.imshow(grid_array, cmap=plt.cm.Pastel1)\n",
        "    # Plot the path\n",
        "    if path:\n",
        "        path_x, path_y = zip(*path)\n",
        "        ax.plot(path_y, path_x, color='red', linewidth=2, marker='o')\n",
        "    # Mark start and goal\n",
        "    ax.scatter(start[1], start[0], marker=\"o\", color=\"green\", s=100, label=\"Start\")\n",
        "    ax.scatter(goal[1], goal[0], marker=\"x\", color=\"blue\", s=100, label=\"Goal\")\n",
        "    # Set labels and title\n",
        "    ax.set_xticks(np.arange(-0.5, len(grid[0]), 1), minor=True)\n",
        "    ax.set_yticks(np.arange(-0.5, len(grid), 1), minor=True)\n",
        "    ax.grid(which=\"minor\", color=\"black\", linestyle='-', linewidth=2)\n",
        "    ax.tick_params(which=\"both\", bottom=False, left=False, labelbottom=False, labelleft=False)\n",
        "\n",
        "    plt.title(\"A* Pathfinding\")\n",
        "    plt.legend()\n",
        "    plt.show()\n",
        "\n",
        "# Visualize the grid and the path\n",
        "visualize_path(grid, path, start, goal)"
      ],
      "metadata": {
        "colab": {
          "base_uri": "https://localhost:8080/",
          "height": 428
        },
        "id": "a4nQy8jV40Fn",
        "outputId": "892d1b53-31a8-4b5e-cde8-fea79f532e42"
      },
      "execution_count": 1,
      "outputs": [
        {
          "output_type": "display_data",
          "data": {
            "text/plain": [
              "<Figure size 640x480 with 1 Axes>"
            ],
            "image/png": "[encoded data removed]"
          },
          "metadata": {}
        }
      ]
    }
  ]
}