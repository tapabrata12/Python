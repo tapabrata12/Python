{
  "nbformat": 4,
  "nbformat_minor": 0,
  "metadata": {
    "colab": {
      "provenance": []
    },
    "kernelspec": {
      "name": "python3",
      "display_name": "Python 3"
    },
    "language_info": {
      "name": "python"
    }
  },
  "cells": [
    {
      "cell_type": "markdown",
      "source": [
        "### Q1 Write a python program to check the number is even or odd"
      ],
      "metadata": {
        "id": "v1OgIo5Mw3Jj"
      }
    },
    {
      "cell_type": "code",
      "source": [
        "num = int(input(\"Enter the number: \"))\n",
        "\n",
        "if num % 2 == 0:\n",
        "    print(f\"{num} is even\")\n",
        "else:\n",
        "    print(f\"{num} is odd\")"
      ],
      "metadata": {
        "colab": {
          "base_uri": "https://localhost:8080/"
        },
        "id": "iZFfb0BOw6cS",
        "outputId": "71ed81fa-88b3-4a12-cc03-18d341fbf5b2"
      },
      "execution_count": 1,
      "outputs": [
        {
          "output_type": "stream",
          "name": "stdout",
          "text": [
            "Enter the number: 5\n",
            "5 is odd\n"
          ]
        }
      ]
    },
    {
      "cell_type": "markdown",
      "source": [
        "### Q2 Write a python program to print the largest of the three numbers."
      ],
      "metadata": {
        "id": "58e4WJffxQ6-"
      }
    },
    {
      "cell_type": "code",
      "source": [
        "num1 = int(input(\"Enter the first number: \"))\n",
        "num2 = int(input(\"Enter the second number: \"))\n",
        "num3 = int(input(\"Enter the third number: \"))\n",
        "\n",
        "if num1 >= num2 and num1 >= num3:\n",
        "    print(f\"{num1} is the largest number\")\n",
        "elif num2 >= num1 and num2 >= num3:\n",
        "    print(f\"{num2} is the largest number\")\n",
        "else:\n",
        "    print(f\"{num3} is the largest number\")"
      ],
      "metadata": {
        "colab": {
          "base_uri": "https://localhost:8080/"
        },
        "id": "Gtf2CalCxUAW",
        "outputId": "06c0c259-413e-477d-8b17-21078cfa0b45"
      },
      "execution_count": 2,
      "outputs": [
        {
          "output_type": "stream",
          "name": "stdout",
          "text": [
            "Enter the first number: 5\n",
            "Enter the second number: 6\n",
            "Enter the third number: 9\n",
            "9 is the largest number\n"
          ]
        }
      ]
    },
    {
      "cell_type": "markdown",
      "source": [
        "### Q3 Write a python program to check your score is in grade O, E , A, B ,C , D or F"
      ],
      "metadata": {
        "id": "npwa_EzZxrAy"
      }
    },
    {
      "cell_type": "code",
      "source": [
        "marks = int(input(\"Enter the marks:: \"))\n",
        "if marks > 90 and marks <= 100:\n",
        " print(\"Congrats ! you scored grade O ...\")\n",
        "elif marks > 80 and marks <= 88:\n",
        " print(\"You scored grade E ...\")\n",
        "elif marks > 70 and marks <= 79:\n",
        " print(\"You scored grade A ...\")\n",
        "elif (marks > 60 and marks <= 69):\n",
        " print(\"You scored grade B ...\")\n",
        "\n",
        "elif (marks > 50 and marks <= 59):\n",
        " print(\"You scored grade C ...\")\n",
        "\n",
        "elif (marks > 40 and marks <= 49):\n",
        " print(\"You scored grade D ...\")\n",
        "else:\n",
        " print(\"Sorry you are fail ?\")"
      ],
      "metadata": {
        "colab": {
          "base_uri": "https://localhost:8080/"
        },
        "id": "Y412ahXMx0vu",
        "outputId": "2485a4fd-4fea-413b-b3cf-d357299aa919"
      },
      "execution_count": 3,
      "outputs": [
        {
          "output_type": "stream",
          "name": "stdout",
          "text": [
            "Enter the marks:: 5\n",
            "Sorry you are fail ?\n"
          ]
        }
      ]
    },
    {
      "cell_type": "markdown",
      "source": [
        "### Q4 Write a python program to print a multiplication table"
      ],
      "metadata": {
        "id": "2S3mVQ9AyXXs"
      }
    },
    {
      "cell_type": "code",
      "source": [
        "num = int(input(\"enter a number:\"))\n",
        "counter = 1\n",
        "\n",
        "print(\"The Multiplication Table of: \", num)\n",
        "while counter <= 10:\n",
        " ans = num * counter\n",
        " print (num, 'x', counter, '=', ans)\n",
        " counter += 1"
      ],
      "metadata": {
        "colab": {
          "base_uri": "https://localhost:8080/"
        },
        "id": "OJM1tPSNyal-",
        "outputId": "b6ff6245-1343-4ca2-aa44-f74b9482ae67"
      },
      "execution_count": 4,
      "outputs": [
        {
          "output_type": "stream",
          "name": "stdout",
          "text": [
            "enter a number:5\n",
            "The Multiplication Table of:  5\n",
            "5 x 1 = 5\n",
            "5 x 2 = 10\n",
            "5 x 3 = 15\n",
            "5 x 4 = 20\n",
            "5 x 5 = 25\n",
            "5 x 6 = 30\n",
            "5 x 7 = 35\n",
            "5 x 8 = 40\n",
            "5 x 9 = 45\n",
            "5 x 10 = 50\n"
          ]
        }
      ]
    },
    {
      "cell_type": "markdown",
      "source": [
        "### Q5 Write a python program to check the number is Armstrong number or not. ( 153 = 1* 1 * 1 + 5 * 5 * 5 + 3 * 3 * 3 // 153 is an Armstrong number)"
      ],
      "metadata": {
        "id": "mQ7IlbT6yjH5"
      }
    },
    {
      "cell_type": "code",
      "source": [
        "num = int(input(\"Enter a number: \"))\n",
        "sum = 0\n",
        "# find the sum of the cube of each digit\n",
        "temp = num\n",
        "while temp > 0:\n",
        " digit = temp % 10\n",
        " sum += digit ** 3\n",
        " temp = temp//10\n",
        "# display the result\n",
        "if num == sum:\n",
        " print(num,\"is an Armstrong number\")\n",
        "else:\n",
        " print(num,\"is not an Armstrong number\")"
      ],
      "metadata": {
        "colab": {
          "base_uri": "https://localhost:8080/"
        },
        "id": "pj9Nk__9yz-h",
        "outputId": "89609adc-3d85-4f04-d3ab-57e62c1d892c"
      },
      "execution_count": 5,
      "outputs": [
        {
          "output_type": "stream",
          "name": "stdout",
          "text": [
            "Enter a number: 153\n",
            "153 is an Armstrong number\n"
          ]
        }
      ]
    }
  ]
}