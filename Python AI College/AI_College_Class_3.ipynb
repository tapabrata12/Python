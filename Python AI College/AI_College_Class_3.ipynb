{
  "nbformat": 4,
  "nbformat_minor": 0,
  "metadata": {
    "colab": {
      "provenance": []
    },
    "kernelspec": {
      "name": "python3",
      "display_name": "Python 3"
    },
    "language_info": {
      "name": "python"
    }
  },
  "cells": [
    {
      "cell_type": "markdown",
      "source": [
        "### Q1 Implement BFS"
      ],
      "metadata": {
        "id": "VxQpYF1B2Q_S"
      }
    },
    {
      "cell_type": "code",
      "source": [
        "def bfs(g,n):\n",
        "\n",
        "\n",
        "    q = list()\n",
        "\n",
        "    q.append(n)\n",
        "\n",
        "    visited = {key: False for key in g}\n",
        "\n",
        "    visited[n] = True\n",
        "\n",
        "    printed_graph = list()\n",
        "\n",
        "    while len(q) != 0:\n",
        "\n",
        "        s = q[0]\n",
        "        q.pop(0)\n",
        "        printed_graph.append(s)\n",
        "\n",
        "        for neighbor in g[s]:\n",
        "            if visited[neighbor] == False:\n",
        "                q.append(neighbor)\n",
        "                visited[neighbor] = True\n",
        "\n",
        "\n",
        "    for i in printed_graph:\n",
        "        print(i, \"->\", end=\" \")\n",
        "\n",
        "    print(None)\n",
        "\n",
        "graph = {\n",
        "      5:  [1,8],\n",
        "      1:  [5,8,10],\n",
        "      8:  [5,1,10],\n",
        "      10: [1,8,20],\n",
        "      20: [10,25],\n",
        "      25: [20]\n",
        "}\n",
        "\n",
        "bfs(graph,next(iter(graph)))"
      ],
      "metadata": {
        "colab": {
          "base_uri": "https://localhost:8080/"
        },
        "id": "LBHAvsG72XF7",
        "outputId": "93b8ef63-de4a-44ba-c04d-b640d9c34725"
      },
      "execution_count": 1,
      "outputs": [
        {
          "output_type": "stream",
          "name": "stdout",
          "text": [
            "5 -> 1 -> 8 -> 10 -> 20 -> 25 -> None\n"
          ]
        }
      ]
    },
    {
      "cell_type": "markdown",
      "source": [
        "### Q2 Implement DFS"
      ],
      "metadata": {
        "id": "EtrZ2y3B2eYi"
      }
    },
    {
      "cell_type": "code",
      "source": [
        "from collections import deque\n",
        "\n",
        "def dfs(g, s):\n",
        "    Stack = deque()\n",
        "    Stack.append(s)\n",
        "\n",
        "    visited = {key: False for key in g}\n",
        "    visited[s] = True\n",
        "\n",
        "    printed_graph = list()\n",
        "\n",
        "    while len(Stack) != 0:\n",
        "        node = Stack[-1]\n",
        "        Stack.pop()\n",
        "        printed_graph.append(node)\n",
        "\n",
        "        for neighbor in g[node]:\n",
        "            if not visited[neighbor]:\n",
        "                Stack.append(neighbor)\n",
        "                visited[neighbor] = True\n",
        "\n",
        "    for i in printed_graph:\n",
        "        print(i, \"->\", end=\" \")\n",
        "    print(None)\n",
        "\n",
        "graph = {\n",
        "    5: [1, 8],\n",
        "    1: [5, 8, 10],\n",
        "    8: [5, 1, 10],\n",
        "    10: [1, 8, 20],\n",
        "    20: [10, 25],\n",
        "    25: [20]\n",
        "}\n",
        "\n",
        "dfs(graph, next(iter(graph)))"
      ],
      "metadata": {
        "colab": {
          "base_uri": "https://localhost:8080/"
        },
        "id": "PF2-bmG12jNS",
        "outputId": "a5c12a80-e1de-4018-c9c5-ea6c594df9a3"
      },
      "execution_count": 2,
      "outputs": [
        {
          "output_type": "stream",
          "name": "stdout",
          "text": [
            "5 -> 8 -> 10 -> 20 -> 25 -> 1 -> None\n"
          ]
        }
      ]
    }
  ]
}