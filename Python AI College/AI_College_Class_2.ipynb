{
  "nbformat": 4,
  "nbformat_minor": 0,
  "metadata": {
    "colab": {
      "provenance": []
    },
    "kernelspec": {
      "name": "python3",
      "display_name": "Python 3"
    },
    "language_info": {
      "name": "python"
    }
  },
  "cells": [
    {
      "cell_type": "markdown",
      "source": [
        "### Q1 WRITE A PYTHON PROGRAM TO TAKE INPUT INTO LIST AND ADD ALL THE ITEMS AND PRINT SUM"
      ],
      "metadata": {
        "id": "g6vRQ5MuzUhV"
      }
    },
    {
      "cell_type": "code",
      "source": [
        "MyList = []\n",
        "MyList.append(int(input(\"Enter the number: \")))\n",
        "\n",
        "while True:\n",
        "     n =  input(\"Do you want to add more numbers? (Y / N): \")\n",
        "     if n == \"Y\":\n",
        "       MyList.append(int(input(\"Enter the number: \")))\n",
        "     else:\n",
        "       break\n",
        "\n",
        "print(\"Items are: \",MyList)\n",
        "\n",
        "print(\"Adding.....\",end=\"\\n\")\n",
        "sum = 0\n",
        "for iteams in MyList:\n",
        "  sum = sum + iteams\n",
        "\n",
        "print(\"The sum of all the numbers is: \",sum)"
      ],
      "metadata": {
        "colab": {
          "base_uri": "https://localhost:8080/"
        },
        "id": "1flgn9Ly0GTh",
        "outputId": "0c414614-faa9-4fff-e61b-d5c66381bfe2"
      },
      "execution_count": 2,
      "outputs": [
        {
          "output_type": "stream",
          "name": "stdout",
          "text": [
            "Enter the number: 5\n",
            "Do you want to add more numbers? (Y / N): Y\n",
            "Enter the number: 9\n",
            "Do you want to add more numbers? (Y / N): Y\n",
            "Enter the number: 5\n",
            "Do you want to add more numbers? (Y / N): N\n",
            "Items are:  [5, 9, 5]\n",
            "Adding.....\n",
            "The sum of all the numbers is:  19\n"
          ]
        }
      ]
    },
    {
      "cell_type": "markdown",
      "source": [
        "### Q2 WRITE A PYTHON PROGRAM TO CONCAT 3 DICTIONARY THKING INPUT FROM USER"
      ],
      "metadata": {
        "id": "DaUr9VHF0Wi1"
      }
    },
    {
      "cell_type": "code",
      "source": [
        "My_dict1 = {}\n",
        "\n",
        "num_entries = int(input(\"Enter the number of entries you want to add to first dictionary: \"))\n",
        "\n",
        "for pair in range(num_entries):\n",
        "  key = input(\"Enter the key: \")\n",
        "  value = input(\"Enter the value: \")\n",
        "  My_dict1[key] = value\n",
        "\n",
        "print(\"The first dictionary is: \",My_dict1)\n",
        "\n",
        "My_dict2 = {}\n",
        "num_entries = int(input(\"Enter the number of entries you want to add to second dictionary: \"))\n",
        "\n",
        "for pair in range(num_entries):\n",
        "  key = input(\"Enter the key: \")\n",
        "  value = input(\"Enter the value: \")\n",
        "  My_dict2[key] = value\n",
        "\n",
        "print(\"The Second dictionary is: \",My_dict2)\n",
        "\n",
        "\n",
        "My_dict3 = {}\n",
        "num_entries = int(input(\"Enter the number of entries you want to add to third dictionary: \"))\n",
        "\n",
        "for pair in range(num_entries):\n",
        "  key = input(\"Enter the key: \")\n",
        "  value = input(\"Enter the value: \")\n",
        "  My_dict3[key] = value\n",
        "\n",
        "print(\"The Third dictionary is: \",My_dict3)\n",
        "\n",
        "\n",
        "# Merge the dictionaries\n",
        "merged_dict = {}\n",
        "merged_dict.update(My_dict1)\n",
        "merged_dict.update(My_dict2)\n",
        "merged_dict.update(My_dict3)\n",
        "\n",
        "\n",
        "print(\"The merged dictionary is:\\n\")\n",
        "print(merged_dict)"
      ],
      "metadata": {
        "colab": {
          "base_uri": "https://localhost:8080/"
        },
        "id": "LuknGgEb0g7Y",
        "outputId": "7085ece5-a2a6-4473-c979-e0e5e065049b"
      },
      "execution_count": 3,
      "outputs": [
        {
          "output_type": "stream",
          "name": "stdout",
          "text": [
            "Enter the number of entries you want to add to first dictionary: 2\n",
            "Enter the key: 5\n",
            "Enter the value: 5\n",
            "Enter the key: 2\n",
            "Enter the value: 1\n",
            "The first dictionary is:  {'5': '5', '2': '1'}\n",
            "Enter the number of entries you want to add to second dictionary: 2\n",
            "Enter the key: 9\n",
            "Enter the value: 10\n",
            "Enter the key: 4\n",
            "Enter the value: 5\n",
            "The Second dictionary is:  {'9': '10', '4': '5'}\n",
            "Enter the number of entries you want to add to third dictionary: 0\n",
            "The Third dictionary is:  {}\n",
            "The merged dictionary is:\n",
            "\n",
            "{'5': '5', '2': '1', '9': '10', '4': '5'}\n"
          ]
        }
      ]
    },
    {
      "cell_type": "markdown",
      "source": [
        "### Q3 WRITE A PYTHON PROGRAM TO CONVER A LIST INTO TUPLE"
      ],
      "metadata": {
        "id": "6mYhPxc_0z4O"
      }
    },
    {
      "cell_type": "code",
      "source": [
        "MyList = []\n",
        "MyList.append(int(input(\"Enter the number: \")))\n",
        "\n",
        "while True:\n",
        "     n =  input(\"Do you want to add more numbers? (Y / N): \")\n",
        "     if n == \"Y\":\n",
        "       MyList.append(int(input(\"Enter the number: \")))\n",
        "     else:\n",
        "       break\n",
        "\n",
        "print(\"Items are: \",MyList)\n",
        "\n",
        "print(\"Converting.......\",end=\"\\n\")\n",
        "\n",
        "My_list = tuple(MyList)\n",
        "\n",
        "print(\"The tuple is: \",My_list)"
      ],
      "metadata": {
        "colab": {
          "base_uri": "https://localhost:8080/"
        },
        "id": "RPdFRHxC088u",
        "outputId": "3155f5bf-2cdd-4ed9-f358-a665972fa338"
      },
      "execution_count": 4,
      "outputs": [
        {
          "output_type": "stream",
          "name": "stdout",
          "text": [
            "Enter the number: 2\n",
            "Do you want to add more numbers? (Y / N): Y\n",
            "Enter the number: 6\n",
            "Do you want to add more numbers? (Y / N): N\n",
            "Items are:  [2, 6]\n",
            "Converting.......\n",
            "The tuple is:  (2, 6)\n"
          ]
        }
      ]
    },
    {
      "cell_type": "markdown",
      "source": [
        "### Q4 WRITE A PYTHON PROGRAM TO COUNT NUMBER OF VOWEL IN A STRING TAKING INPUT FROM USER"
      ],
      "metadata": {
        "id": "DPrM6SaD1Nyb"
      }
    },
    {
      "cell_type": "code",
      "source": [
        "String = input(\"Enter the string: \")\n",
        "\n",
        "vowels = 0\n",
        "\n",
        "for i in String:\n",
        "    if(i == 'a' or i == 'e' or i == 'i' or i == 'o' or i == 'u' or i == 'A'\n",
        "       or i == 'E' or i == 'I' or i == 'O' or i == 'U'):\n",
        "        vowels = vowels + 1\n",
        "print(\"The number of vowels are: \", vowels)"
      ],
      "metadata": {
        "colab": {
          "base_uri": "https://localhost:8080/"
        },
        "id": "bXmS_Qgi1R7I",
        "outputId": "fd7bc936-0801-4a88-c529-85f3a3696f00"
      },
      "execution_count": 5,
      "outputs": [
        {
          "output_type": "stream",
          "name": "stdout",
          "text": [
            "Enter the string: Tapabrata\n",
            "The number of vowels are:  4\n"
          ]
        }
      ]
    },
    {
      "cell_type": "markdown",
      "source": [
        "### Q5 WRITE A PYTHON PROGRAM TO REMOVE ITEM FROM A GIVEN SET"
      ],
      "metadata": {
        "id": "VuDuAPqM1jLY"
      }
    },
    {
      "cell_type": "code",
      "source": [
        "My_Set = set()\n",
        "\n",
        "My_Set.add(int(input(\"Enter the number: \")))\n",
        "\n",
        "while True:\n",
        "  ask = input(\"Do you want to add more numbers? (Y / N): \")\n",
        "  if ask == \"Y\":\n",
        "    My_Set.add(int(input(\"Enter the number: \")))\n",
        "  else:\n",
        "    break\n",
        "print(\"Items are: \",My_Set)\n",
        "\n",
        "print(\"....... Remove the iteams .......\",end=\"\\n\")\n",
        "\n",
        "My_Set.remove(int(input(\"Enter the number to remove: \")))\n",
        "\n",
        "while True:\n",
        "  ask = input(\"Do you want to remove more numbers? (Y / N): \")\n",
        "  if ask == \"Y\":\n",
        "    My_Set.remove(int(input(\"Enter the number to remove: \")))\n",
        "\n",
        "  elif My_Set == {}:\n",
        "    print(\"The set is empty now\")\n",
        "    break\n",
        "\n",
        "  else:\n",
        "    break\n",
        "\n",
        "print(\"Items are: \",My_Set)"
      ],
      "metadata": {
        "colab": {
          "base_uri": "https://localhost:8080/"
        },
        "id": "14R-tJBj1mLv",
        "outputId": "f1d7c069-3ce4-45d9-cf9e-149efb3284fd"
      },
      "execution_count": 6,
      "outputs": [
        {
          "output_type": "stream",
          "name": "stdout",
          "text": [
            "Enter the number: 5\n",
            "Do you want to add more numbers? (Y / N): Y\n",
            "Enter the number: 2\n",
            "Do you want to add more numbers? (Y / N): N\n",
            "Items are:  {2, 5}\n",
            "....... Remove the iteams .......\n",
            "Enter the number to remove: 2\n",
            "Do you want to remove more numbers? (Y / N): N\n",
            "Items are:  {5}\n"
          ]
        }
      ]
    }
  ]
}