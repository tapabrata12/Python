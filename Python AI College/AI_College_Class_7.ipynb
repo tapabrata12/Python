{
  "nbformat": 4,
  "nbformat_minor": 0,
  "metadata": {
    "colab": {
      "provenance": []
    },
    "kernelspec": {
      "name": "python3",
      "display_name": "Python 3"
    },
    "language_info": {
      "name": "python"
    }
  },
  "cells": [
    {
      "cell_type": "markdown",
      "source": [
        "### Q1 Write a program to create an array of shape  5X4 containing elements 1 to 20 find the sum of entire array well as well as sum of each row and column"
      ],
      "metadata": {
        "id": "4c68N_7zA53Q"
      }
    },
    {
      "cell_type": "code",
      "source": [
        "import numpy as np\n",
        "\n",
        "arr = np.arange(1,21)\n",
        "\n",
        "arr_2D = arr.reshape(5,4)\n",
        "\n",
        "print(arr_2D)\n",
        "\n",
        "print(\"The Sum will be: \",np.sum(arr))\n",
        "\n",
        "print(\"The Sum of Rows will be: \",np.sum(arr_2D,axis=0))\n",
        "\n",
        "print(\"The Sum of Columns will be: \",np.sum(arr_2D,axis=1))\n"
      ],
      "metadata": {
        "colab": {
          "base_uri": "https://localhost:8080/"
        },
        "id": "V_EWzqAWBpyQ",
        "outputId": "59879511-b72c-49a7-9b20-55e334d335c6"
      },
      "execution_count": 1,
      "outputs": [
        {
          "output_type": "stream",
          "name": "stdout",
          "text": [
            "[[ 1  2  3  4]\n",
            " [ 5  6  7  8]\n",
            " [ 9 10 11 12]\n",
            " [13 14 15 16]\n",
            " [17 18 19 20]]\n",
            "The Sum will be:  210\n",
            "The Sum of Rows will be:  [45 50 55 60]\n",
            "The Sum of Columns will be:  [10 26 42 58 74]\n"
          ]
        }
      ]
    },
    {
      "cell_type": "markdown",
      "source": [
        "\n",
        "### Q2 Create a array of size 10 with each element of it set as value 3 and find the memory size of this array and it's indivisiul element.\n",
        "\n"
      ],
      "metadata": {
        "id": "r4phcHOXGT8O"
      }
    },
    {
      "cell_type": "code",
      "source": [
        "arr2 = np.full(10,3)\n",
        "\n",
        "print(arr2)\n",
        "\n",
        "print(arr2.nbytes)\n",
        "\n",
        "print(arr2.itemsize)"
      ],
      "metadata": {
        "colab": {
          "base_uri": "https://localhost:8080/"
        },
        "id": "IeN8lnxpIOJG",
        "outputId": "c2e16e04-90f4-4eca-f634-a1d7e39337c3"
      },
      "execution_count": 2,
      "outputs": [
        {
          "output_type": "stream",
          "name": "stdout",
          "text": [
            "[3 3 3 3 3 3 3 3 3 3]\n",
            "80\n",
            "8\n"
          ]
        }
      ]
    },
    {
      "cell_type": "markdown",
      "source": [
        "### Q3 Create an array b of size 10 with ranging 0 to 90 evenly space.\n",
        "\n"
      ],
      "metadata": {
        "id": "MswbKe0uJACW"
      }
    },
    {
      "cell_type": "code",
      "source": [
        "arr3 = np.linspace(0,90,10)\n",
        "\n",
        "print(arr3)"
      ],
      "metadata": {
        "colab": {
          "base_uri": "https://localhost:8080/"
        },
        "id": "sr5ZxajTJD8m",
        "outputId": "3cf3f187-75f5-4ae9-851b-a5a348810b5a"
      },
      "execution_count": 3,
      "outputs": [
        {
          "output_type": "stream",
          "name": "stdout",
          "text": [
            "[ 0. 10. 20. 30. 40. 50. 60. 70. 80. 90.]\n"
          ]
        }
      ]
    },
    {
      "cell_type": "markdown",
      "source": [
        "### Q4 Reverse elements of array arr3\n",
        "\n"
      ],
      "metadata": {
        "id": "e0i4y2BwJLpl"
      }
    },
    {
      "cell_type": "code",
      "source": [
        "print(np.flip(arr3, axis=None))"
      ],
      "metadata": {
        "colab": {
          "base_uri": "https://localhost:8080/"
        },
        "id": "P5evTfTUJPwV",
        "outputId": "8c07febe-29f2-4ae1-d04f-80065ee2f3d2"
      },
      "execution_count": 4,
      "outputs": [
        {
          "output_type": "stream",
          "name": "stdout",
          "text": [
            "[90. 80. 70. 60. 50. 40. 30. 20. 10.  0.]\n"
          ]
        }
      ]
    },
    {
      "cell_type": "markdown",
      "source": [
        "### Q5 Add arrays arr2 and arr3 and store it on result arr4 array."
      ],
      "metadata": {
        "id": "SjdQ3fmpJ1cG"
      }
    },
    {
      "cell_type": "code",
      "source": [
        "arr4 = np.add(arr2,arr3)\n",
        "\n",
        "print(arr4)"
      ],
      "metadata": {
        "colab": {
          "base_uri": "https://localhost:8080/"
        },
        "id": "dqUtwkj3KAZd",
        "outputId": "bd6432b1-9e5c-4c45-b9ea-8336f773e62e"
      },
      "execution_count": 5,
      "outputs": [
        {
          "output_type": "stream",
          "name": "stdout",
          "text": [
            "[ 3. 13. 23. 33. 43. 53. 63. 73. 83. 93.]\n"
          ]
        }
      ]
    }
  ]
}