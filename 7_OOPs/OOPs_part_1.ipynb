{
  "nbformat": 4,
  "nbformat_minor": 0,
  "metadata": {
    "colab": {
      "provenance": []
    },
    "kernelspec": {
      "name": "python3",
      "display_name": "Python 3"
    },
    "language_info": {
      "name": "python"
    }
  },
  "cells": [
    {
      "cell_type": "markdown",
      "source": [
        "# OOP:\n",
        "\n",
        "Oop gives us that power to create your own datatype."
      ],
      "metadata": {
        "id": "UZCEnF2tq6JC"
      }
    },
    {
      "cell_type": "markdown",
      "source": [
        "# Classes:\n",
        " - Named group of propertits and functions. We can also say that class is blueprint for creating anything. There are two types of classes in Python,\n",
        " - Built in\n",
        " - User define\n",
        "\n",
        "This class should write in pascal case\n",
        "\n",
        "Eg,\n",
        "### Syntax\n",
        " ```python\n",
        "\n",
        " class ClassName: # <- Pascal case\n",
        "     # Propertits to be filled up\n",
        "\n",
        "     def Methods():\n",
        "      # Methods definations to be filled up\n",
        " ```\n",
        "\n",
        " # Objects:\n",
        "\n",
        " - Thease are that physical reality / entity who uses that properties and methods."
      ],
      "metadata": {
        "id": "TkGZQgo2BMv8"
      }
    },
    {
      "cell_type": "code",
      "source": [
        "class MyClass:\n",
        "  name = \"User\"\n",
        "  age = 0\n",
        "  gender = \"Male/Female\"\n",
        "\n",
        "\n",
        "# Object creating\n",
        "obj1 = MyClass()\n",
        "\n",
        "# Giving custom values or it will print that default values.\n",
        "obj1.name = 'Tapabrata Chowdhury'\n",
        "obj1.age = 22\n",
        "obj1.gender = 'Male'\n",
        "\n",
        "print(obj1.name)\n",
        "print(obj1.age)\n",
        "print(obj1.gender)"
      ],
      "metadata": {
        "colab": {
          "base_uri": "https://localhost:8080/"
        },
        "id": "SYaEMx5oBMgM",
        "outputId": "cbf6c0e4-286e-4314-ffc1-b08a87fbcc8d"
      },
      "execution_count": null,
      "outputs": [
        {
          "output_type": "stream",
          "name": "stdout",
          "text": [
            "Tapabrata Chowdhury\n",
            "22\n",
            "Male\n"
          ]
        }
      ]
    },
    {
      "cell_type": "markdown",
      "source": [
        "## Constructor:\n",
        "\n",
        "- It is a speacial kind of function which inicializes the properties while creating the objects.\n",
        "\n",
        "- For real world application, **The constructor usage is to write the configaration related code**, which developer does not want to give that control to user, like: DB connection.\n",
        "\n",
        "### Syntax\n",
        "```python\n",
        "\n",
        "     def __init__(self, Arguments):\n",
        "      # Self keyword refers to the current obj which is using that class for that time.\n",
        "      \n",
        "      # All argument with self keyword\n",
        "\n",
        "      self.Arguments = Arguments     \n",
        "```"
      ],
      "metadata": {
        "id": "utBeZWNlIvAH"
      }
    },
    {
      "cell_type": "code",
      "source": [
        "class Myclass:\n",
        "\n",
        " # Propertits in constructor don't have values predefined they take values at obj creation time\n",
        "    def __init__(self, name, age, gender):\n",
        "      self.name = name\n",
        "      self.age = age\n",
        "      self.gender = gender\n",
        "\n",
        "    def MethodPrinting(self):\n",
        "      # Methods\n",
        "      print(self.name)\n",
        "      print(self.age)\n",
        "      print(self.gender)\n",
        "\n",
        "\n",
        "obj1 = Myclass('Tapabrata Chowdhury', 22, 'Male') # Giving value at creation time no need to predefine\n",
        "\n",
        "obj1.MethodPrinting()"
      ],
      "metadata": {
        "colab": {
          "base_uri": "https://localhost:8080/"
        },
        "id": "9vnWYmQUKRyS",
        "outputId": "506bbe70-c530-4b68-cb86-53becece8445"
      },
      "execution_count": null,
      "outputs": [
        {
          "output_type": "stream",
          "name": "stdout",
          "text": [
            "Tapabrata Chowdhury\n",
            "22\n",
            "Male\n"
          ]
        }
      ]
    },
    {
      "cell_type": "markdown",
      "source": [
        "### Now this enough for building our first oop program, now let's build a ATM system,\n",
        "\n",
        "We know that there are two things / parameters which is most important in ATM which is,\n",
        "\n",
        "- ATM Pin\n",
        "- Balance\n",
        "\n",
        "now we are going to code this.  \n",
        "\n",
        "```python\n",
        "class ATM:\n",
        "  def __init__(self):\n",
        "    self.pin = None\n",
        "    self.balance = 0\n",
        "```"
      ],
      "metadata": {
        "id": "o0-2fNPB8jYF"
      }
    },
    {
      "cell_type": "markdown",
      "source": [
        "After done with that we also have to see that how many functionalitits a ATM can offer,\n",
        "- Pin set\n",
        "- Pin change\n",
        "- Add money\n",
        "- Widraw money\n",
        "- Check balance\n",
        "\n",
        "Now lets code the menu which shows all the function, and then code the whole program."
      ],
      "metadata": {
        "id": "_IgajkvdTzXu"
      }
    },
    {
      "cell_type": "code",
      "source": [
        "class ATM:\n",
        "    def __init__(self):\n",
        "        self.choice = None\n",
        "        self.PIN = None\n",
        "        self.Balance = 0\n",
        "        self.menu()\n",
        "\n",
        "    def menu(self):\n",
        "\n",
        "        print(\" 1. Create Pin \\n 2. Reset Pin \\n 3. Check Balance \\n 4. Add balance \\n 5. Remove balance \\n 6. Exit\")\n",
        "        self.choice = int(input(\"Enter your choice: \"))\n",
        "\n",
        "        if self.choice == 1:\n",
        "            print(self.create_pin())\n",
        "            self.menu()\n",
        "        elif self.choice == 2:\n",
        "            print(self.reset_pin())\n",
        "            self.menu()\n",
        "        elif self.choice == 3:\n",
        "            print(self.check_balance())\n",
        "            self.menu()\n",
        "        elif self.choice == 4:\n",
        "            self.add_money()\n",
        "            self.menu()\n",
        "        elif self.choice == 5:\n",
        "            print(self.withdraw_money())\n",
        "            self.menu()\n",
        "        elif self.choice == 6:\n",
        "            print(\"The program is exited successfully..........\")\n",
        "        else:\n",
        "            print(\"Bad try choose again !\")\n",
        "            self.menu()\n",
        "\n",
        "    def create_pin(self):\n",
        "\n",
        "        if self.PIN is None:\n",
        "             self.PIN = input(\"Enter your PIN: \")\n",
        "             return \"PIN created successfully\"\n",
        "        else:\n",
        "             return \"PIN already exists\"\n",
        "\n",
        "\n",
        "    def reset_pin(self):\n",
        "       old_PIN = input(\"Enter existing PIN: \")\n",
        "\n",
        "       if old_PIN == self.PIN and self.PIN is not None:\n",
        "           self.PIN = input(\"Enter your new PIN: \")\n",
        "           while old_PIN == self.PIN:\n",
        "              self.PIN =  input(\"This is your old PIN try with a new PIN: \")\n",
        "           return 'PIN reset successfully'\n",
        "       else:\n",
        "           return 'PIN not matched'\n",
        "\n",
        "\n",
        "\n",
        "    def check_balance(self):\n",
        "\n",
        "        if self.PIN == input(\"Enter PIN: \"):\n",
        "            return f'Your current balance is {self.Balance}'\n",
        "        else:\n",
        "            return \"PIN not matched\"\n",
        "\n",
        "    def add_money(self):\n",
        "        money = int(input(\"Enter the amount you want to deposit: \"))\n",
        "        self.Balance = self.Balance + money\n",
        "\n",
        "\n",
        "    def withdraw_money(self):\n",
        "\n",
        "        if self.PIN == input(\"Enter your PIN: \"):\n",
        "            if self.Balance != 0:\n",
        "                amount = int(input(\"Enter the amount you want to withdraw: \"))\n",
        "                if amount <= self.Balance:\n",
        "                    self.Balance = self.Balance - amount\n",
        "                else:\n",
        "                    return \"You don't have that much of money\"\n",
        "            else:\n",
        "               return \"Your balance is 0 please recharge!!!\"\n",
        "        else:\n",
        "            return 'PIN not matched try again!!!'\n",
        "\n",
        "\n",
        "obj = ATM()"
      ],
      "metadata": {
        "colab": {
          "base_uri": "https://localhost:8080/"
        },
        "id": "YVULubZezjW_",
        "outputId": "feb75e8c-31ad-4eed-f337-9938341a5d15"
      },
      "execution_count": null,
      "outputs": [
        {
          "output_type": "stream",
          "name": "stdout",
          "text": [
            " 1. Create Pin \n",
            " 2. Reset Pin \n",
            " 3. Check Balance \n",
            " 4. Add balance \n",
            " 5. Remove balance \n",
            " 6. Exit\n",
            "Enter your choice: 1\n",
            "Enter your PIN: 24102002\n",
            "PIN created successfully\n",
            " 1. Create Pin \n",
            " 2. Reset Pin \n",
            " 3. Check Balance \n",
            " 4. Add balance \n",
            " 5. Remove balance \n",
            " 6. Exit\n",
            "Enter your choice: 3\n",
            "Enter PIN: 24102002\n",
            "Your current balance is 0\n",
            " 1. Create Pin \n",
            " 2. Reset Pin \n",
            " 3. Check Balance \n",
            " 4. Add balance \n",
            " 5. Remove balance \n",
            " 6. Exit\n",
            "Enter your choice: 4\n",
            "Enter the amount you want to deposit: 500\n",
            " 1. Create Pin \n",
            " 2. Reset Pin \n",
            " 3. Check Balance \n",
            " 4. Add balance \n",
            " 5. Remove balance \n",
            " 6. Exit\n",
            "Enter your choice: 5\n",
            "Enter your PIN: 24102002\n",
            "Enter the amount you want to withdraw: 800\n",
            " 1. Create Pin \n",
            " 2. Reset Pin \n",
            " 3. Check Balance \n",
            " 4. Add balance \n",
            " 5. Remove balance \n",
            " 6. Exit\n",
            "Enter your choice: 3\n",
            "Enter PIN: 24102002\n",
            "Your current balance is 500\n",
            " 1. Create Pin \n",
            " 2. Reset Pin \n",
            " 3. Check Balance \n",
            " 4. Add balance \n",
            " 5. Remove balance \n",
            " 6. Exit\n",
            "Enter your choice: 6\n",
            "The program is exited successfully..........\n"
          ]
        }
      ]
    },
    {
      "cell_type": "markdown",
      "source": [
        "## Methods v/s Functions\n",
        "\n",
        "If functions are written in classes then it is called methods and if functions are written outside of the class then it is called function.\n",
        "\n",
        "Example:\n",
        "```python\n",
        "L = [1,2,3]\n",
        "len(L) # <- It is function\n",
        "L.append(4) # <- It is method\n",
        "```"
      ],
      "metadata": {
        "id": "Ktklg_Km1PvH"
      }
    },
    {
      "cell_type": "code",
      "source": [
        "L = [1,2,3]\n",
        "len(L) # <- It is function\n",
        "L.append(4) # <- It is method\n",
        "print(L)"
      ],
      "metadata": {
        "colab": {
          "base_uri": "https://localhost:8080/"
        },
        "id": "vkte47Td8BPX",
        "outputId": "66f0d400-637c-4349-e11a-b334d3087b89"
      },
      "execution_count": null,
      "outputs": [
        {
          "output_type": "stream",
          "name": "stdout",
          "text": [
            "[1, 2, 3, 4]\n"
          ]
        }
      ]
    },
    {
      "cell_type": "markdown",
      "source": [
        "# Magic Methods a.k.a Dunder Method\n",
        "\n",
        "It is a spacial kind method which has some spacial ability, it genarally looks like,\n",
        "\n",
        "```python\n",
        "__MethodName__():\n",
        "```\n",
        "\n",
        "If any thing sported like this then it will be considered as magic method.\n",
        "\n",
        "Example:\n",
        "\n",
        "```python\n",
        "__init__():\n",
        "```\n",
        "It is also a magic method it's spacial ability is to execute aumatically without calling, We know this method as costructor.\n",
        "\n",
        "\n",
        "```python\n",
        "__str__():\n",
        "```\n",
        "It is a magic method it ablity is to tell the program how a user defind object should look like. This always return things.\n",
        "\n",
        "```python\n",
        "__add__():\n",
        "```\n",
        "It is a magic method and super power is to trigger whenever user try to add two objects it needs multiple objects as input.\n",
        "\n",
        "```python\n",
        "__sub__():\n",
        "```\n",
        "It is a magic method and super power is to trigger whenever user try to subtract two objects it needs multiple objects as input.\n",
        "\n",
        "```python\n",
        "__mul__():\n",
        "```\n",
        "It is a magic method and super power is to trigger whenever user try to multiply two objects it needs multiple objects as input.\n",
        "\n",
        "```python\n",
        "__truediv__():\n",
        "```\n",
        "It is a magic method and super power is to trigger whenever user try to devide two objects it needs multiple objects as input."
      ],
      "metadata": {
        "id": "tTrr68On-PRX"
      }
    },
    {
      "cell_type": "markdown",
      "source": [
        "### Self Keyword\n",
        "\n",
        "Before knowing the self keyword we have to know that the propertits and meathods are only and only accessed by the object.\n",
        "\n",
        "And that ```self``` keyword is acted as that current object which is now accessing the class.\n",
        "\n",
        "**Self** is nothing but the current object instance which currently using that class.\n",
        "\n",
        "lets prove it by a program by printing id of self and the current object."
      ],
      "metadata": {
        "id": "ti6wgWabuGoL"
      }
    },
    {
      "cell_type": "code",
      "source": [
        "class Test:\n",
        "  def __init__(self):\n",
        "    print(id(self))\n",
        "\n",
        "obj = Test()\n",
        "print(id(obj))"
      ],
      "metadata": {
        "colab": {
          "base_uri": "https://localhost:8080/"
        },
        "id": "JsK3TSvT19yg",
        "outputId": "2cdb7893-689d-4035-f11c-63b5aa3b42c8"
      },
      "execution_count": null,
      "outputs": [
        {
          "output_type": "stream",
          "name": "stdout",
          "text": [
            "138801937731200\n",
            "138801937731200\n"
          ]
        }
      ]
    },
    {
      "cell_type": "markdown",
      "source": [
        "as we can see that both are pointing so the same address that means self = obj.\n",
        "\n",
        "But now the question is why we need self into out class,\n",
        "\n",
        "As we all know that only object can use the meterials in class, but there can create many senarios where the methods also needs to comunicate itselves so to takle thease kinds of problems we inside the object in the form of self that intra communication can happen fruitfully."
      ],
      "metadata": {
        "id": "393F_p4G3N-w"
      }
    },
    {
      "cell_type": "markdown",
      "source": [
        "##Lets create a fraction datatype\n",
        "\n",
        "###Example:\n",
        "Input: 2 3\n",
        "Output: 2/3"
      ],
      "metadata": {
        "id": "QJF1zSGgXA5A"
      }
    },
    {
      "cell_type": "code",
      "source": [
        "class Fraction:\n",
        "    def __init__(self,x,y):\n",
        "        self.numerator = x\n",
        "        self.denominator = y\n",
        "\n",
        "    def __str__(self):\n",
        "        return f'{self.numerator}/{self.denominator}'\n",
        "\n",
        "a1 = Fraction(int(input(\"Enter the numerator: \")), int(input(\"Enter the denominator: \")))\n",
        "\n",
        "print(a1)"
      ],
      "metadata": {
        "colab": {
          "base_uri": "https://localhost:8080/"
        },
        "id": "QDon0aTSY6ZT",
        "outputId": "4c7d1e06-05c6-4c63-e590-e97e9090175d"
      },
      "execution_count": null,
      "outputs": [
        {
          "output_type": "stream",
          "name": "stdout",
          "text": [
            "Enter the numerator: 2\n",
            "Enter the denominator: 3\n",
            "2/3\n"
          ]
        }
      ]
    },
    {
      "cell_type": "markdown",
      "source": [
        "### ADD a __add__() function\n",
        "\n",
        "It takes two objects and adds it."
      ],
      "metadata": {
        "id": "uN_ecrMLqz3m"
      }
    },
    {
      "cell_type": "code",
      "source": [
        "class Fraction:\n",
        "    def __init__(self,x,y):\n",
        "        self.numerator = x\n",
        "        self.denominator = y\n",
        "\n",
        "    def __str__(self):\n",
        "        return f'{self.numerator}/{self.denominator}'\n",
        "\n",
        "    def __add__(self, other):\n",
        "        numerator = self.numerator*other.denominator + other.numerator*self.denominator\n",
        "        denominator = self.denominator * other.denominator\n",
        "\n",
        "        return f'{numerator}/{denominator}'\n",
        "\n",
        "\n",
        "\n",
        "a1 = Fraction(int(input(\"Enter the numerator: \")), int(input(\"Enter the denominator: \")))\n",
        "a2 = Fraction(int(input(\"Enter the numerator: \")), int(input(\"Enter the denominator: \")))\n",
        "\n",
        "print(a1+a2)\n"
      ],
      "metadata": {
        "colab": {
          "base_uri": "https://localhost:8080/"
        },
        "id": "aDAFOBVUrEUg",
        "outputId": "7440b5e1-901a-441d-eba3-33134375612f"
      },
      "execution_count": null,
      "outputs": [
        {
          "output_type": "stream",
          "name": "stdout",
          "text": [
            "Enter the numerator: 2\n",
            "Enter the denominator: 3\n",
            "Enter the numerator: 5\n",
            "Enter the denominator: 8\n",
            "31/24\n"
          ]
        }
      ]
    },
    {
      "cell_type": "markdown",
      "source": [
        "### ADD a __sub__() function\n",
        "\n",
        "It takes two objects and subtracts it."
      ],
      "metadata": {
        "id": "DnRm_5aTrx1x"
      }
    },
    {
      "cell_type": "code",
      "source": [
        "class Fraction:\n",
        "    def __init__(self,x,y):\n",
        "        self.numerator = x\n",
        "        self.denominator = y\n",
        "\n",
        "    def __str__(self):\n",
        "        return f'{self.numerator}/{self.denominator}'\n",
        "\n",
        "\n",
        "\n",
        "    def __sub__(self, other):\n",
        "        numerator = self.numerator * other.denominator - other.numerator * self.denominator\n",
        "        denominator = self.denominator * other.denominator\n",
        "\n",
        "        return f'{numerator}/{denominator}'\n",
        "\n",
        "\n",
        "\n",
        "a1 = Fraction(int(input(\"Enter the numerator: \")), int(input(\"Enter the denominator: \")))\n",
        "a2 = Fraction(int(input(\"Enter the numerator: \")), int(input(\"Enter the denominator: \")))\n",
        "\n",
        "print(a1-a2)"
      ],
      "metadata": {
        "colab": {
          "base_uri": "https://localhost:8080/"
        },
        "id": "zxxRiMj5t9Ki",
        "outputId": "007c42d1-9311-4f99-9213-13f99025be2a"
      },
      "execution_count": null,
      "outputs": [
        {
          "output_type": "stream",
          "name": "stdout",
          "text": [
            "Enter the numerator: 4\n",
            "Enter the denominator: 5\n",
            "Enter the numerator: 1\n",
            "Enter the denominator: 2\n",
            "3/10\n"
          ]
        }
      ]
    },
    {
      "cell_type": "markdown",
      "source": [
        "### ADD a __mul__() function\n",
        "\n",
        "It takes two objects and multiplys it."
      ],
      "metadata": {
        "id": "Jv6Aewi3uaau"
      }
    },
    {
      "cell_type": "code",
      "source": [
        "class Fraction:\n",
        "    def __init__(self,x,y):\n",
        "        self.numerator = x\n",
        "        self.denominator = y\n",
        "\n",
        "    def __str__(self):\n",
        "        return f'{self.numerator}/{self.denominator}'\n",
        "\n",
        "\n",
        "\n",
        "    def __mul__(self, other):\n",
        "        numerator = self.numerator * other.numerator\n",
        "        denominator = self.denominator * other.denominator\n",
        "\n",
        "        return f'{numerator}/{denominator}'\n",
        "\n",
        "\n",
        "\n",
        "a1 = Fraction(int(input(\"Enter the numerator: \")), int(input(\"Enter the denominator: \")))\n",
        "a2 = Fraction(int(input(\"Enter the numerator: \")), int(input(\"Enter the denominator: \")))\n",
        "\n",
        "print(a1 * a2)"
      ],
      "metadata": {
        "id": "k9UllhfLuovq"
      },
      "execution_count": null,
      "outputs": []
    },
    {
      "cell_type": "markdown",
      "source": [
        "##ADD a __truediv__()\n",
        "\n",
        "Takes two object and devides it."
      ],
      "metadata": {
        "id": "OdDlO3viFVOM"
      }
    },
    {
      "cell_type": "code",
      "source": [
        "class Fraction:\n",
        "    def __init__(self,x,y):\n",
        "        self.numerator = x\n",
        "        self.denominator = y\n",
        "\n",
        "    def __str__(self):\n",
        "        return f'{self.numerator}/{self.denominator}'\n",
        "\n",
        "\n",
        "\n",
        "    def __truediv__(self, other):\n",
        "        numerator = self.numerator * other.denominator\n",
        "        denominator = self.denominator * other.numerator\n",
        "\n",
        "        return f'{numerator}/{denominator}'\n",
        "\n",
        "\n",
        "\n",
        "a1 = Fraction(int(input(\"Enter the numerator: \")), int(input(\"Enter the denominator: \")))\n",
        "a2 = Fraction(int(input(\"Enter the numerator: \")), int(input(\"Enter the denominator: \")))\n",
        "\n",
        "print(a1 / a2)"
      ],
      "metadata": {
        "colab": {
          "base_uri": "https://localhost:8080/",
          "height": 0
        },
        "id": "SaMyeQm0Fll0",
        "outputId": "7d36a691-fd6c-4fda-b03f-86b80dea723f"
      },
      "execution_count": 1,
      "outputs": [
        {
          "output_type": "stream",
          "name": "stdout",
          "text": [
            "Enter the numerator: 1\n",
            "Enter the denominator: 2\n",
            "Enter the numerator: 1\n",
            "Enter the denominator: 2\n",
            "2/2\n"
          ]
        }
      ]
    }
  ]
}