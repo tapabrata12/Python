{
  "nbformat": 4,
  "nbformat_minor": 0,
  "metadata": {
    "colab": {
      "provenance": []
    },
    "kernelspec": {
      "name": "python3",
      "display_name": "Python 3"
    },
    "language_info": {
      "name": "python"
    }
  },
  "cells": [
    {
      "cell_type": "markdown",
      "source": [
        "# Conditions:\n",
        "- Just like the real well scenario condition says us that if this happened then I will do task 1 if this is not happen then I will do task 2.\n",
        "\n",
        "Example: If age is greater than or equal to 18 then you are permitted to drive a car if your age is less than 18 then you are not permitted to drive a car.\n",
        "\n",
        "Now we will see how to represent these kind of conditions in the world of python with hands on example here we will use a keyword called `if`, `else` and `elif` by using this keyword we will implement conditioner statements."
      ],
      "metadata": {
        "id": "PTRy4GYsF6Yu"
      }
    },
    {
      "cell_type": "code",
      "source": [
        "age = int(input(\"Enter your age: \"))\n",
        "\n",
        "if age >= 18:\n",
        "  print(\"You can drive.\")\n",
        "\n",
        "else:\n",
        "  print(\"You can't drive.\")"
      ],
      "metadata": {
        "colab": {
          "base_uri": "https://localhost:8080/"
        },
        "id": "4S0RqIpxG8a1",
        "outputId": "c1d7e2ec-1867-4901-cdd3-c7c2d57366db"
      },
      "execution_count": null,
      "outputs": [
        {
          "output_type": "stream",
          "name": "stdout",
          "text": [
            "Enter your age: 3\n",
            "You can't drive.\n"
          ]
        }
      ]
    },
    {
      "cell_type": "markdown",
      "source": [
        "Now from the above code snip it we we have to know some basic things.\n",
        "- After taking the value from the user after the if keyword we have to write some Boolean expression which is evaluated as true or false and by that Boolean expression program can determined which expression it have to execute.\n",
        "\n",
        "- That `else` block itself has no existence it always comes with `if` block all though this is not same for `if` block that `if` block can be in existence in single it is not dependent on `else` block.\n",
        "- For writing these kind of conditions one thing is most important is indentations or in simple wart we can called spaces in Python we have no curly braces to denote what conditions under in which keyword in Python we use indentation so making proper indentation is the most important thing or the program may malfunctions.\n",
        "\n",
        "Now we are going to look another example by this example we will see the use of `elif` keyword."
      ],
      "metadata": {
        "id": "YGIpikzfKBDI"
      }
    },
    {
      "cell_type": "code",
      "source": [
        "age = int(input(\"Enter your age: \"))\n",
        "\n",
        "if age > 18:\n",
        "  print(\"Your age is greater than 18\")\n",
        "\n",
        "elif age == 18:\n",
        "  print(\"Your age is 18\")\n",
        "\n",
        "else:\n",
        "  print(\"Your age is less than 18\")"
      ],
      "metadata": {
        "colab": {
          "base_uri": "https://localhost:8080/"
        },
        "id": "rTVdV0OHLuDS",
        "outputId": "a26d1a01-4122-462e-d692-543abe14a5fa"
      },
      "execution_count": null,
      "outputs": [
        {
          "output_type": "stream",
          "name": "stdout",
          "text": [
            "Enter your age: 18\n",
            "Your age is 18\n"
          ]
        }
      ]
    },
    {
      "cell_type": "markdown",
      "source": [
        "From this code snippet we can see the use of `elif` statement sometimes just writing if or else is not enough we have to write multiple conditions in that case that keyword comes very handy. Apart from that all thing are similar in that keyword we also have to write that bullion expression which evaluates as true or false."
      ],
      "metadata": {
        "id": "Srn-7e4_MdLb"
      }
    },
    {
      "cell_type": "markdown",
      "source": [
        "### Truly values:\n",
        "\n",
        "In Python, a \"truthy\" value is any value that is considered \"True\" when evaluated in a conditional statement, even if it's not explicitly the boolean `True`.\n",
        "\n",
        "For example:\n",
        "- Non-zero numbers (like `1`, `-5`, `3.14`) are truthy.\n",
        "- Non-empty strings (like `\"hello\"` or `\" \"`) are truthy.\n",
        "- Non-empty lists, tuples, sets, and dictionaries (like `[1, 2]`, `(3, 4)`, `{\"key\": \"value\"}`) are truthy."
      ],
      "metadata": {
        "id": "QuJHDMYHOsN3"
      }
    },
    {
      "cell_type": "code",
      "source": [
        "if \"hello\":\n",
        "    print(\"This is truthy!\")"
      ],
      "metadata": {
        "colab": {
          "base_uri": "https://localhost:8080/"
        },
        "id": "xKyKycMFPQQO",
        "outputId": "91bf5398-0abd-48a9-a7ff-0588bd49150a"
      },
      "execution_count": null,
      "outputs": [
        {
          "output_type": "stream",
          "name": "stdout",
          "text": [
            "This is truthy!\n"
          ]
        }
      ]
    },
    {
      "cell_type": "markdown",
      "source": [
        "In this case, the string \"hello\" is truthy, so the message \"This is truthy!\" will be printed. Even though \"hello\" isn't explicitly True, Python treats it as a true value in the conditional statement."
      ],
      "metadata": {
        "id": "FRkk67rYPWEv"
      }
    },
    {
      "cell_type": "code",
      "source": [
        "truthy_values = [True, 1, -1, 0.1, \"hello\", [1, 2], (3, 4), {5, 6}, {\"a\": 1}]\n",
        "\n",
        "for value in truthy_values: # This is loop will discuss later\n",
        "    if value:\n",
        "        print(f\"{value} is truthy\")"
      ],
      "metadata": {
        "colab": {
          "base_uri": "https://localhost:8080/"
        },
        "id": "nGzaO-u_QZPC",
        "outputId": "a84b04ab-e299-4d47-df89-ed44bca896bd"
      },
      "execution_count": null,
      "outputs": [
        {
          "output_type": "stream",
          "name": "stdout",
          "text": [
            "True is truthy\n",
            "1 is truthy\n",
            "-1 is truthy\n",
            "0.1 is truthy\n",
            "hello is truthy\n",
            "[1, 2] is truthy\n",
            "(3, 4) is truthy\n",
            "{5, 6} is truthy\n",
            "{'a': 1} is truthy\n"
          ]
        }
      ]
    },
    {
      "cell_type": "code",
      "source": [
        "name = \"Alice\"\n",
        "\n",
        "if name:\n",
        "    print(\"The name is provided.\")\n",
        "else:\n",
        "    print(\"No name provided.\")"
      ],
      "metadata": {
        "colab": {
          "base_uri": "https://localhost:8080/"
        },
        "id": "5Iw7NO_yQi5M",
        "outputId": "b70870f0-5cd4-4e11-d90b-c4e3ac849103"
      },
      "execution_count": null,
      "outputs": [
        {
          "output_type": "stream",
          "name": "stdout",
          "text": [
            "The name is provided.\n"
          ]
        }
      ]
    },
    {
      "cell_type": "markdown",
      "source": [
        "### Falsely values:\n",
        "In Python, \"falsy\" values are those that are considered `False` when evaluated in a conditional statement, even if they aren't explicitly the boolean `False`.\n",
        "\n",
        "Some common falsy values include:\n",
        "- The boolean `False`\n",
        "- The number `0`\n",
        "- `None` (which represents the absence of a value)\n",
        "- Empty sequences and collections, such as:\n",
        "  - An empty string: `\"\"`\n",
        "  - An empty list: `[]`\n",
        "  - An empty tuple: `()`\n",
        "  - An empty set: `set()`\n",
        "  - An empty dictionary: `{}`\n",
        "\n",
        "Here's an example:"
      ],
      "metadata": {
        "id": "sh6Rg9jVPveX"
      }
    },
    {
      "cell_type": "code",
      "source": [
        "if not 0:\n",
        "    print(\"This is falsy!\")"
      ],
      "metadata": {
        "colab": {
          "base_uri": "https://localhost:8080/"
        },
        "id": "0T4QpkJMQHIe",
        "outputId": "427d4967-f944-4ced-ab2c-8b456e7d2570"
      },
      "execution_count": null,
      "outputs": [
        {
          "output_type": "stream",
          "name": "stdout",
          "text": [
            "This is falsy!\n"
          ]
        }
      ]
    },
    {
      "cell_type": "markdown",
      "source": [
        "\n",
        "In this case, the number `0` is falsy, so the condition `not 0` is `True`, and the message \"This is falsy!\" will be printed. Essentially, any time a falsy value is used in a conditional context, it behaves as if it were `False`."
      ],
      "metadata": {
        "id": "B6fLyOsiREDz"
      }
    },
    {
      "cell_type": "code",
      "source": [
        "falsy_values = [False, 0, None, \"\", [], (), set(), {}]\n",
        "\n",
        "for value in falsy_values:\n",
        "    if not value:\n",
        "        print(f\"{value} is falsy\")"
      ],
      "metadata": {
        "colab": {
          "base_uri": "https://localhost:8080/"
        },
        "id": "7TxtqHbOQrlj",
        "outputId": "11d74350-f552-4ab6-91c2-fffdff546b32"
      },
      "execution_count": null,
      "outputs": [
        {
          "output_type": "stream",
          "name": "stdout",
          "text": [
            "False is falsy\n",
            "0 is falsy\n",
            "None is falsy\n",
            " is falsy\n",
            "[] is falsy\n",
            "() is falsy\n",
            "set() is falsy\n",
            "{} is falsy\n"
          ]
        }
      ]
    },
    {
      "cell_type": "code",
      "source": [
        "items = []\n",
        "\n",
        "if items:\n",
        "    print(\"The list has items.\")\n",
        "else:\n",
        "    print(\"The list is empty.\")"
      ],
      "metadata": {
        "colab": {
          "base_uri": "https://localhost:8080/"
        },
        "id": "LQ1dtHSXQyDq",
        "outputId": "9a7bdf59-86a8-49f0-e8fc-3fb0841d1dd7"
      },
      "execution_count": null,
      "outputs": [
        {
          "output_type": "stream",
          "name": "stdout",
          "text": [
            "The list is empty.\n"
          ]
        }
      ]
    },
    {
      "cell_type": "code",
      "source": [
        "data = None\n",
        "\n",
        "if data is None:\n",
        "    print(\"No data available.\")\n",
        "else:\n",
        "    print(\"Data is available.\")"
      ],
      "metadata": {
        "colab": {
          "base_uri": "https://localhost:8080/"
        },
        "id": "4pSP4gI6Q2Wc",
        "outputId": "ae89940e-0314-4834-c6e7-433939df1aa5"
      },
      "execution_count": null,
      "outputs": [
        {
          "output_type": "stream",
          "name": "stdout",
          "text": [
            "No data available.\n"
          ]
        }
      ]
    },
    {
      "cell_type": "markdown",
      "source": [
        "## Nested conditions:\n",
        "Nested conditions in Python refer to placing one conditional statement inside another. This allows you to check multiple conditions and execute specific blocks of code based on more complex criteria. Here's a simple explanation with an example:\n",
        "\n",
        "### Key Points About Nested Conditions\n",
        "1. **Indentation Matters**: Python uses indentation to define the scope of conditions. Nested conditions should be properly indented to indicate they are inside another block.\n",
        "2. **Execution Flow**: The outer condition is evaluated first. If it is `True`, the inner condition(s) are checked. If any of the conditions fail, the program may jump to an `else` or `elif` block.\n",
        "3. **Readability**: Deeply nested conditions can become hard to read. It's good practice to limit nesting or refactor code for clarity.\n",
        "\n",
        "### Example: Determining Activity Based on Weather and Temperature"
      ],
      "metadata": {
        "id": "2WrJ9b3KS60y"
      }
    },
    {
      "cell_type": "code",
      "source": [
        "weather = input(\"Enter conditions: \")\n",
        "temperature = int(input(\"Enter temparature in celcius: \"))  # Convert input to integer\n",
        "\n",
        "if weather == \"sunny\":\n",
        "    if temperature > 30:\n",
        "        print(\"It's a modarate day for the beach!\")\n",
        "    else:\n",
        "        print(\"Perfect weather for a walk in the park.\")\n",
        "elif weather == \"rainy\":\n",
        "    if temperature < 15:\n",
        "        print(\"It's cold and rainy, better stay inside.\")\n",
        "    else:\n",
        "        print(\"A good day for reading a book indoors.\")\n",
        "else:\n",
        "    print(\"Weather conditions are unclear. Stay prepared for anything!\")"
      ],
      "metadata": {
        "colab": {
          "base_uri": "https://localhost:8080/"
        },
        "id": "RtOgCNkvTFef",
        "outputId": "55ce9075-ef02-458e-abe4-4845279eeb58"
      },
      "execution_count": 10,
      "outputs": [
        {
          "output_type": "stream",
          "name": "stdout",
          "text": [
            "Enter conditions: rainy\n",
            "Enter temparature in celcius: 2\n",
            "It's cold and rainy, better stay inside.\n"
          ]
        }
      ]
    },
    {
      "cell_type": "markdown",
      "source": [
        "\n",
        "### Explanation\n",
        "- **Outer Condition (`if weather == \"sunny\"`)**: This checks if the weather is sunny. If true, it enters the block.\n",
        "- **Inner Condition (`if temperature > 25`)**: This checks the temperature if the weather is sunny. Depending on the temperature, it suggests going to the beach or for a walk.\n",
        "- **`elif weather == \"rainy\"`**: This checks if the weather is rainy, with a nested condition checking the temperature to decide whether to stay inside.\n",
        "- **`else` Block**: This handles any other weather conditions that aren't sunny or rainy.\n",
        "\n",
        "### Practical Considerations\n",
        "- **Use Nested Conditions When**: You have to check multiple related criteria that depend on each other.\n",
        "- **Avoid Deep Nesting**: If conditions get too complex, consider breaking them into functions or using logical operators (`and`, `or`) to combine conditions.\n",
        "\n",
        "Nested conditions are a powerful tool in programming, allowing for complex decision-making. However, it's crucial to use them judiciously to maintain code readability and simplicity."
      ],
      "metadata": {
        "id": "hH1nn6gFTYgZ"
      }
    },
    {
      "cell_type": "markdown",
      "source": [
        "##Ternary Operator:\n",
        "\n",
        "In Python, the ternary operator is a shorthand way of writing an if-else statement. It allows you to assign a value based on a condition in a single line. The syntax is:\n",
        "\n",
        "```python\n",
        "value_if_true if condition else value_if_false\n",
        "```\n",
        "\n",
        "Here's a simple example:"
      ],
      "metadata": {
        "id": "LPdD7s49T0NN"
      }
    },
    {
      "cell_type": "code",
      "source": [
        "age = int(input(\"Enter age: \"))\n",
        "status = \"Adult\" if age >= 18 else \"Minor\"\n",
        "print(status)"
      ],
      "metadata": {
        "colab": {
          "base_uri": "https://localhost:8080/"
        },
        "id": "xuj8noi_U0eQ",
        "outputId": "d3d34951-1734-46c4-9e0d-5e98debf6b90"
      },
      "execution_count": null,
      "outputs": [
        {
          "output_type": "stream",
          "name": "stdout",
          "text": [
            "Enter age: 4\n",
            "Minor\n"
          ]
        }
      ]
    },
    {
      "cell_type": "markdown",
      "source": [
        "\n",
        "In this example, the variable `status` will be set to `\"Adult\"` if `age` is 18 or older; otherwise, it will be set to `\"Minor\"`. The ternary operator makes the code more concise compared to using a full if-else statement."
      ],
      "metadata": {
        "id": "fxCiSzCsVOT3"
      }
    },
    {
      "cell_type": "markdown",
      "source": [
        "## Switch Statement:\n",
        "\n",
        "In Python for handling conditions we have one more concept called **Match and case statement** (Specially in C language we called it switch statement).\n",
        "\n",
        "The `match` statement in Python is used for pattern matching, allowing you to compare a value against a set of patterns and execute code based on which pattern matches. Here are the key points:\n",
        "\n",
        "1. **Pattern Matching**: `match` allows for matching a value against multiple patterns, similar to switch-case in other languages but more powerful.\n",
        "\n",
        "2. **Syntax**: Starts with the `match` keyword followed by the value to match, then uses `case` clauses to define patterns and corresponding actions.\n",
        "\n",
        "3. **Patterns**: Patterns can be literals, sequences, mappings, class instances, and more, providing a flexible way to specify conditions.\n",
        "\n",
        "4. **Guards**: `case` clauses can include guard expressions with an `if` condition to further refine when a match is successful.\n",
        "\n",
        "5. **Use Cases**: Useful for complex data deconstruction, handling different data types, and more readable and maintainable code.\n",
        "\n",
        "This feature was introduced in Python 3.10.\n",
        "\n",
        "Now let's see some example:"
      ],
      "metadata": {
        "id": "V2Y98LpPVrdL"
      }
    },
    {
      "cell_type": "code",
      "source": [
        "# This is a program which tells the day.\n",
        "\n",
        "Day = int(input(\"Enter the day number: \"))\n",
        "\n",
        "match Day:\n",
        "  case 1: print(\"Sunday\")\n",
        "  case 2: print(\"Monday\")\n",
        "  case 3: print(\"Tuesday\")\n",
        "  case 4: print(\"Wednesday\")\n",
        "  case 5: print(\"Thursday\")\n",
        "  case 6: print(\"Friday\")\n",
        "  case 7: print(\"Saturday\")\n",
        "# if the user gives an invalid the number then there should be a default code which always ready for running in that case\n",
        "  case _: print(\"Invalid day number\")"
      ],
      "metadata": {
        "id": "yQmPNqN_YhLW",
        "colab": {
          "base_uri": "https://localhost:8080/"
        },
        "outputId": "bc575480-d84c-47fa-d2f9-ed73d5036d09"
      },
      "execution_count": null,
      "outputs": [
        {
          "output_type": "stream",
          "name": "stdout",
          "text": [
            "Enter the day number: 55\n",
            "Invalid day number\n"
          ]
        }
      ]
    },
    {
      "cell_type": "markdown",
      "source": [
        "Here are some little thing to know about that default case of python which we will understand by showing some example code snippet. At first let's write a small program and after that I will show some interesting things."
      ],
      "metadata": {
        "id": "Uen7ozKKd79_"
      }
    },
    {
      "cell_type": "code",
      "source": [
        "num = int(input(\"Enter number: \"))\n",
        "\n",
        "match num:\n",
        "  case 1: print(\"One\")\n",
        "  case 2: print(\"Two\")\n",
        "  case 3: print(\"Three\")\n",
        "  case _: print(\"No number found from the above options\")"
      ],
      "metadata": {
        "colab": {
          "base_uri": "https://localhost:8080/"
        },
        "id": "4rXMhdiLsr_G",
        "outputId": "eaefc023-da9d-4dc7-bbe2-fca9df0b9333"
      },
      "execution_count": null,
      "outputs": [
        {
          "output_type": "stream",
          "name": "stdout",
          "text": [
            "Enter number: 3\n",
            "Three\n"
          ]
        }
      ]
    },
    {
      "cell_type": "markdown",
      "source": [
        "Now from this program I want to teach you a interesting thing.\n",
        "\n",
        "- we can also use multiple default cases with if else statement."
      ],
      "metadata": {
        "id": "mY9NcBSFtWrS"
      }
    },
    {
      "cell_type": "code",
      "source": [
        "num = int(input(\"Enter number: \"))\n",
        "\n",
        "match num:\n",
        "  case 1: print(\"One\")\n",
        "  case 2: print(\"Two\")\n",
        "  case 3: print(\"Three\")\n",
        "  case _ if num % 11 == 0: print(num,\"Primary default case executed\")\n",
        "  case _: print(\"No number found from the above options\")"
      ],
      "metadata": {
        "colab": {
          "base_uri": "https://localhost:8080/"
        },
        "id": "xBTH53dptk4-",
        "outputId": "67bed86f-d57d-482f-b5b9-9cc095eb54ab"
      },
      "execution_count": null,
      "outputs": [
        {
          "output_type": "stream",
          "name": "stdout",
          "text": [
            "Enter number: 22\n",
            "22 Primary default case executed\n"
          ]
        }
      ]
    },
    {
      "cell_type": "markdown",
      "source": [
        "So through this way we can write multiple default cases with if else conditions."
      ],
      "metadata": {
        "id": "acKjVL3xvGuL"
      }
    }
  ]
}